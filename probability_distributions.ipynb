{
 "cells": [
  {
   "cell_type": "code",
   "execution_count": 1,
   "id": "a41de9d1",
   "metadata": {},
   "outputs": [
    {
     "ename": "NameError",
     "evalue": "name 'stats' is not defined",
     "output_type": "error",
     "traceback": [
      "\u001b[0;31m---------------------------------------------------------------------------\u001b[0m",
      "\u001b[0;31mNameError\u001b[0m                                 Traceback (most recent call last)",
      "Cell \u001b[0;32mIn[1], line 1\u001b[0m\n\u001b[0;32m----> 1\u001b[0m a \u001b[38;5;241m=\u001b[39m stats\u001b[38;5;241m.\u001b[39mrandint(\u001b[38;5;241m1\u001b[39m,\u001b[38;5;241m7\u001b[39m)\n\u001b[1;32m      2\u001b[0m a\u001b[38;5;241m.\u001b[39mrvs(\u001b[38;5;241m5\u001b[39m) \u001b[38;5;66;03m#5 means 5 values will be generated\u001b[39;00m\n\u001b[1;32m      3\u001b[0m a\u001b[38;5;241m.\u001b[39mrvs((\u001b[38;5;241m5\u001b[39m,\u001b[38;5;241m3\u001b[39m))\n",
      "\u001b[0;31mNameError\u001b[0m: name 'stats' is not defined"
     ]
    }
   ],
   "source": [
    "a = stats.randint(1,7)\n",
    "a.rvs(5) #5 means 5 values will be generated\n",
    "a.rvs((5,3)) #5 rows 3 columns"
   ]
  },
  {
   "cell_type": "markdown",
   "id": "7a0d277c",
   "metadata": {},
   "source": [
    "# Random Distribution\n",
    "\n",
    "a.pmf(1) # discrete. probability mass function. Whats the PROBABILITY for getting = 1?\n",
    "a.pdf(1) # continuous. PROBABILITY\n",
    "\n",
    "a.cdf(3) # discrete. cumulative distribution function. PROBABILITY for <= 1 ?\n",
    "a.ppf(0.5) #continuous. percent point function. VALUES that have a chance of <= 0.5 to get?\n",
    "\n",
    "a.sf(3) # survival function (1-cdf). whats the PROBABILITY of getting >= 3?\n",
    "a.isf(0.5) #inverse survival function (1-ppf). there is a 0.5 chance a dice roll will be higher than what VALUE?\n"
   ]
  },
  {
   "cell_type": "markdown",
   "id": "c9e2d418",
   "metadata": {},
   "source": [
    "# Binomial Distribution - each trial is independent\n",
    "\n",
    "stats.binom(30, .25).sf(10) # 30 is # of trials, 0.25 is success rate per trial\n",
    "stats.binom(20, .95).pmf(20) # 20 is # of student, 0.95 is sucess rate for being on time\n"
   ]
  },
  {
   "cell_type": "markdown",
   "id": "840baef3",
   "metadata": {},
   "source": [
    "# Normal Distribution \n",
    "- continuous random variables; further from mean, lesser the probability\n",
    "- Standard Normal Distribution: mean = 0 , std = 1\n",
    "\n",
    "stats.norm(12000, 2000) # 12000 is mean, 2000 is std\n",
    "stats.norm(12000, 2000).ppf(0.9) # the amount of sales have to be in order to be the top 10%\n",
    "stats.norm(12000, 2000).isf(0.1) # another way for the top 10%\n"
   ]
  },
  {
   "cell_type": "markdown",
   "id": "fc572205",
   "metadata": {},
   "source": [
    "# Poisson Distribution\n",
    "\n",
    "- number of events happen over a time period. events are discrete and independent.\n",
    "\n",
    "stats.poisson(5).pmf(3) # consume ON AVERAGE 5lbs of coffee, what is the probability to consume 3lbs?\n",
    "stats.poisson(5).sf(7) # whats the probability of consuming more than 7lbs?\n"
   ]
  },
  {
   "cell_type": "markdown",
   "id": "6b202a91",
   "metadata": {},
   "source": [
    "# 1\n",
    "A bank found that the average number of cars waiting during the noon hour at a drive-up window follows a Poisson distribution with a mean of 2 cars. Make a chart of this distribution and answer these questions concerning the probability of cars waiting at the drive-up window.\n",
    "\n",
    "- What is the probability that no cars drive up in the noon hour?\n",
    "- What is the probability that 3 or more cars come through the drive through?\n",
    "- How likely is it that the drive through gets at least 1 car?"
   ]
  },
  {
   "cell_type": "code",
   "execution_count": 5,
   "id": "6c7b152b",
   "metadata": {},
   "outputs": [],
   "source": [
    "import matplotlib.pyplot as plt\n",
    "import numpy as np\n",
    "import pandas as pd\n",
    "from scipy import stats"
   ]
  },
  {
   "cell_type": "code",
   "execution_count": null,
   "id": "a04413d1",
   "metadata": {},
   "outputs": [],
   "source": [
    "#  the probability that no cars drive up in the noon hour?\n",
    "stats.poisson(2).pmf(0)"
   ]
  },
  {
   "cell_type": "code",
   "execution_count": null,
   "id": "c64e5b97",
   "metadata": {},
   "outputs": [],
   "source": [
    "# the probability that 3 or more cars come through the drive through?\n",
    "stats.poisson(2).sf(3)"
   ]
  },
  {
   "cell_type": "code",
   "execution_count": null,
   "id": "4f081207",
   "metadata": {},
   "outputs": [],
   "source": [
    "# How likely is it that the drive through gets at least 1 car?\n",
    "stats.poisson(2).sf(1)"
   ]
  },
  {
   "cell_type": "markdown",
   "id": "565d58a0",
   "metadata": {},
   "source": [
    "# 2 \n",
    "Grades of State University graduates are normally distributed with a mean of 3.0 and a standard deviation of .3. Calculate the following:\n",
    "\n",
    "- What grade point average is required to be in the top 5% of the graduating class?\n",
    "- What GPA constitutes the bottom 15% of the class?\n",
    "- An eccentric alumnus left scholarship money for students in the third decile from the bottom of their class. Determine the range of the third decile. Would a student with a 2.8 grade point average qualify for this scholarship?\n",
    "- If I have a GPA of 3.5, what percentile am I in?"
   ]
  },
  {
   "cell_type": "code",
   "execution_count": null,
   "id": "b9781599",
   "metadata": {},
   "outputs": [],
   "source": [
    "# What grade point average is required to be in the top 5% of the graduating class?\n",
    "stats.norm(3, 0.3).isf(0.05)"
   ]
  },
  {
   "cell_type": "code",
   "execution_count": null,
   "id": "47aac49e",
   "metadata": {},
   "outputs": [],
   "source": [
    "# What GPA constitutes the bottom 15% of the class?\n",
    "stats.norm(3,0.3).isf(0.85)"
   ]
  },
  {
   "cell_type": "code",
   "execution_count": null,
   "id": "0e63438d",
   "metadata": {},
   "outputs": [],
   "source": [
    "# Determine the range of the third decile\n",
    "print(stats.norm(3,0.3).ppf(0.3))\n",
    "print(stats.norm(3,0.3).ppf(0.2))"
   ]
  },
  {
   "cell_type": "code",
   "execution_count": null,
   "id": "3bfd977f",
   "metadata": {},
   "outputs": [],
   "source": [
    "stats.norm(3,0.3).cdf(3.5)"
   ]
  },
  {
   "cell_type": "markdown",
   "id": "da65974a",
   "metadata": {},
   "source": [
    "# 3\n",
    "A marketing website has an average click-through rate of 2%. One day they observe 4326 visitors and 97 click-throughs. How likely is it that this many people or more click through?"
   ]
  },
  {
   "cell_type": "code",
   "execution_count": 5,
   "id": "358e8593",
   "metadata": {},
   "outputs": [
    {
     "data": {
      "text/plain": [
       "0.13975823631416448"
      ]
     },
     "execution_count": 5,
     "metadata": {},
     "output_type": "execute_result"
    }
   ],
   "source": [
    "stats.binom(4326,0.02).sf(96)"
   ]
  },
  {
   "cell_type": "markdown",
   "id": "4d830615",
   "metadata": {},
   "source": [
    "# 4\n",
    "You are working on some statistics homework consisting of 100 questions where all of the answers are a 'probability' rounded to the hundreths place. Looking to save time, you put down random probabilities as the answer to each question.\n",
    "\n",
    "What is the probability that at least one of your first 60 answers is correct?"
   ]
  },
  {
   "cell_type": "code",
   "execution_count": 10,
   "id": "7e135447",
   "metadata": {},
   "outputs": [
    {
     "data": {
      "text/plain": [
       "0.44955038406224"
      ]
     },
     "execution_count": 10,
     "metadata": {},
     "output_type": "execute_result"
    }
   ],
   "source": [
    "stats.binom(60, 1/101).sf(0)"
   ]
  },
  {
   "cell_type": "markdown",
   "id": "526c6c05",
   "metadata": {},
   "source": [
    "# 5\n",
    "\n",
    "There's a 3% chance that any one student cleans the break area when they visit it, and, on any given day, about 90% of the 3 active cohorts of 22 students visit the break area. How likely is it that the break area gets cleaned up each day? How likely is it that it goes two days without getting cleaned up? All week?\n"
   ]
  },
  {
   "cell_type": "code",
   "execution_count": 11,
   "id": "a05ba7f6",
   "metadata": {},
   "outputs": [
    {
     "data": {
      "text/plain": [
       "0.8362274861228876"
      ]
     },
     "execution_count": 11,
     "metadata": {},
     "output_type": "execute_result"
    }
   ],
   "source": [
    "# How likely is it that the break area gets cleaned up each day?\n",
    "# (0.03)**(3*22*0.9) this means each student will clean the area\n",
    "1 - ((1-0.03)**(3*22*0.9))\n",
    "# or\n",
    "stats.binom(3*22*0.9,0.03).sf(0)"
   ]
  },
  {
   "cell_type": "code",
   "execution_count": 12,
   "id": "49f7d0e1",
   "metadata": {},
   "outputs": [
    {
     "data": {
      "text/plain": [
       "0.026821436301628997"
      ]
     },
     "execution_count": 12,
     "metadata": {},
     "output_type": "execute_result"
    }
   ],
   "source": [
    "# How likely is it that it goes two days without getting cleaned up?\n",
    "(1-0.03)**(3*22*0.9*2)\n",
    "# or \n",
    ".pmf(0)"
   ]
  },
  {
   "cell_type": "code",
   "execution_count": 13,
   "id": "9629be8d",
   "metadata": {},
   "outputs": [
    {
     "data": {
      "text/plain": [
       "0.00011781621791055051"
      ]
     },
     "execution_count": 13,
     "metadata": {},
     "output_type": "execute_result"
    }
   ],
   "source": [
    "# All week?\n",
    "(1-0.03)**(3*22*0.9*5)"
   ]
  },
  {
   "cell_type": "markdown",
   "id": "e551f92b",
   "metadata": {},
   "source": [
    "# 6\n",
    "You want to get lunch at La Panaderia, but notice that the line is usually very long at lunchtime. After several weeks of careful observation, you notice that the average number of people in line when your lunch break starts is normally distributed with a mean of 15 and standard deviation of 3. If it takes 2 minutes for each person to order, and 10 minutes from ordering to getting your food, what is the likelihood that you have at least 15 minutes left to eat your food before you have to go back to class? Assume you have one hour for lunch, and ignore travel time to and from La Panaderia."
   ]
  },
  {
   "cell_type": "code",
   "execution_count": 21,
   "id": "a94e873e",
   "metadata": {},
   "outputs": [
    {
     "data": {
      "text/plain": [
       "0.6914624612740131"
      ]
     },
     "execution_count": 21,
     "metadata": {},
     "output_type": "execute_result"
    }
   ],
   "source": [
    "# convert people to minutes\n",
    "stats.norm(15*2, 3*2).cdf(33)"
   ]
  },
  {
   "cell_type": "markdown",
   "id": "d1f09145",
   "metadata": {},
   "source": [
    "# 7\n",
    "Connect to the employees database and find the average salary of current employees, along with the standard deviation. For the following questions, calculate the answer based on modeling the employees salaries with a normal distribution defined by the calculated mean and standard deviation then compare this answer to the actual values present in the salaries dataset."
   ]
  },
  {
   "cell_type": "code",
   "execution_count": 14,
   "id": "53968db6",
   "metadata": {},
   "outputs": [
    {
     "data": {
      "text/html": [
       "<div>\n",
       "<style scoped>\n",
       "    .dataframe tbody tr th:only-of-type {\n",
       "        vertical-align: middle;\n",
       "    }\n",
       "\n",
       "    .dataframe tbody tr th {\n",
       "        vertical-align: top;\n",
       "    }\n",
       "\n",
       "    .dataframe thead th {\n",
       "        text-align: right;\n",
       "    }\n",
       "</style>\n",
       "<table border=\"1\" class=\"dataframe\">\n",
       "  <thead>\n",
       "    <tr style=\"text-align: right;\">\n",
       "      <th></th>\n",
       "      <th>emp_no</th>\n",
       "      <th>salary</th>\n",
       "      <th>from_date</th>\n",
       "      <th>to_date</th>\n",
       "    </tr>\n",
       "  </thead>\n",
       "  <tbody>\n",
       "    <tr>\n",
       "      <th>0</th>\n",
       "      <td>10001</td>\n",
       "      <td>88958</td>\n",
       "      <td>2002-06-22</td>\n",
       "      <td>9999-01-01</td>\n",
       "    </tr>\n",
       "    <tr>\n",
       "      <th>1</th>\n",
       "      <td>10002</td>\n",
       "      <td>72527</td>\n",
       "      <td>2001-08-02</td>\n",
       "      <td>9999-01-01</td>\n",
       "    </tr>\n",
       "    <tr>\n",
       "      <th>2</th>\n",
       "      <td>10003</td>\n",
       "      <td>43311</td>\n",
       "      <td>2001-12-01</td>\n",
       "      <td>9999-01-01</td>\n",
       "    </tr>\n",
       "    <tr>\n",
       "      <th>3</th>\n",
       "      <td>10004</td>\n",
       "      <td>74057</td>\n",
       "      <td>2001-11-27</td>\n",
       "      <td>9999-01-01</td>\n",
       "    </tr>\n",
       "    <tr>\n",
       "      <th>4</th>\n",
       "      <td>10005</td>\n",
       "      <td>94692</td>\n",
       "      <td>2001-09-09</td>\n",
       "      <td>9999-01-01</td>\n",
       "    </tr>\n",
       "  </tbody>\n",
       "</table>\n",
       "</div>"
      ],
      "text/plain": [
       "   emp_no  salary   from_date     to_date\n",
       "0   10001   88958  2002-06-22  9999-01-01\n",
       "1   10002   72527  2001-08-02  9999-01-01\n",
       "2   10003   43311  2001-12-01  9999-01-01\n",
       "3   10004   74057  2001-11-27  9999-01-01\n",
       "4   10005   94692  2001-09-09  9999-01-01"
      ]
     },
     "execution_count": 14,
     "metadata": {},
     "output_type": "execute_result"
    }
   ],
   "source": [
    "import pandas as pd\n",
    "import env\n",
    "\n",
    "url = f'mysql+pymysql://{env.user}:{env.password}@{env.host}/employees'  \n",
    "salary = pd.read_sql('SELECT * FROM salaries where to_date > now()', url)\n",
    "salary.head()"
   ]
  },
  {
   "cell_type": "code",
   "execution_count": 15,
   "id": "9471bc4a",
   "metadata": {},
   "outputs": [
    {
     "data": {
      "text/plain": [
       "count    240124.000000\n",
       "mean      72012.235857\n",
       "std       17309.995380\n",
       "min       38623.000000\n",
       "25%       59048.750000\n",
       "50%       69805.000000\n",
       "75%       82546.000000\n",
       "max      158220.000000\n",
       "Name: salary, dtype: float64"
      ]
     },
     "execution_count": 15,
     "metadata": {},
     "output_type": "execute_result"
    }
   ],
   "source": [
    "salary.salary.describe()"
   ]
  },
  {
   "cell_type": "code",
   "execution_count": 16,
   "id": "a388f0ad",
   "metadata": {},
   "outputs": [
    {
     "data": {
      "text/plain": [
       "0.24385742480214434"
      ]
     },
     "execution_count": 16,
     "metadata": {},
     "output_type": "execute_result"
    }
   ],
   "source": [
    "# What percent of employees earn less than 60,000?\n",
    "stats.norm(salary.salary.mean(), salary.salary.std()).cdf(60000)"
   ]
  },
  {
   "cell_type": "code",
   "execution_count": 17,
   "id": "0c692495",
   "metadata": {},
   "outputs": [
    {
     "data": {
      "text/plain": [
       "0.09208819199804058"
      ]
     },
     "execution_count": 17,
     "metadata": {},
     "output_type": "execute_result"
    }
   ],
   "source": [
    "# What percent of employees earn more than 95,000?\n",
    "stats.norm(salary.salary.mean(), salary.salary.std()).sf(95000)"
   ]
  },
  {
   "cell_type": "code",
   "execution_count": null,
   "id": "6f098381",
   "metadata": {},
   "outputs": [],
   "source": [
    "# What percent of employees earn between 65,000 and 80,000?"
   ]
  },
  {
   "cell_type": "code",
   "execution_count": null,
   "id": "b6833397",
   "metadata": {},
   "outputs": [],
   "source": [
    "# What do the top 5% of employees make?"
   ]
  },
  {
   "cell_type": "code",
   "execution_count": null,
   "id": "a317ea1e",
   "metadata": {},
   "outputs": [],
   "source": []
  },
  {
   "cell_type": "code",
   "execution_count": null,
   "id": "43cf06b2",
   "metadata": {},
   "outputs": [],
   "source": []
  },
  {
   "cell_type": "code",
   "execution_count": null,
   "id": "1835b999",
   "metadata": {},
   "outputs": [],
   "source": []
  },
  {
   "cell_type": "code",
   "execution_count": null,
   "id": "83541044",
   "metadata": {},
   "outputs": [],
   "source": []
  },
  {
   "cell_type": "code",
   "execution_count": null,
   "id": "cc53fb1b",
   "metadata": {},
   "outputs": [],
   "source": []
  }
 ],
 "metadata": {
  "kernelspec": {
   "display_name": "Python 3 (ipykernel)",
   "language": "python",
   "name": "python3"
  },
  "language_info": {
   "codemirror_mode": {
    "name": "ipython",
    "version": 3
   },
   "file_extension": ".py",
   "mimetype": "text/x-python",
   "name": "python",
   "nbconvert_exporter": "python",
   "pygments_lexer": "ipython3",
   "version": "3.11.5"
  }
 },
 "nbformat": 4,
 "nbformat_minor": 5
}
