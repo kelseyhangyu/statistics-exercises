{
 "cells": [
  {
   "cell_type": "markdown",
   "id": "ba029aa5",
   "metadata": {},
   "source": [
    "- Has the network latency gone up since we switched internet service providers?"
   ]
  },
  {
   "cell_type": "markdown",
   "id": "f74da1a7",
   "metadata": {},
   "source": [
    "Ho:  the network latency did not change since we switched internet service providers.\n",
    "Ha:  the network latency has gone up since we switched internet service providers.\n",
    "\n",
    "True positive: Rejecting the null hypothesis when it's false. Change has been detected.\n",
    "True negative: Accepting Ho when it's true. Change has not been detected.\n",
    "Type I: Rejecting the Ho when it's true. Falsely concluded that there is a change while in reality there was not.\n",
    "Type II: Accepting the Ho when it's False. Falsely concluded there is no change when there is a change."
   ]
  },
  {
   "cell_type": "markdown",
   "id": "7bedd59f",
   "metadata": {},
   "source": [
    "- Is the website redesign any good?"
   ]
  },
  {
   "cell_type": "markdown",
   "id": "dffca32f",
   "metadata": {},
   "source": [
    "Ho: webredesign is the same as previous webdesign\n",
    "Ha: webredeign is better than previous webdesign\n",
    "\n",
    "True positive: Rejecting the null hypothesis when it's false. Webredesign is better.\n",
    "True negative: Accepting Ho when it's true. webredisgn is the same.\n",
    "Type I: Rejecting the Ho when it's true. Falsely concluded that webredesign is better where in reality they are the same.\n",
    "Type II: Accepting the Ho when it's False. Falsely concluded webredesign is the same where in reality webredisgn is better."
   ]
  },
  {
   "cell_type": "markdown",
   "id": "5835b857",
   "metadata": {},
   "source": [
    "- Is our television ad driving more sales?"
   ]
  },
  {
   "cell_type": "markdown",
   "id": "020378b8",
   "metadata": {},
   "source": [
    "Ho: our television ad does not affect sales\n",
    "Ha: our television ad drives more sales\n",
    "\n",
    "True positive: Rejecting the null hypothesis when it's false. tele ad drives more sales.\n",
    "True negative: Accepting Ho when it's true. tele ad does not affect sales\n",
    "Type I: Rejecting the Ho when it's true. Falsely concluded that tele ad drives more sales when in reality it does not affect the sales.\n",
    "Type II: Accepting the Ho when it's False. Falsely concluded tele ad does not affect sales when in reality it drives more sales."
   ]
  },
  {
   "cell_type": "markdown",
   "id": "1647f3e4",
   "metadata": {},
   "source": [
    "# -------------------------- Chi Square exercises ---------------------------- #"
   ]
  },
  {
   "cell_type": "markdown",
   "id": "d74afcb0",
   "metadata": {},
   "source": [
    "# 1. Does using a Macbook and being a Codeup student are independent of each other.\n",
    "\n",
    "Ho: using a Macbook and being a Codeup student are independent of each other.\n",
    "Ha: using a Macbook and being a Codeup student are dependent of each other."
   ]
  },
  {
   "cell_type": "code",
   "execution_count": 136,
   "id": "cedb4945",
   "metadata": {},
   "outputs": [],
   "source": [
    "import pandas as pd\n",
    "import numpy as np\n",
    "\n",
    "from pydataset import data\n",
    "from scipy import stats"
   ]
  },
  {
   "cell_type": "code",
   "execution_count": 132,
   "id": "dc71981f",
   "metadata": {},
   "outputs": [
    {
     "data": {
      "text/html": [
       "<div>\n",
       "<style scoped>\n",
       "    .dataframe tbody tr th:only-of-type {\n",
       "        vertical-align: middle;\n",
       "    }\n",
       "\n",
       "    .dataframe tbody tr th {\n",
       "        vertical-align: top;\n",
       "    }\n",
       "\n",
       "    .dataframe thead th {\n",
       "        text-align: right;\n",
       "    }\n",
       "</style>\n",
       "<table border=\"1\" class=\"dataframe\">\n",
       "  <thead>\n",
       "    <tr style=\"text-align: right;\">\n",
       "      <th></th>\n",
       "      <th>mac</th>\n",
       "      <th>notmac</th>\n",
       "    </tr>\n",
       "    <tr>\n",
       "      <th>codeup</th>\n",
       "      <th></th>\n",
       "      <th></th>\n",
       "    </tr>\n",
       "  </thead>\n",
       "  <tbody>\n",
       "    <tr>\n",
       "      <th>yes</th>\n",
       "      <td>49</td>\n",
       "      <td>20</td>\n",
       "    </tr>\n",
       "    <tr>\n",
       "      <th>no</th>\n",
       "      <td>1</td>\n",
       "      <td>30</td>\n",
       "    </tr>\n",
       "  </tbody>\n",
       "</table>\n",
       "</div>"
      ],
      "text/plain": [
       "        mac  notmac\n",
       "codeup             \n",
       "yes      49      20\n",
       "no        1      30"
      ]
     },
     "execution_count": 132,
     "metadata": {},
     "output_type": "execute_result"
    }
   ],
   "source": [
    "data = {\n",
    "    'codeup': ['yes', 'no'],\n",
    "    'mac': [49, 1],\n",
    "    'notmac':[20,30]\n",
    "}\n",
    "\n",
    "df = pd.DataFrame(data)\n",
    "df = df.set_index('codeup')\n",
    "df"
   ]
  },
  {
   "cell_type": "code",
   "execution_count": 84,
   "id": "35f535ea",
   "metadata": {},
   "outputs": [],
   "source": [
    "alpha = 0.05"
   ]
  },
  {
   "cell_type": "code",
   "execution_count": 79,
   "id": "ab5ee44a",
   "metadata": {},
   "outputs": [
    {
     "data": {
      "text/plain": [
       "1.4116760526193828e-09"
      ]
     },
     "execution_count": 79,
     "metadata": {},
     "output_type": "execute_result"
    }
   ],
   "source": [
    "chi2,p,degf,expected = stats.chi2_contingency(df)\n",
    "p"
   ]
  },
  {
   "cell_type": "code",
   "execution_count": 82,
   "id": "e97b7e8a",
   "metadata": {},
   "outputs": [
    {
     "name": "stdout",
     "output_type": "stream",
     "text": [
      "df\n",
      "[[49 20]\n",
      " [ 1 30]]\n",
      "\n",
      "Expected\n",
      "[[34 34]\n",
      " [15 15]]\n",
      "\n",
      "----\n",
      "chi^2 = 36.6526\n",
      "p     = 0.0000\n"
     ]
    }
   ],
   "source": [
    "print('df')\n",
    "print(df.values)\n",
    "print('\\nExpected')\n",
    "print(expected.astype(int))\n",
    "print('\\n----')\n",
    "print(f'chi^2 = {chi2:.4f}')\n",
    "print(f'p     = {p:.4f}')"
   ]
  },
  {
   "cell_type": "code",
   "execution_count": 86,
   "id": "80efd15d",
   "metadata": {},
   "outputs": [
    {
     "name": "stdout",
     "output_type": "stream",
     "text": [
      "reject the null hypothesis, using a Macbook and being a Codeup student are dependent of each other. \n"
     ]
    }
   ],
   "source": [
    "if p < alpha:\n",
    "    print('reject the null hypothesis, using a Macbook and being a Codeup student are dependent of each other. ')\n",
    "else:\n",
    "    print('fail to reject the null hypothesis')"
   ]
  },
  {
   "cell_type": "markdown",
   "id": "81307474",
   "metadata": {},
   "source": [
    "# 2. Choose another 2 categorical variables from the mpg dataset."
   ]
  },
  {
   "cell_type": "code",
   "execution_count": null,
   "id": "a99980e0",
   "metadata": {},
   "outputs": [],
   "source": [
    "# State your null and alternative hypotheses.\n",
    "Ho: year has no impact on city mile per gallon\n",
    "Ha: year has impact on city mile per gallon"
   ]
  },
  {
   "cell_type": "code",
   "execution_count": 138,
   "id": "fc418182",
   "metadata": {},
   "outputs": [
    {
     "name": "stdout",
     "output_type": "stream",
     "text": [
      "mpg\n",
      "\n",
      "PyDataset Documentation (adopted from R Documentation. The displayed examples are in R)\n",
      "\n",
      "## Fuel economy data from 1999 and 2008 for 38 popular models of car\n",
      "\n",
      "### Description\n",
      "\n",
      "This dataset contains a subset of the fuel economy data that the EPA makes\n",
      "available on http://fueleconomy.gov. It contains only models which had a new\n",
      "release every year between 1999 and 2008 - this was used as a proxy for the\n",
      "popularity of the car.\n",
      "\n",
      "### Usage\n",
      "\n",
      "    data(mpg)\n",
      "\n",
      "### Format\n",
      "\n",
      "A data frame with 234 rows and 11 variables\n",
      "\n",
      "### Details\n",
      "\n",
      "  * manufacturer. \n",
      "\n",
      "  * model. \n",
      "\n",
      "  * displ. engine displacement, in litres \n",
      "\n",
      "  * year. \n",
      "\n",
      "  * cyl. number of cylinders \n",
      "\n",
      "  * trans. type of transmission \n",
      "\n",
      "  * drv. f = front-wheel drive, r = rear wheel drive, 4 = 4wd \n",
      "\n",
      "  * cty. city miles per gallon \n",
      "\n",
      "  * hwy. highway miles per gallon \n",
      "\n",
      "  * fl. \n",
      "\n",
      "  * class. \n",
      "\n",
      "\n"
     ]
    },
    {
     "data": {
      "text/html": [
       "<div>\n",
       "<style scoped>\n",
       "    .dataframe tbody tr th:only-of-type {\n",
       "        vertical-align: middle;\n",
       "    }\n",
       "\n",
       "    .dataframe tbody tr th {\n",
       "        vertical-align: top;\n",
       "    }\n",
       "\n",
       "    .dataframe thead th {\n",
       "        text-align: right;\n",
       "    }\n",
       "</style>\n",
       "<table border=\"1\" class=\"dataframe\">\n",
       "  <thead>\n",
       "    <tr style=\"text-align: right;\">\n",
       "      <th></th>\n",
       "      <th>manufacturer</th>\n",
       "      <th>model</th>\n",
       "      <th>displ</th>\n",
       "      <th>year</th>\n",
       "      <th>cyl</th>\n",
       "      <th>trans</th>\n",
       "      <th>drv</th>\n",
       "      <th>cty</th>\n",
       "      <th>hwy</th>\n",
       "      <th>fl</th>\n",
       "      <th>class</th>\n",
       "    </tr>\n",
       "  </thead>\n",
       "  <tbody>\n",
       "    <tr>\n",
       "      <th>1</th>\n",
       "      <td>audi</td>\n",
       "      <td>a4</td>\n",
       "      <td>1.8</td>\n",
       "      <td>1999</td>\n",
       "      <td>4</td>\n",
       "      <td>auto(l5)</td>\n",
       "      <td>f</td>\n",
       "      <td>18</td>\n",
       "      <td>29</td>\n",
       "      <td>p</td>\n",
       "      <td>compact</td>\n",
       "    </tr>\n",
       "    <tr>\n",
       "      <th>2</th>\n",
       "      <td>audi</td>\n",
       "      <td>a4</td>\n",
       "      <td>1.8</td>\n",
       "      <td>1999</td>\n",
       "      <td>4</td>\n",
       "      <td>manual(m5)</td>\n",
       "      <td>f</td>\n",
       "      <td>21</td>\n",
       "      <td>29</td>\n",
       "      <td>p</td>\n",
       "      <td>compact</td>\n",
       "    </tr>\n",
       "    <tr>\n",
       "      <th>3</th>\n",
       "      <td>audi</td>\n",
       "      <td>a4</td>\n",
       "      <td>2.0</td>\n",
       "      <td>2008</td>\n",
       "      <td>4</td>\n",
       "      <td>manual(m6)</td>\n",
       "      <td>f</td>\n",
       "      <td>20</td>\n",
       "      <td>31</td>\n",
       "      <td>p</td>\n",
       "      <td>compact</td>\n",
       "    </tr>\n",
       "    <tr>\n",
       "      <th>4</th>\n",
       "      <td>audi</td>\n",
       "      <td>a4</td>\n",
       "      <td>2.0</td>\n",
       "      <td>2008</td>\n",
       "      <td>4</td>\n",
       "      <td>auto(av)</td>\n",
       "      <td>f</td>\n",
       "      <td>21</td>\n",
       "      <td>30</td>\n",
       "      <td>p</td>\n",
       "      <td>compact</td>\n",
       "    </tr>\n",
       "    <tr>\n",
       "      <th>5</th>\n",
       "      <td>audi</td>\n",
       "      <td>a4</td>\n",
       "      <td>2.8</td>\n",
       "      <td>1999</td>\n",
       "      <td>6</td>\n",
       "      <td>auto(l5)</td>\n",
       "      <td>f</td>\n",
       "      <td>16</td>\n",
       "      <td>26</td>\n",
       "      <td>p</td>\n",
       "      <td>compact</td>\n",
       "    </tr>\n",
       "  </tbody>\n",
       "</table>\n",
       "</div>"
      ],
      "text/plain": [
       "  manufacturer model  displ  year  cyl       trans drv  cty  hwy fl    class\n",
       "1         audi    a4    1.8  1999    4    auto(l5)   f   18   29  p  compact\n",
       "2         audi    a4    1.8  1999    4  manual(m5)   f   21   29  p  compact\n",
       "3         audi    a4    2.0  2008    4  manual(m6)   f   20   31  p  compact\n",
       "4         audi    a4    2.0  2008    4    auto(av)   f   21   30  p  compact\n",
       "5         audi    a4    2.8  1999    6    auto(l5)   f   16   26  p  compact"
      ]
     },
     "execution_count": 138,
     "metadata": {},
     "output_type": "execute_result"
    }
   ],
   "source": [
    "mpg = data('mpg')\n",
    "data('mpg',show_doc =True)\n",
    "mpg.head(5)\n"
   ]
  },
  {
   "cell_type": "code",
   "execution_count": null,
   "id": "1c17c9d7",
   "metadata": {},
   "outputs": [],
   "source": [
    "# State your alpha.\n",
    "alpha = 0.05"
   ]
  },
  {
   "cell_type": "code",
   "execution_count": 98,
   "id": "8ea0ba4f",
   "metadata": {},
   "outputs": [
    {
     "data": {
      "text/html": [
       "<div>\n",
       "<style scoped>\n",
       "    .dataframe tbody tr th:only-of-type {\n",
       "        vertical-align: middle;\n",
       "    }\n",
       "\n",
       "    .dataframe tbody tr th {\n",
       "        vertical-align: top;\n",
       "    }\n",
       "\n",
       "    .dataframe thead th {\n",
       "        text-align: right;\n",
       "    }\n",
       "</style>\n",
       "<table border=\"1\" class=\"dataframe\">\n",
       "  <thead>\n",
       "    <tr style=\"text-align: right;\">\n",
       "      <th>cty</th>\n",
       "      <th>9</th>\n",
       "      <th>11</th>\n",
       "      <th>12</th>\n",
       "      <th>13</th>\n",
       "      <th>14</th>\n",
       "      <th>15</th>\n",
       "      <th>16</th>\n",
       "      <th>17</th>\n",
       "      <th>18</th>\n",
       "      <th>19</th>\n",
       "      <th>...</th>\n",
       "      <th>21</th>\n",
       "      <th>22</th>\n",
       "      <th>23</th>\n",
       "      <th>24</th>\n",
       "      <th>25</th>\n",
       "      <th>26</th>\n",
       "      <th>28</th>\n",
       "      <th>29</th>\n",
       "      <th>33</th>\n",
       "      <th>35</th>\n",
       "    </tr>\n",
       "    <tr>\n",
       "      <th>year</th>\n",
       "      <th></th>\n",
       "      <th></th>\n",
       "      <th></th>\n",
       "      <th></th>\n",
       "      <th></th>\n",
       "      <th></th>\n",
       "      <th></th>\n",
       "      <th></th>\n",
       "      <th></th>\n",
       "      <th></th>\n",
       "      <th></th>\n",
       "      <th></th>\n",
       "      <th></th>\n",
       "      <th></th>\n",
       "      <th></th>\n",
       "      <th></th>\n",
       "      <th></th>\n",
       "      <th></th>\n",
       "      <th></th>\n",
       "      <th></th>\n",
       "      <th></th>\n",
       "    </tr>\n",
       "  </thead>\n",
       "  <tbody>\n",
       "    <tr>\n",
       "      <th>1999</th>\n",
       "      <td>0</td>\n",
       "      <td>16</td>\n",
       "      <td>0</td>\n",
       "      <td>7</td>\n",
       "      <td>9</td>\n",
       "      <td>16</td>\n",
       "      <td>10</td>\n",
       "      <td>5</td>\n",
       "      <td>21</td>\n",
       "      <td>11</td>\n",
       "      <td>...</td>\n",
       "      <td>11</td>\n",
       "      <td>0</td>\n",
       "      <td>1</td>\n",
       "      <td>4</td>\n",
       "      <td>1</td>\n",
       "      <td>1</td>\n",
       "      <td>1</td>\n",
       "      <td>1</td>\n",
       "      <td>1</td>\n",
       "      <td>1</td>\n",
       "    </tr>\n",
       "    <tr>\n",
       "      <th>2008</th>\n",
       "      <td>5</td>\n",
       "      <td>4</td>\n",
       "      <td>8</td>\n",
       "      <td>14</td>\n",
       "      <td>10</td>\n",
       "      <td>8</td>\n",
       "      <td>9</td>\n",
       "      <td>11</td>\n",
       "      <td>5</td>\n",
       "      <td>9</td>\n",
       "      <td>...</td>\n",
       "      <td>12</td>\n",
       "      <td>4</td>\n",
       "      <td>2</td>\n",
       "      <td>1</td>\n",
       "      <td>1</td>\n",
       "      <td>2</td>\n",
       "      <td>1</td>\n",
       "      <td>0</td>\n",
       "      <td>0</td>\n",
       "      <td>0</td>\n",
       "    </tr>\n",
       "  </tbody>\n",
       "</table>\n",
       "<p>2 rows × 21 columns</p>\n",
       "</div>"
      ],
      "text/plain": [
       "cty   9   11  12  13  14  15  16  17  18  19  ...  21  22  23  24  25  26  28  \\\n",
       "year                                          ...                               \n",
       "1999   0  16   0   7   9  16  10   5  21  11  ...  11   0   1   4   1   1   1   \n",
       "2008   5   4   8  14  10   8   9  11   5   9  ...  12   4   2   1   1   2   1   \n",
       "\n",
       "cty   29  33  35  \n",
       "year              \n",
       "1999   1   1   1  \n",
       "2008   0   0   0  \n",
       "\n",
       "[2 rows x 21 columns]"
      ]
     },
     "execution_count": 98,
     "metadata": {},
     "output_type": "execute_result"
    }
   ],
   "source": [
    "# Perform a chi square test of independence.\n",
    "observed = pd.crosstab(mpg.year,mpg.cty)\n",
    "observed"
   ]
  },
  {
   "cell_type": "code",
   "execution_count": 100,
   "id": "d4f360e9",
   "metadata": {},
   "outputs": [],
   "source": [
    "chi2,p,degf,expected = stats.chi2_contingency(observed)"
   ]
  },
  {
   "cell_type": "code",
   "execution_count": 101,
   "id": "d3d348ea",
   "metadata": {},
   "outputs": [
    {
     "name": "stdout",
     "output_type": "stream",
     "text": [
      "Observed\n",
      "[[ 0 16  0  7  9 16 10  5 21 11  0 11  0  1  4  1  1  1  1  1  1]\n",
      " [ 5  4  8 14 10  8  9 11  5  9 11 12  4  2  1  1  2  1  0  0  0]]\n",
      "\n",
      "Expected\n",
      "[[ 2 10  4 10  9 12  9  8 13 10  5 11  2  1  2  1  1  1  0  0  0]\n",
      " [ 2 10  4 10  9 12  9  8 13 10  5 11  2  1  2  1  1  1  0  0  0]]\n",
      "\n",
      "----\n",
      "chi^2 = 58.1116\n",
      "p     = 0.0000\n"
     ]
    }
   ],
   "source": [
    "print('Observed')\n",
    "print(observed.values)\n",
    "print('\\nExpected')\n",
    "print(expected.astype(int))\n",
    "print('\\n----')\n",
    "print(f'chi^2 = {chi2:.4f}')\n",
    "print(f'p     = {p:.4f}')"
   ]
  },
  {
   "cell_type": "code",
   "execution_count": 103,
   "id": "c8dfb87d",
   "metadata": {},
   "outputs": [
    {
     "name": "stdout",
     "output_type": "stream",
     "text": [
      "reject the null hypothesis, year has impact on city mile per gallon\n"
     ]
    }
   ],
   "source": [
    "#compare our p-value and alpha\n",
    "if p < alpha:\n",
    "    print('reject the null hypothesis, year has impact on city mile per gallon')\n",
    "else:\n",
    "    print('fail to reject the null hypothesis')"
   ]
  },
  {
   "cell_type": "markdown",
   "id": "73af342c",
   "metadata": {},
   "source": [
    "# 3 Use the data from the employees database to answer these questions:"
   ]
  },
  {
   "cell_type": "code",
   "execution_count": 106,
   "id": "cb512a3f",
   "metadata": {},
   "outputs": [],
   "source": [
    "import env\n",
    "url = f'mysql+pymysql://{env.user}:{env.password}@{env.host}/employees'"
   ]
  },
  {
   "cell_type": "code",
   "execution_count": 121,
   "id": "3d7e8f95",
   "metadata": {},
   "outputs": [],
   "source": [
    "query = pd.read_sql(\n",
    "\n",
    "'''\n",
    "select dept_manager.emp_no as manager_emp_no, gender, dept_name, employees.emp_no\n",
    "from employees\n",
    "join dept_emp using(emp_no)\n",
    "join departments using(dept_no)\n",
    "join dept_manager using (dept_no)\n",
    "where dept_emp.to_date > now()\n",
    "\n",
    "'''\n",
    "\n",
    ", url)\n"
   ]
  },
  {
   "cell_type": "code",
   "execution_count": 122,
   "id": "d6ddc9c2",
   "metadata": {},
   "outputs": [
    {
     "data": {
      "text/html": [
       "<div>\n",
       "<style scoped>\n",
       "    .dataframe tbody tr th:only-of-type {\n",
       "        vertical-align: middle;\n",
       "    }\n",
       "\n",
       "    .dataframe tbody tr th {\n",
       "        vertical-align: top;\n",
       "    }\n",
       "\n",
       "    .dataframe thead th {\n",
       "        text-align: right;\n",
       "    }\n",
       "</style>\n",
       "<table border=\"1\" class=\"dataframe\">\n",
       "  <thead>\n",
       "    <tr style=\"text-align: right;\">\n",
       "      <th></th>\n",
       "      <th>manager_emp_no</th>\n",
       "      <th>gender</th>\n",
       "      <th>dept_name</th>\n",
       "      <th>emp_no</th>\n",
       "    </tr>\n",
       "  </thead>\n",
       "  <tbody>\n",
       "    <tr>\n",
       "      <th>0</th>\n",
       "      <td>111692</td>\n",
       "      <td>M</td>\n",
       "      <td>Customer Service</td>\n",
       "      <td>10038</td>\n",
       "    </tr>\n",
       "    <tr>\n",
       "      <th>1</th>\n",
       "      <td>111784</td>\n",
       "      <td>M</td>\n",
       "      <td>Customer Service</td>\n",
       "      <td>10038</td>\n",
       "    </tr>\n",
       "    <tr>\n",
       "      <th>2</th>\n",
       "      <td>111877</td>\n",
       "      <td>M</td>\n",
       "      <td>Customer Service</td>\n",
       "      <td>10038</td>\n",
       "    </tr>\n",
       "    <tr>\n",
       "      <th>3</th>\n",
       "      <td>111939</td>\n",
       "      <td>M</td>\n",
       "      <td>Customer Service</td>\n",
       "      <td>10038</td>\n",
       "    </tr>\n",
       "    <tr>\n",
       "      <th>4</th>\n",
       "      <td>111692</td>\n",
       "      <td>F</td>\n",
       "      <td>Customer Service</td>\n",
       "      <td>10049</td>\n",
       "    </tr>\n",
       "  </tbody>\n",
       "</table>\n",
       "</div>"
      ],
      "text/plain": [
       "   manager_emp_no gender         dept_name  emp_no\n",
       "0          111692      M  Customer Service   10038\n",
       "1          111784      M  Customer Service   10038\n",
       "2          111877      M  Customer Service   10038\n",
       "3          111939      M  Customer Service   10038\n",
       "4          111692      F  Customer Service   10049"
      ]
     },
     "execution_count": 122,
     "metadata": {},
     "output_type": "execute_result"
    }
   ],
   "source": [
    "query.head(5)"
   ]
  },
  {
   "cell_type": "markdown",
   "id": "fb438ffe",
   "metadata": {},
   "source": [
    "- Is an employee's gender independent of whether an employee works in sales or marketing? (only look at current employees)\n",
    "\n",
    "Ho: independent\n",
    "Ha: dependent"
   ]
  },
  {
   "cell_type": "code",
   "execution_count": 113,
   "id": "872a0582",
   "metadata": {},
   "outputs": [],
   "source": [
    "observed = pd.crosstab(query.gender,query.dept_name)"
   ]
  },
  {
   "cell_type": "code",
   "execution_count": 114,
   "id": "fc9770bd",
   "metadata": {},
   "outputs": [],
   "source": [
    "chi2,p,degf,expected = stats.chi2_contingency(observed)"
   ]
  },
  {
   "cell_type": "code",
   "execution_count": 115,
   "id": "6cec0663",
   "metadata": {},
   "outputs": [
    {
     "name": "stdout",
     "output_type": "stream",
     "text": [
      "Observed\n",
      "[[ 28028  49066  10028  10294  11728  85572  23488  12362  29998]\n",
      " [ 42248  73706  14846  15502  17956 127644  34696  18520  45404]]\n",
      "\n",
      "Expected\n",
      "[[ 28124  49133   9954  10323  11879  85328  23285  12358  30175]\n",
      " [ 42151  73638  14919  15472  17804 127887  34898  18523  45226]]\n",
      "\n",
      "----\n",
      "chi^2 = 10.8187\n",
      "p     = 0.2122\n"
     ]
    }
   ],
   "source": [
    "print('Observed')\n",
    "print(observed.values)\n",
    "print('\\nExpected')\n",
    "print(expected.astype(int))\n",
    "print('\\n----')\n",
    "print(f'chi^2 = {chi2:.4f}')\n",
    "print(f'p     = {p:.4f}')"
   ]
  },
  {
   "cell_type": "code",
   "execution_count": 140,
   "id": "7ed6a172",
   "metadata": {},
   "outputs": [
    {
     "name": "stdout",
     "output_type": "stream",
     "text": [
      "fail to reject the null hypothesis, gender is independent of department names\n"
     ]
    }
   ],
   "source": [
    "if p < alpha:\n",
    "    print('reject the null hypothesis')\n",
    "else:\n",
    "    print('fail to reject the null hypothesis, gender is independent of department names')"
   ]
  },
  {
   "cell_type": "code",
   "execution_count": 123,
   "id": "4142134c",
   "metadata": {},
   "outputs": [
    {
     "data": {
      "text/html": [
       "<div>\n",
       "<style scoped>\n",
       "    .dataframe tbody tr th:only-of-type {\n",
       "        vertical-align: middle;\n",
       "    }\n",
       "\n",
       "    .dataframe tbody tr th {\n",
       "        vertical-align: top;\n",
       "    }\n",
       "\n",
       "    .dataframe thead th {\n",
       "        text-align: right;\n",
       "    }\n",
       "</style>\n",
       "<table border=\"1\" class=\"dataframe\">\n",
       "  <thead>\n",
       "    <tr style=\"text-align: right;\">\n",
       "      <th></th>\n",
       "      <th>manager_emp_no</th>\n",
       "      <th>gender</th>\n",
       "      <th>dept_name</th>\n",
       "      <th>emp_no</th>\n",
       "    </tr>\n",
       "  </thead>\n",
       "  <tbody>\n",
       "    <tr>\n",
       "      <th>0</th>\n",
       "      <td>111692</td>\n",
       "      <td>M</td>\n",
       "      <td>Customer Service</td>\n",
       "      <td>10038</td>\n",
       "    </tr>\n",
       "    <tr>\n",
       "      <th>1</th>\n",
       "      <td>111784</td>\n",
       "      <td>M</td>\n",
       "      <td>Customer Service</td>\n",
       "      <td>10038</td>\n",
       "    </tr>\n",
       "    <tr>\n",
       "      <th>2</th>\n",
       "      <td>111877</td>\n",
       "      <td>M</td>\n",
       "      <td>Customer Service</td>\n",
       "      <td>10038</td>\n",
       "    </tr>\n",
       "    <tr>\n",
       "      <th>3</th>\n",
       "      <td>111939</td>\n",
       "      <td>M</td>\n",
       "      <td>Customer Service</td>\n",
       "      <td>10038</td>\n",
       "    </tr>\n",
       "    <tr>\n",
       "      <th>4</th>\n",
       "      <td>111692</td>\n",
       "      <td>F</td>\n",
       "      <td>Customer Service</td>\n",
       "      <td>10049</td>\n",
       "    </tr>\n",
       "  </tbody>\n",
       "</table>\n",
       "</div>"
      ],
      "text/plain": [
       "   manager_emp_no gender         dept_name  emp_no\n",
       "0          111692      M  Customer Service   10038\n",
       "1          111784      M  Customer Service   10038\n",
       "2          111877      M  Customer Service   10038\n",
       "3          111939      M  Customer Service   10038\n",
       "4          111692      F  Customer Service   10049"
      ]
     },
     "execution_count": 123,
     "metadata": {},
     "output_type": "execute_result"
    }
   ],
   "source": [
    "query.head()"
   ]
  },
  {
   "cell_type": "code",
   "execution_count": 124,
   "id": "986164a1",
   "metadata": {},
   "outputs": [
    {
     "data": {
      "text/html": [
       "<div>\n",
       "<style scoped>\n",
       "    .dataframe tbody tr th:only-of-type {\n",
       "        vertical-align: middle;\n",
       "    }\n",
       "\n",
       "    .dataframe tbody tr th {\n",
       "        vertical-align: top;\n",
       "    }\n",
       "\n",
       "    .dataframe thead th {\n",
       "        text-align: right;\n",
       "    }\n",
       "</style>\n",
       "<table border=\"1\" class=\"dataframe\">\n",
       "  <thead>\n",
       "    <tr style=\"text-align: right;\">\n",
       "      <th>manager_emp_no</th>\n",
       "      <th>110022</th>\n",
       "      <th>110039</th>\n",
       "      <th>110085</th>\n",
       "      <th>110114</th>\n",
       "      <th>110183</th>\n",
       "      <th>110228</th>\n",
       "      <th>110303</th>\n",
       "      <th>110344</th>\n",
       "      <th>110386</th>\n",
       "      <th>110420</th>\n",
       "      <th>...</th>\n",
       "      <th>110800</th>\n",
       "      <th>110854</th>\n",
       "      <th>111035</th>\n",
       "      <th>111133</th>\n",
       "      <th>111400</th>\n",
       "      <th>111534</th>\n",
       "      <th>111692</th>\n",
       "      <th>111784</th>\n",
       "      <th>111877</th>\n",
       "      <th>111939</th>\n",
       "    </tr>\n",
       "    <tr>\n",
       "      <th>gender</th>\n",
       "      <th></th>\n",
       "      <th></th>\n",
       "      <th></th>\n",
       "      <th></th>\n",
       "      <th></th>\n",
       "      <th></th>\n",
       "      <th></th>\n",
       "      <th></th>\n",
       "      <th></th>\n",
       "      <th></th>\n",
       "      <th></th>\n",
       "      <th></th>\n",
       "      <th></th>\n",
       "      <th></th>\n",
       "      <th></th>\n",
       "      <th></th>\n",
       "      <th></th>\n",
       "      <th></th>\n",
       "      <th></th>\n",
       "      <th></th>\n",
       "      <th></th>\n",
       "    </tr>\n",
       "  </thead>\n",
       "  <tbody>\n",
       "    <tr>\n",
       "      <th>F</th>\n",
       "      <td>5864</td>\n",
       "      <td>5864</td>\n",
       "      <td>5014</td>\n",
       "      <td>5014</td>\n",
       "      <td>5147</td>\n",
       "      <td>5147</td>\n",
       "      <td>21393</td>\n",
       "      <td>21393</td>\n",
       "      <td>21393</td>\n",
       "      <td>21393</td>\n",
       "      <td>...</td>\n",
       "      <td>5872</td>\n",
       "      <td>5872</td>\n",
       "      <td>14999</td>\n",
       "      <td>14999</td>\n",
       "      <td>6181</td>\n",
       "      <td>6181</td>\n",
       "      <td>7007</td>\n",
       "      <td>7007</td>\n",
       "      <td>7007</td>\n",
       "      <td>7007</td>\n",
       "    </tr>\n",
       "    <tr>\n",
       "      <th>M</th>\n",
       "      <td>8978</td>\n",
       "      <td>8978</td>\n",
       "      <td>7423</td>\n",
       "      <td>7423</td>\n",
       "      <td>7751</td>\n",
       "      <td>7751</td>\n",
       "      <td>31911</td>\n",
       "      <td>31911</td>\n",
       "      <td>31911</td>\n",
       "      <td>31911</td>\n",
       "      <td>...</td>\n",
       "      <td>8674</td>\n",
       "      <td>8674</td>\n",
       "      <td>22702</td>\n",
       "      <td>22702</td>\n",
       "      <td>9260</td>\n",
       "      <td>9260</td>\n",
       "      <td>10562</td>\n",
       "      <td>10562</td>\n",
       "      <td>10562</td>\n",
       "      <td>10562</td>\n",
       "    </tr>\n",
       "  </tbody>\n",
       "</table>\n",
       "<p>2 rows × 24 columns</p>\n",
       "</div>"
      ],
      "text/plain": [
       "manager_emp_no  110022  110039  110085  110114  110183  110228  110303  \\\n",
       "gender                                                                   \n",
       "F                 5864    5864    5014    5014    5147    5147   21393   \n",
       "M                 8978    8978    7423    7423    7751    7751   31911   \n",
       "\n",
       "manager_emp_no  110344  110386  110420  ...  110800  110854  111035  111133  \\\n",
       "gender                                  ...                                   \n",
       "F                21393   21393   21393  ...    5872    5872   14999   14999   \n",
       "M                31911   31911   31911  ...    8674    8674   22702   22702   \n",
       "\n",
       "manager_emp_no  111400  111534  111692  111784  111877  111939  \n",
       "gender                                                          \n",
       "F                 6181    6181    7007    7007    7007    7007  \n",
       "M                 9260    9260   10562   10562   10562   10562  \n",
       "\n",
       "[2 rows x 24 columns]"
      ]
     },
     "execution_count": 124,
     "metadata": {},
     "output_type": "execute_result"
    }
   ],
   "source": [
    "observed = pd.crosstab(query.gender, query.manager_emp_no)"
   ]
  },
  {
   "cell_type": "code",
   "execution_count": 125,
   "id": "c14fb20f",
   "metadata": {},
   "outputs": [],
   "source": [
    "chi2,p,degf,expected = stats.chi2_contingency(observed)"
   ]
  },
  {
   "cell_type": "code",
   "execution_count": 126,
   "id": "d444b6b3",
   "metadata": {},
   "outputs": [
    {
     "name": "stdout",
     "output_type": "stream",
     "text": [
      "Observed\n",
      "[[ 28028  49066  10028  10294  11728  85572  23488  12362  29998]\n",
      " [ 42248  73706  14846  15502  17956 127644  34696  18520  45404]]\n",
      "\n",
      "Expected\n",
      "[[ 28124  49133   9954  10323  11879  85328  23285  12358  30175]\n",
      " [ 42151  73638  14919  15472  17804 127887  34898  18523  45226]]\n",
      "\n",
      "----\n",
      "chi^2 = 10.8187\n",
      "p     = 0.2122\n"
     ]
    }
   ],
   "source": [
    "print('Observed')\n",
    "print(observed.values)\n",
    "print('\\nExpected')\n",
    "print(expected.astype(int))\n",
    "print('\\n----')\n",
    "print(f'chi^2 = {chi2:.4f}')\n",
    "print(f'p     = {p:.4f}')"
   ]
  },
  {
   "cell_type": "code",
   "execution_count": 129,
   "id": "c5959ebd",
   "metadata": {},
   "outputs": [
    {
     "name": "stdout",
     "output_type": "stream",
     "text": [
      "fail to reject the null hypothesis\n"
     ]
    }
   ],
   "source": [
    "if p < alpha:\n",
    "    print('reject the null hypothesis')\n",
    "else:\n",
    "    print('fail to reject the null hypothesis')"
   ]
  },
  {
   "cell_type": "code",
   "execution_count": null,
   "id": "854476dd",
   "metadata": {},
   "outputs": [],
   "source": []
  },
  {
   "cell_type": "code",
   "execution_count": null,
   "id": "0795dae8",
   "metadata": {},
   "outputs": [],
   "source": []
  }
 ],
 "metadata": {
  "kernelspec": {
   "display_name": "Python 3 (ipykernel)",
   "language": "python",
   "name": "python3"
  },
  "language_info": {
   "codemirror_mode": {
    "name": "ipython",
    "version": 3
   },
   "file_extension": ".py",
   "mimetype": "text/x-python",
   "name": "python",
   "nbconvert_exporter": "python",
   "pygments_lexer": "ipython3",
   "version": "3.11.5"
  }
 },
 "nbformat": 4,
 "nbformat_minor": 5
}
