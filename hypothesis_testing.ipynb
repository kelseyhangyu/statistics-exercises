{
 "cells": [
  {
   "cell_type": "markdown",
   "id": "ba029aa5",
   "metadata": {},
   "source": [
    "- Has the network latency gone up since we switched internet service providers?"
   ]
  },
  {
   "cell_type": "markdown",
   "id": "f74da1a7",
   "metadata": {},
   "source": [
    "Ho:  the network latency did not change since we switched internet service providers.\n",
    "Ha:  the network latency has gone up since we switched internet service providers.\n",
    "\n",
    "True positive: Rejecting the null hypothesis when it's false. Change has been detected.\n",
    "True negative: Accepting Ho when it's true. Change has not been detected.\n",
    "Type I: Rejecting the Ho when it's true. Falsely concluded that there is a change while in reality there was not.\n",
    "Type II: Accepting the Ho when it's False. Falsely concluded there is no change when there is a change."
   ]
  },
  {
   "cell_type": "markdown",
   "id": "7bedd59f",
   "metadata": {},
   "source": [
    "- Is the website redesign any good?"
   ]
  },
  {
   "cell_type": "markdown",
   "id": "dffca32f",
   "metadata": {},
   "source": [
    "Ho: webredesign is the same as previous webdesign\n",
    "Ha: webredeign is better than previous webdesign\n",
    "\n",
    "True positive: Rejecting the null hypothesis when it's false. Webredesign is better.\n",
    "True negative: Accepting Ho when it's true. webredisgn is the same.\n",
    "Type I: Rejecting the Ho when it's true. Falsely concluded that webredesign is better where in reality they are the same.\n",
    "Type II: Accepting the Ho when it's False. Falsely concluded webredesign is the same where in reality webredisgn is better."
   ]
  },
  {
   "cell_type": "markdown",
   "id": "5835b857",
   "metadata": {},
   "source": [
    "- Is our television ad driving more sales?"
   ]
  },
  {
   "cell_type": "markdown",
   "id": "020378b8",
   "metadata": {},
   "source": [
    "Ho: our television ad does not affect sales\n",
    "Ha: our television ad drives more sales\n",
    "\n",
    "True positive: Rejecting the null hypothesis when it's false. tele ad drives more sales.\n",
    "True negative: Accepting Ho when it's true. tele ad does not affect sales\n",
    "Type I: Rejecting the Ho when it's true. Falsely concluded that tele ad drives more sales when in reality it does not affect the sales.\n",
    "Type II: Accepting the Ho when it's False. Falsely concluded tele ad does not affect sales when in reality it drives more sales."
   ]
  }
 ],
 "metadata": {
  "kernelspec": {
   "display_name": "Python 3 (ipykernel)",
   "language": "python",
   "name": "python3"
  },
  "language_info": {
   "codemirror_mode": {
    "name": "ipython",
    "version": 3
   },
   "file_extension": ".py",
   "mimetype": "text/x-python",
   "name": "python",
   "nbconvert_exporter": "python",
   "pygments_lexer": "ipython3",
   "version": "3.11.5"
  }
 },
 "nbformat": 4,
 "nbformat_minor": 5
}
