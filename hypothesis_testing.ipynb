{
 "cells": [
  {
   "cell_type": "markdown",
   "id": "ba029aa5",
   "metadata": {},
   "source": [
    "- Has the network latency gone up since we switched internet service providers?"
   ]
  },
  {
   "cell_type": "markdown",
   "id": "f74da1a7",
   "metadata": {},
   "source": [
    "Ho:  the network latency did not change since we switched internet service providers.\n",
    "Ha:  the network latency has gone up since we switched internet service providers.\n",
    "\n",
    "True positive: Rejecting the null hypothesis when it's false. Change has been detected.\n",
    "True negative: Accepting Ho when it's true. Change has not been detected.\n",
    "Type I: Rejecting the Ho when it's true. Falsely concluded that there is a change while in reality there was not.\n",
    "Type II: Accepting the Ho when it's False. Falsely concluded there is no change when there is a change."
   ]
  },
  {
   "cell_type": "markdown",
   "id": "7bedd59f",
   "metadata": {},
   "source": [
    "- Is the website redesign any good?"
   ]
  },
  {
   "cell_type": "markdown",
   "id": "dffca32f",
   "metadata": {},
   "source": [
    "Ho: webredesign is the same as previous webdesign\n",
    "Ha: webredeign is better than previous webdesign\n",
    "\n",
    "True positive: Rejecting the null hypothesis when it's false. Webredesign is better.\n",
    "True negative: Accepting Ho when it's true. webredisgn is the same.\n",
    "Type I: Rejecting the Ho when it's true. Falsely concluded that webredesign is better where in reality they are the same.\n",
    "Type II: Accepting the Ho when it's False. Falsely concluded webredesign is the same where in reality webredisgn is better."
   ]
  },
  {
   "cell_type": "markdown",
   "id": "5835b857",
   "metadata": {},
   "source": [
    "- Is our television ad driving more sales?"
   ]
  },
  {
   "cell_type": "markdown",
   "id": "020378b8",
   "metadata": {},
   "source": [
    "Ho: our television ad does not affect sales\n",
    "Ha: our television ad drives more sales\n",
    "\n",
    "True positive: Rejecting the null hypothesis when it's false. tele ad drives more sales.\n",
    "True negative: Accepting Ho when it's true. tele ad does not affect sales\n",
    "Type I: Rejecting the Ho when it's true. Falsely concluded that tele ad drives more sales when in reality it does not affect the sales.\n",
    "Type II: Accepting the Ho when it's False. Falsely concluded tele ad does not affect sales when in reality it drives more sales."
   ]
  },
  {
   "cell_type": "markdown",
   "id": "5c48ec37",
   "metadata": {},
   "source": [
    "# -------------------------- Chi Square exercises ---------------------------- #"
   ]
  },
  {
   "cell_type": "markdown",
   "id": "28a45764",
   "metadata": {},
   "source": [
    "# 1. Does using a Macbook and being a Codeup student are independent of each other.\n",
    "\n",
    "Ho: using a Macbook and being a Codeup student are independent of each other.\n",
    "Ha: using a Macbook and being a Codeup student are dependent of each other."
   ]
  },
  {
   "cell_type": "code",
   "execution_count": 136,
   "id": "00aa5f9b",
   "metadata": {},
   "outputs": [],
   "source": [
    "import pandas as pd\n",
    "import numpy as np\n",
    "\n",
    "from pydataset import data\n",
    "from scipy import stats"
   ]
  },
  {
   "cell_type": "code",
   "execution_count": 132,
   "id": "b374de85",
   "metadata": {},
   "outputs": [
    {
     "data": {
      "text/html": [
       "<div>\n",
       "<style scoped>\n",
       "    .dataframe tbody tr th:only-of-type {\n",
       "        vertical-align: middle;\n",
       "    }\n",
       "\n",
       "    .dataframe tbody tr th {\n",
       "        vertical-align: top;\n",
       "    }\n",
       "\n",
       "    .dataframe thead th {\n",
       "        text-align: right;\n",
       "    }\n",
       "</style>\n",
       "<table border=\"1\" class=\"dataframe\">\n",
       "  <thead>\n",
       "    <tr style=\"text-align: right;\">\n",
       "      <th></th>\n",
       "      <th>mac</th>\n",
       "      <th>notmac</th>\n",
       "    </tr>\n",
       "    <tr>\n",
       "      <th>codeup</th>\n",
       "      <th></th>\n",
       "      <th></th>\n",
       "    </tr>\n",
       "  </thead>\n",
       "  <tbody>\n",
       "    <tr>\n",
       "      <th>yes</th>\n",
       "      <td>49</td>\n",
       "      <td>20</td>\n",
       "    </tr>\n",
       "    <tr>\n",
       "      <th>no</th>\n",
       "      <td>1</td>\n",
       "      <td>30</td>\n",
       "    </tr>\n",
       "  </tbody>\n",
       "</table>\n",
       "</div>"
      ],
      "text/plain": [
       "        mac  notmac\n",
       "codeup             \n",
       "yes      49      20\n",
       "no        1      30"
      ]
     },
     "execution_count": 132,
     "metadata": {},
     "output_type": "execute_result"
    }
   ],
   "source": [
    "data = {\n",
    "    'codeup': ['yes', 'no'],\n",
    "    'mac': [49, 1],\n",
    "    'notmac':[20,30]\n",
    "}\n",
    "\n",
    "df = pd.DataFrame(data)\n",
    "df = df.set_index('codeup')\n",
    "df"
   ]
  },
  {
   "cell_type": "code",
   "execution_count": 84,
   "id": "ba343f21",
   "metadata": {},
   "outputs": [],
   "source": [
    "alpha = 0.05"
   ]
  },
  {
   "cell_type": "code",
   "execution_count": 79,
   "id": "efb1263f",
   "metadata": {},
   "outputs": [
    {
     "data": {
      "text/plain": [
       "1.4116760526193828e-09"
      ]
     },
     "execution_count": 79,
     "metadata": {},
     "output_type": "execute_result"
    }
   ],
   "source": [
    "chi2,p,degf,expected = stats.chi2_contingency(df)\n",
    "p"
   ]
  },
  {
   "cell_type": "code",
   "execution_count": 82,
   "id": "3f625531",
   "metadata": {},
   "outputs": [
    {
     "name": "stdout",
     "output_type": "stream",
     "text": [
      "df\n",
      "[[49 20]\n",
      " [ 1 30]]\n",
      "\n",
      "Expected\n",
      "[[34 34]\n",
      " [15 15]]\n",
      "\n",
      "----\n",
      "chi^2 = 36.6526\n",
      "p     = 0.0000\n"
     ]
    }
   ],
   "source": [
    "print('df')\n",
    "print(df.values)\n",
    "print('\\nExpected')\n",
    "print(expected.astype(int))\n",
    "print('\\n----')\n",
    "print(f'chi^2 = {chi2:.4f}')\n",
    "print(f'p     = {p:.4f}')"
   ]
  },
  {
   "cell_type": "code",
   "execution_count": 86,
   "id": "7eaa5129",
   "metadata": {},
   "outputs": [
    {
     "name": "stdout",
     "output_type": "stream",
     "text": [
      "reject the null hypothesis, using a Macbook and being a Codeup student are dependent of each other. \n"
     ]
    }
   ],
   "source": [
    "if p < alpha:\n",
    "    print('reject the null hypothesis, using a Macbook and being a Codeup student are dependent of each other. ')\n",
    "else:\n",
    "    print('fail to reject the null hypothesis')"
   ]
  },
  {
   "cell_type": "markdown",
   "id": "38c428de",
   "metadata": {},
   "source": [
    "# 2. Choose another 2 categorical variables from the mpg dataset."
   ]
  },
  {
   "cell_type": "code",
   "execution_count": null,
   "id": "9a2cc662",
   "metadata": {},
   "outputs": [],
   "source": [
    "# State your null and alternative hypotheses.\n",
    "Ho: year has no impact on city mile per gallon\n",
    "Ha: year has impact on city mile per gallon"
   ]
  },
  {
   "cell_type": "code",
   "execution_count": 138,
   "id": "29bb1d3b",
   "metadata": {},
   "outputs": [
    {
     "name": "stdout",
     "output_type": "stream",
     "text": [
      "mpg\n",
      "\n",
      "PyDataset Documentation (adopted from R Documentation. The displayed examples are in R)\n",
      "\n",
      "## Fuel economy data from 1999 and 2008 for 38 popular models of car\n",
      "\n",
      "### Description\n",
      "\n",
      "This dataset contains a subset of the fuel economy data that the EPA makes\n",
      "available on http://fueleconomy.gov. It contains only models which had a new\n",
      "release every year between 1999 and 2008 - this was used as a proxy for the\n",
      "popularity of the car.\n",
      "\n",
      "### Usage\n",
      "\n",
      "    data(mpg)\n",
      "\n",
      "### Format\n",
      "\n",
      "A data frame with 234 rows and 11 variables\n",
      "\n",
      "### Details\n",
      "\n",
      "  * manufacturer. \n",
      "\n",
      "  * model. \n",
      "\n",
      "  * displ. engine displacement, in litres \n",
      "\n",
      "  * year. \n",
      "\n",
      "  * cyl. number of cylinders \n",
      "\n",
      "  * trans. type of transmission \n",
      "\n",
      "  * drv. f = front-wheel drive, r = rear wheel drive, 4 = 4wd \n",
      "\n",
      "  * cty. city miles per gallon \n",
      "\n",
      "  * hwy. highway miles per gallon \n",
      "\n",
      "  * fl. \n",
      "\n",
      "  * class. \n",
      "\n",
      "\n"
     ]
    },
    {
     "data": {
      "text/html": [
       "<div>\n",
       "<style scoped>\n",
       "    .dataframe tbody tr th:only-of-type {\n",
       "        vertical-align: middle;\n",
       "    }\n",
       "\n",
       "    .dataframe tbody tr th {\n",
       "        vertical-align: top;\n",
       "    }\n",
       "\n",
       "    .dataframe thead th {\n",
       "        text-align: right;\n",
       "    }\n",
       "</style>\n",
       "<table border=\"1\" class=\"dataframe\">\n",
       "  <thead>\n",
       "    <tr style=\"text-align: right;\">\n",
       "      <th></th>\n",
       "      <th>manufacturer</th>\n",
       "      <th>model</th>\n",
       "      <th>displ</th>\n",
       "      <th>year</th>\n",
       "      <th>cyl</th>\n",
       "      <th>trans</th>\n",
       "      <th>drv</th>\n",
       "      <th>cty</th>\n",
       "      <th>hwy</th>\n",
       "      <th>fl</th>\n",
       "      <th>class</th>\n",
       "    </tr>\n",
       "  </thead>\n",
       "  <tbody>\n",
       "    <tr>\n",
       "      <th>1</th>\n",
       "      <td>audi</td>\n",
       "      <td>a4</td>\n",
       "      <td>1.8</td>\n",
       "      <td>1999</td>\n",
       "      <td>4</td>\n",
       "      <td>auto(l5)</td>\n",
       "      <td>f</td>\n",
       "      <td>18</td>\n",
       "      <td>29</td>\n",
       "      <td>p</td>\n",
       "      <td>compact</td>\n",
       "    </tr>\n",
       "    <tr>\n",
       "      <th>2</th>\n",
       "      <td>audi</td>\n",
       "      <td>a4</td>\n",
       "      <td>1.8</td>\n",
       "      <td>1999</td>\n",
       "      <td>4</td>\n",
       "      <td>manual(m5)</td>\n",
       "      <td>f</td>\n",
       "      <td>21</td>\n",
       "      <td>29</td>\n",
       "      <td>p</td>\n",
       "      <td>compact</td>\n",
       "    </tr>\n",
       "    <tr>\n",
       "      <th>3</th>\n",
       "      <td>audi</td>\n",
       "      <td>a4</td>\n",
       "      <td>2.0</td>\n",
       "      <td>2008</td>\n",
       "      <td>4</td>\n",
       "      <td>manual(m6)</td>\n",
       "      <td>f</td>\n",
       "      <td>20</td>\n",
       "      <td>31</td>\n",
       "      <td>p</td>\n",
       "      <td>compact</td>\n",
       "    </tr>\n",
       "    <tr>\n",
       "      <th>4</th>\n",
       "      <td>audi</td>\n",
       "      <td>a4</td>\n",
       "      <td>2.0</td>\n",
       "      <td>2008</td>\n",
       "      <td>4</td>\n",
       "      <td>auto(av)</td>\n",
       "      <td>f</td>\n",
       "      <td>21</td>\n",
       "      <td>30</td>\n",
       "      <td>p</td>\n",
       "      <td>compact</td>\n",
       "    </tr>\n",
       "    <tr>\n",
       "      <th>5</th>\n",
       "      <td>audi</td>\n",
       "      <td>a4</td>\n",
       "      <td>2.8</td>\n",
       "      <td>1999</td>\n",
       "      <td>6</td>\n",
       "      <td>auto(l5)</td>\n",
       "      <td>f</td>\n",
       "      <td>16</td>\n",
       "      <td>26</td>\n",
       "      <td>p</td>\n",
       "      <td>compact</td>\n",
       "    </tr>\n",
       "  </tbody>\n",
       "</table>\n",
       "</div>"
      ],
      "text/plain": [
       "  manufacturer model  displ  year  cyl       trans drv  cty  hwy fl    class\n",
       "1         audi    a4    1.8  1999    4    auto(l5)   f   18   29  p  compact\n",
       "2         audi    a4    1.8  1999    4  manual(m5)   f   21   29  p  compact\n",
       "3         audi    a4    2.0  2008    4  manual(m6)   f   20   31  p  compact\n",
       "4         audi    a4    2.0  2008    4    auto(av)   f   21   30  p  compact\n",
       "5         audi    a4    2.8  1999    6    auto(l5)   f   16   26  p  compact"
      ]
     },
     "execution_count": 138,
     "metadata": {},
     "output_type": "execute_result"
    }
   ],
   "source": [
    "mpg = data('mpg')\n",
    "data('mpg',show_doc =True)\n",
    "mpg.head(5)\n"
   ]
  },
  {
   "cell_type": "code",
   "execution_count": null,
   "id": "a44b29fa",
   "metadata": {},
   "outputs": [],
   "source": [
    "# State your alpha.\n",
    "alpha = 0.05"
   ]
  },
  {
   "cell_type": "code",
   "execution_count": 98,
   "id": "7e67a147",
   "metadata": {},
   "outputs": [
    {
     "data": {
      "text/html": [
       "<div>\n",
       "<style scoped>\n",
       "    .dataframe tbody tr th:only-of-type {\n",
       "        vertical-align: middle;\n",
       "    }\n",
       "\n",
       "    .dataframe tbody tr th {\n",
       "        vertical-align: top;\n",
       "    }\n",
       "\n",
       "    .dataframe thead th {\n",
       "        text-align: right;\n",
       "    }\n",
       "</style>\n",
       "<table border=\"1\" class=\"dataframe\">\n",
       "  <thead>\n",
       "    <tr style=\"text-align: right;\">\n",
       "      <th>cty</th>\n",
       "      <th>9</th>\n",
       "      <th>11</th>\n",
       "      <th>12</th>\n",
       "      <th>13</th>\n",
       "      <th>14</th>\n",
       "      <th>15</th>\n",
       "      <th>16</th>\n",
       "      <th>17</th>\n",
       "      <th>18</th>\n",
       "      <th>19</th>\n",
       "      <th>...</th>\n",
       "      <th>21</th>\n",
       "      <th>22</th>\n",
       "      <th>23</th>\n",
       "      <th>24</th>\n",
       "      <th>25</th>\n",
       "      <th>26</th>\n",
       "      <th>28</th>\n",
       "      <th>29</th>\n",
       "      <th>33</th>\n",
       "      <th>35</th>\n",
       "    </tr>\n",
       "    <tr>\n",
       "      <th>year</th>\n",
       "      <th></th>\n",
       "      <th></th>\n",
       "      <th></th>\n",
       "      <th></th>\n",
       "      <th></th>\n",
       "      <th></th>\n",
       "      <th></th>\n",
       "      <th></th>\n",
       "      <th></th>\n",
       "      <th></th>\n",
       "      <th></th>\n",
       "      <th></th>\n",
       "      <th></th>\n",
       "      <th></th>\n",
       "      <th></th>\n",
       "      <th></th>\n",
       "      <th></th>\n",
       "      <th></th>\n",
       "      <th></th>\n",
       "      <th></th>\n",
       "      <th></th>\n",
       "    </tr>\n",
       "  </thead>\n",
       "  <tbody>\n",
       "    <tr>\n",
       "      <th>1999</th>\n",
       "      <td>0</td>\n",
       "      <td>16</td>\n",
       "      <td>0</td>\n",
       "      <td>7</td>\n",
       "      <td>9</td>\n",
       "      <td>16</td>\n",
       "      <td>10</td>\n",
       "      <td>5</td>\n",
       "      <td>21</td>\n",
       "      <td>11</td>\n",
       "      <td>...</td>\n",
       "      <td>11</td>\n",
       "      <td>0</td>\n",
       "      <td>1</td>\n",
       "      <td>4</td>\n",
       "      <td>1</td>\n",
       "      <td>1</td>\n",
       "      <td>1</td>\n",
       "      <td>1</td>\n",
       "      <td>1</td>\n",
       "      <td>1</td>\n",
       "    </tr>\n",
       "    <tr>\n",
       "      <th>2008</th>\n",
       "      <td>5</td>\n",
       "      <td>4</td>\n",
       "      <td>8</td>\n",
       "      <td>14</td>\n",
       "      <td>10</td>\n",
       "      <td>8</td>\n",
       "      <td>9</td>\n",
       "      <td>11</td>\n",
       "      <td>5</td>\n",
       "      <td>9</td>\n",
       "      <td>...</td>\n",
       "      <td>12</td>\n",
       "      <td>4</td>\n",
       "      <td>2</td>\n",
       "      <td>1</td>\n",
       "      <td>1</td>\n",
       "      <td>2</td>\n",
       "      <td>1</td>\n",
       "      <td>0</td>\n",
       "      <td>0</td>\n",
       "      <td>0</td>\n",
       "    </tr>\n",
       "  </tbody>\n",
       "</table>\n",
       "<p>2 rows × 21 columns</p>\n",
       "</div>"
      ],
      "text/plain": [
       "cty   9   11  12  13  14  15  16  17  18  19  ...  21  22  23  24  25  26  28  \\\n",
       "year                                          ...                               \n",
       "1999   0  16   0   7   9  16  10   5  21  11  ...  11   0   1   4   1   1   1   \n",
       "2008   5   4   8  14  10   8   9  11   5   9  ...  12   4   2   1   1   2   1   \n",
       "\n",
       "cty   29  33  35  \n",
       "year              \n",
       "1999   1   1   1  \n",
       "2008   0   0   0  \n",
       "\n",
       "[2 rows x 21 columns]"
      ]
     },
     "execution_count": 98,
     "metadata": {},
     "output_type": "execute_result"
    }
   ],
   "source": [
    "# Perform a chi square test of independence.\n",
    "observed = pd.crosstab(mpg.year,mpg.cty)\n",
    "observed"
   ]
  },
  {
   "cell_type": "code",
   "execution_count": 100,
   "id": "42421194",
   "metadata": {},
   "outputs": [],
   "source": [
    "chi2,p,degf,expected = stats.chi2_contingency(observed)"
   ]
  },
  {
   "cell_type": "code",
   "execution_count": 101,
   "id": "d5d2988d",
   "metadata": {},
   "outputs": [
    {
     "name": "stdout",
     "output_type": "stream",
     "text": [
      "Observed\n",
      "[[ 0 16  0  7  9 16 10  5 21 11  0 11  0  1  4  1  1  1  1  1  1]\n",
      " [ 5  4  8 14 10  8  9 11  5  9 11 12  4  2  1  1  2  1  0  0  0]]\n",
      "\n",
      "Expected\n",
      "[[ 2 10  4 10  9 12  9  8 13 10  5 11  2  1  2  1  1  1  0  0  0]\n",
      " [ 2 10  4 10  9 12  9  8 13 10  5 11  2  1  2  1  1  1  0  0  0]]\n",
      "\n",
      "----\n",
      "chi^2 = 58.1116\n",
      "p     = 0.0000\n"
     ]
    }
   ],
   "source": [
    "print('Observed')\n",
    "print(observed.values)\n",
    "print('\\nExpected')\n",
    "print(expected.astype(int))\n",
    "print('\\n----')\n",
    "print(f'chi^2 = {chi2:.4f}')\n",
    "print(f'p     = {p:.4f}')"
   ]
  },
  {
   "cell_type": "code",
   "execution_count": 103,
   "id": "ebf2201d",
   "metadata": {},
   "outputs": [
    {
     "name": "stdout",
     "output_type": "stream",
     "text": [
      "reject the null hypothesis, year has impact on city mile per gallon\n"
     ]
    }
   ],
   "source": [
    "#compare our p-value and alpha\n",
    "if p < alpha:\n",
    "    print('reject the null hypothesis, year has impact on city mile per gallon')\n",
    "else:\n",
    "    print('fail to reject the null hypothesis')"
   ]
  },
  {
   "cell_type": "markdown",
   "id": "647cc7f3",
   "metadata": {},
   "source": [
    "# 3 Use the data from the employees database to answer these questions:"
   ]
  },
  {
   "cell_type": "code",
   "execution_count": 106,
   "id": "51bca5c5",
   "metadata": {},
   "outputs": [],
   "source": [
    "import env\n",
    "url = f'mysql+pymysql://{env.user}:{env.password}@{env.host}/employees'"
   ]
  },
  {
   "cell_type": "code",
   "execution_count": 121,
   "id": "3de76af3",
   "metadata": {},
   "outputs": [],
   "source": [
    "query = pd.read_sql(\n",
    "\n",
    "'''\n",
    "select dept_manager.emp_no as manager_emp_no, gender, dept_name, employees.emp_no\n",
    "from employees\n",
    "join dept_emp using(emp_no)\n",
    "join departments using(dept_no)\n",
    "join dept_manager using (dept_no)\n",
    "where dept_emp.to_date > now()\n",
    "\n",
    "'''\n",
    "\n",
    ", url)\n"
   ]
  },
  {
   "cell_type": "code",
   "execution_count": 122,
   "id": "58bd76b9",
   "metadata": {},
   "outputs": [
    {
     "data": {
      "text/html": [
       "<div>\n",
       "<style scoped>\n",
       "    .dataframe tbody tr th:only-of-type {\n",
       "        vertical-align: middle;\n",
       "    }\n",
       "\n",
       "    .dataframe tbody tr th {\n",
       "        vertical-align: top;\n",
       "    }\n",
       "\n",
       "    .dataframe thead th {\n",
       "        text-align: right;\n",
       "    }\n",
       "</style>\n",
       "<table border=\"1\" class=\"dataframe\">\n",
       "  <thead>\n",
       "    <tr style=\"text-align: right;\">\n",
       "      <th></th>\n",
       "      <th>manager_emp_no</th>\n",
       "      <th>gender</th>\n",
       "      <th>dept_name</th>\n",
       "      <th>emp_no</th>\n",
       "    </tr>\n",
       "  </thead>\n",
       "  <tbody>\n",
       "    <tr>\n",
       "      <th>0</th>\n",
       "      <td>111692</td>\n",
       "      <td>M</td>\n",
       "      <td>Customer Service</td>\n",
       "      <td>10038</td>\n",
       "    </tr>\n",
       "    <tr>\n",
       "      <th>1</th>\n",
       "      <td>111784</td>\n",
       "      <td>M</td>\n",
       "      <td>Customer Service</td>\n",
       "      <td>10038</td>\n",
       "    </tr>\n",
       "    <tr>\n",
       "      <th>2</th>\n",
       "      <td>111877</td>\n",
       "      <td>M</td>\n",
       "      <td>Customer Service</td>\n",
       "      <td>10038</td>\n",
       "    </tr>\n",
       "    <tr>\n",
       "      <th>3</th>\n",
       "      <td>111939</td>\n",
       "      <td>M</td>\n",
       "      <td>Customer Service</td>\n",
       "      <td>10038</td>\n",
       "    </tr>\n",
       "    <tr>\n",
       "      <th>4</th>\n",
       "      <td>111692</td>\n",
       "      <td>F</td>\n",
       "      <td>Customer Service</td>\n",
       "      <td>10049</td>\n",
       "    </tr>\n",
       "  </tbody>\n",
       "</table>\n",
       "</div>"
      ],
      "text/plain": [
       "   manager_emp_no gender         dept_name  emp_no\n",
       "0          111692      M  Customer Service   10038\n",
       "1          111784      M  Customer Service   10038\n",
       "2          111877      M  Customer Service   10038\n",
       "3          111939      M  Customer Service   10038\n",
       "4          111692      F  Customer Service   10049"
      ]
     },
     "execution_count": 122,
     "metadata": {},
     "output_type": "execute_result"
    }
   ],
   "source": [
    "query.head(5)"
   ]
  },
  {
   "cell_type": "markdown",
   "id": "dc199267",
   "metadata": {},
   "source": [
    "- Is an employee's gender independent of whether an employee works in sales or marketing? (only look at current employees)\n",
    "\n",
    "Ho: independent\n",
    "Ha: dependent"
   ]
  },
  {
   "cell_type": "code",
   "execution_count": 113,
   "id": "ed9d9e2b",
   "metadata": {},
   "outputs": [],
   "source": [
    "observed = pd.crosstab(query.gender,query.dept_name)"
   ]
  },
  {
   "cell_type": "code",
   "execution_count": 114,
   "id": "8009f959",
   "metadata": {},
   "outputs": [],
   "source": [
    "chi2,p,degf,expected = stats.chi2_contingency(observed)"
   ]
  },
  {
   "cell_type": "code",
   "execution_count": 115,
   "id": "ad4afec0",
   "metadata": {},
   "outputs": [
    {
     "name": "stdout",
     "output_type": "stream",
     "text": [
      "Observed\n",
      "[[ 28028  49066  10028  10294  11728  85572  23488  12362  29998]\n",
      " [ 42248  73706  14846  15502  17956 127644  34696  18520  45404]]\n",
      "\n",
      "Expected\n",
      "[[ 28124  49133   9954  10323  11879  85328  23285  12358  30175]\n",
      " [ 42151  73638  14919  15472  17804 127887  34898  18523  45226]]\n",
      "\n",
      "----\n",
      "chi^2 = 10.8187\n",
      "p     = 0.2122\n"
     ]
    }
   ],
   "source": [
    "print('Observed')\n",
    "print(observed.values)\n",
    "print('\\nExpected')\n",
    "print(expected.astype(int))\n",
    "print('\\n----')\n",
    "print(f'chi^2 = {chi2:.4f}')\n",
    "print(f'p     = {p:.4f}')"
   ]
  },
  {
   "cell_type": "code",
   "execution_count": 140,
   "id": "cc753661",
   "metadata": {},
   "outputs": [
    {
     "name": "stdout",
     "output_type": "stream",
     "text": [
      "fail to reject the null hypothesis, gender is independent of department names\n"
     ]
    }
   ],
   "source": [
    "if p < alpha:\n",
    "    print('reject the null hypothesis')\n",
    "else:\n",
    "    print('fail to reject the null hypothesis, gender is independent of department names')"
   ]
  },
  {
   "cell_type": "code",
   "execution_count": 123,
   "id": "3ec7b0da",
   "metadata": {},
   "outputs": [
    {
     "data": {
      "text/html": [
       "<div>\n",
       "<style scoped>\n",
       "    .dataframe tbody tr th:only-of-type {\n",
       "        vertical-align: middle;\n",
       "    }\n",
       "\n",
       "    .dataframe tbody tr th {\n",
       "        vertical-align: top;\n",
       "    }\n",
       "\n",
       "    .dataframe thead th {\n",
       "        text-align: right;\n",
       "    }\n",
       "</style>\n",
       "<table border=\"1\" class=\"dataframe\">\n",
       "  <thead>\n",
       "    <tr style=\"text-align: right;\">\n",
       "      <th></th>\n",
       "      <th>manager_emp_no</th>\n",
       "      <th>gender</th>\n",
       "      <th>dept_name</th>\n",
       "      <th>emp_no</th>\n",
       "    </tr>\n",
       "  </thead>\n",
       "  <tbody>\n",
       "    <tr>\n",
       "      <th>0</th>\n",
       "      <td>111692</td>\n",
       "      <td>M</td>\n",
       "      <td>Customer Service</td>\n",
       "      <td>10038</td>\n",
       "    </tr>\n",
       "    <tr>\n",
       "      <th>1</th>\n",
       "      <td>111784</td>\n",
       "      <td>M</td>\n",
       "      <td>Customer Service</td>\n",
       "      <td>10038</td>\n",
       "    </tr>\n",
       "    <tr>\n",
       "      <th>2</th>\n",
       "      <td>111877</td>\n",
       "      <td>M</td>\n",
       "      <td>Customer Service</td>\n",
       "      <td>10038</td>\n",
       "    </tr>\n",
       "    <tr>\n",
       "      <th>3</th>\n",
       "      <td>111939</td>\n",
       "      <td>M</td>\n",
       "      <td>Customer Service</td>\n",
       "      <td>10038</td>\n",
       "    </tr>\n",
       "    <tr>\n",
       "      <th>4</th>\n",
       "      <td>111692</td>\n",
       "      <td>F</td>\n",
       "      <td>Customer Service</td>\n",
       "      <td>10049</td>\n",
       "    </tr>\n",
       "  </tbody>\n",
       "</table>\n",
       "</div>"
      ],
      "text/plain": [
       "   manager_emp_no gender         dept_name  emp_no\n",
       "0          111692      M  Customer Service   10038\n",
       "1          111784      M  Customer Service   10038\n",
       "2          111877      M  Customer Service   10038\n",
       "3          111939      M  Customer Service   10038\n",
       "4          111692      F  Customer Service   10049"
      ]
     },
     "execution_count": 123,
     "metadata": {},
     "output_type": "execute_result"
    }
   ],
   "source": [
    "query.head()"
   ]
  },
  {
   "cell_type": "code",
   "execution_count": 124,
   "id": "4e63402c",
   "metadata": {},
   "outputs": [
    {
     "data": {
      "text/html": [
       "<div>\n",
       "<style scoped>\n",
       "    .dataframe tbody tr th:only-of-type {\n",
       "        vertical-align: middle;\n",
       "    }\n",
       "\n",
       "    .dataframe tbody tr th {\n",
       "        vertical-align: top;\n",
       "    }\n",
       "\n",
       "    .dataframe thead th {\n",
       "        text-align: right;\n",
       "    }\n",
       "</style>\n",
       "<table border=\"1\" class=\"dataframe\">\n",
       "  <thead>\n",
       "    <tr style=\"text-align: right;\">\n",
       "      <th>manager_emp_no</th>\n",
       "      <th>110022</th>\n",
       "      <th>110039</th>\n",
       "      <th>110085</th>\n",
       "      <th>110114</th>\n",
       "      <th>110183</th>\n",
       "      <th>110228</th>\n",
       "      <th>110303</th>\n",
       "      <th>110344</th>\n",
       "      <th>110386</th>\n",
       "      <th>110420</th>\n",
       "      <th>...</th>\n",
       "      <th>110800</th>\n",
       "      <th>110854</th>\n",
       "      <th>111035</th>\n",
       "      <th>111133</th>\n",
       "      <th>111400</th>\n",
       "      <th>111534</th>\n",
       "      <th>111692</th>\n",
       "      <th>111784</th>\n",
       "      <th>111877</th>\n",
       "      <th>111939</th>\n",
       "    </tr>\n",
       "    <tr>\n",
       "      <th>gender</th>\n",
       "      <th></th>\n",
       "      <th></th>\n",
       "      <th></th>\n",
       "      <th></th>\n",
       "      <th></th>\n",
       "      <th></th>\n",
       "      <th></th>\n",
       "      <th></th>\n",
       "      <th></th>\n",
       "      <th></th>\n",
       "      <th></th>\n",
       "      <th></th>\n",
       "      <th></th>\n",
       "      <th></th>\n",
       "      <th></th>\n",
       "      <th></th>\n",
       "      <th></th>\n",
       "      <th></th>\n",
       "      <th></th>\n",
       "      <th></th>\n",
       "      <th></th>\n",
       "    </tr>\n",
       "  </thead>\n",
       "  <tbody>\n",
       "    <tr>\n",
       "      <th>F</th>\n",
       "      <td>5864</td>\n",
       "      <td>5864</td>\n",
       "      <td>5014</td>\n",
       "      <td>5014</td>\n",
       "      <td>5147</td>\n",
       "      <td>5147</td>\n",
       "      <td>21393</td>\n",
       "      <td>21393</td>\n",
       "      <td>21393</td>\n",
       "      <td>21393</td>\n",
       "      <td>...</td>\n",
       "      <td>5872</td>\n",
       "      <td>5872</td>\n",
       "      <td>14999</td>\n",
       "      <td>14999</td>\n",
       "      <td>6181</td>\n",
       "      <td>6181</td>\n",
       "      <td>7007</td>\n",
       "      <td>7007</td>\n",
       "      <td>7007</td>\n",
       "      <td>7007</td>\n",
       "    </tr>\n",
       "    <tr>\n",
       "      <th>M</th>\n",
       "      <td>8978</td>\n",
       "      <td>8978</td>\n",
       "      <td>7423</td>\n",
       "      <td>7423</td>\n",
       "      <td>7751</td>\n",
       "      <td>7751</td>\n",
       "      <td>31911</td>\n",
       "      <td>31911</td>\n",
       "      <td>31911</td>\n",
       "      <td>31911</td>\n",
       "      <td>...</td>\n",
       "      <td>8674</td>\n",
       "      <td>8674</td>\n",
       "      <td>22702</td>\n",
       "      <td>22702</td>\n",
       "      <td>9260</td>\n",
       "      <td>9260</td>\n",
       "      <td>10562</td>\n",
       "      <td>10562</td>\n",
       "      <td>10562</td>\n",
       "      <td>10562</td>\n",
       "    </tr>\n",
       "  </tbody>\n",
       "</table>\n",
       "<p>2 rows × 24 columns</p>\n",
       "</div>"
      ],
      "text/plain": [
       "manager_emp_no  110022  110039  110085  110114  110183  110228  110303  \\\n",
       "gender                                                                   \n",
       "F                 5864    5864    5014    5014    5147    5147   21393   \n",
       "M                 8978    8978    7423    7423    7751    7751   31911   \n",
       "\n",
       "manager_emp_no  110344  110386  110420  ...  110800  110854  111035  111133  \\\n",
       "gender                                  ...                                   \n",
       "F                21393   21393   21393  ...    5872    5872   14999   14999   \n",
       "M                31911   31911   31911  ...    8674    8674   22702   22702   \n",
       "\n",
       "manager_emp_no  111400  111534  111692  111784  111877  111939  \n",
       "gender                                                          \n",
       "F                 6181    6181    7007    7007    7007    7007  \n",
       "M                 9260    9260   10562   10562   10562   10562  \n",
       "\n",
       "[2 rows x 24 columns]"
      ]
     },
     "execution_count": 124,
     "metadata": {},
     "output_type": "execute_result"
    }
   ],
   "source": [
    "observed = pd.crosstab(query.gender, query.manager_emp_no)"
   ]
  },
  {
   "cell_type": "code",
   "execution_count": 125,
   "id": "3d301434",
   "metadata": {},
   "outputs": [],
   "source": [
    "chi2,p,degf,expected = stats.chi2_contingency(observed)"
   ]
  },
  {
   "cell_type": "code",
   "execution_count": 126,
   "id": "23abacad",
   "metadata": {},
   "outputs": [
    {
     "name": "stdout",
     "output_type": "stream",
     "text": [
      "Observed\n",
      "[[ 28028  49066  10028  10294  11728  85572  23488  12362  29998]\n",
      " [ 42248  73706  14846  15502  17956 127644  34696  18520  45404]]\n",
      "\n",
      "Expected\n",
      "[[ 28124  49133   9954  10323  11879  85328  23285  12358  30175]\n",
      " [ 42151  73638  14919  15472  17804 127887  34898  18523  45226]]\n",
      "\n",
      "----\n",
      "chi^2 = 10.8187\n",
      "p     = 0.2122\n"
     ]
    }
   ],
   "source": [
    "print('Observed')\n",
    "print(observed.values)\n",
    "print('\\nExpected')\n",
    "print(expected.astype(int))\n",
    "print('\\n----')\n",
    "print(f'chi^2 = {chi2:.4f}')\n",
    "print(f'p     = {p:.4f}')"
   ]
  },
  {
   "cell_type": "code",
   "execution_count": 129,
   "id": "cb816c1d",
   "metadata": {},
   "outputs": [
    {
     "name": "stdout",
     "output_type": "stream",
     "text": [
      "fail to reject the null hypothesis\n"
     ]
    }
   ],
   "source": [
    "if p < alpha:\n",
    "    print('reject the null hypothesis')\n",
    "else:\n",
    "    print('fail to reject the null hypothesis')"
   ]
  },
  {
   "cell_type": "markdown",
   "id": "e25fc2f2",
   "metadata": {},
   "source": [
    "# ------------------------- Pearson's Correlation -----------------------------"
   ]
  },
  {
   "cell_type": "markdown",
   "id": "11bb7676",
   "metadata": {},
   "source": [
    "#1 \n",
    "\n",
    "Is there a relationship between the length of your arm and the length of your foot?\n",
    "- Pearson's correlation\n",
    "\n",
    "Does smoking affect when or not someone has lung cancer?\n",
    "- Chi square\n",
    "\n",
    "Is gender independent of a person’s blood type?\n",
    "- Chi square\n",
    "\n",
    "Does whether or not a person has a cat or dog affect whether they live in an apartment?\n",
    "- Chi square"
   ]
  },
  {
   "cell_type": "markdown",
   "id": "f7022cc5",
   "metadata": {},
   "source": [
    "#2 Use the telco_churn data."
   ]
  },
  {
   "cell_type": "code",
   "execution_count": 195,
   "id": "5de84ad1",
   "metadata": {},
   "outputs": [],
   "source": [
    "import pandas as pd\n",
    "import numpy as np\n",
    "import matplotlib.pyplot as plt\n",
    "import seaborn as sns\n",
    "\n",
    "from math import sqrt\n",
    "\n",
    "from scipy import stats\n",
    "from pydataset import data"
   ]
  },
  {
   "cell_type": "code",
   "execution_count": 196,
   "id": "8f1f388b",
   "metadata": {},
   "outputs": [],
   "source": [
    "import env\n",
    "url = f'mysql+pymysql://{env.user}:{env.password}@{env.host}/telco_churn'"
   ]
  },
  {
   "cell_type": "code",
   "execution_count": 198,
   "id": "d386a8dd",
   "metadata": {},
   "outputs": [
    {
     "data": {
      "text/html": [
       "<div>\n",
       "<style scoped>\n",
       "    .dataframe tbody tr th:only-of-type {\n",
       "        vertical-align: middle;\n",
       "    }\n",
       "\n",
       "    .dataframe tbody tr th {\n",
       "        vertical-align: top;\n",
       "    }\n",
       "\n",
       "    .dataframe thead th {\n",
       "        text-align: right;\n",
       "    }\n",
       "</style>\n",
       "<table border=\"1\" class=\"dataframe\">\n",
       "  <thead>\n",
       "    <tr style=\"text-align: right;\">\n",
       "      <th></th>\n",
       "      <th>tenure</th>\n",
       "      <th>monthly_charges</th>\n",
       "      <th>total_charges</th>\n",
       "    </tr>\n",
       "  </thead>\n",
       "  <tbody>\n",
       "    <tr>\n",
       "      <th>0</th>\n",
       "      <td>9</td>\n",
       "      <td>65.6</td>\n",
       "      <td>593.3</td>\n",
       "    </tr>\n",
       "    <tr>\n",
       "      <th>1</th>\n",
       "      <td>9</td>\n",
       "      <td>59.9</td>\n",
       "      <td>542.4</td>\n",
       "    </tr>\n",
       "    <tr>\n",
       "      <th>2</th>\n",
       "      <td>4</td>\n",
       "      <td>73.9</td>\n",
       "      <td>280.85</td>\n",
       "    </tr>\n",
       "    <tr>\n",
       "      <th>3</th>\n",
       "      <td>13</td>\n",
       "      <td>98.0</td>\n",
       "      <td>1237.85</td>\n",
       "    </tr>\n",
       "    <tr>\n",
       "      <th>4</th>\n",
       "      <td>3</td>\n",
       "      <td>83.9</td>\n",
       "      <td>267.4</td>\n",
       "    </tr>\n",
       "  </tbody>\n",
       "</table>\n",
       "</div>"
      ],
      "text/plain": [
       "   tenure  monthly_charges total_charges\n",
       "0       9             65.6         593.3\n",
       "1       9             59.9         542.4\n",
       "2       4             73.9        280.85\n",
       "3      13             98.0       1237.85\n",
       "4       3             83.9         267.4"
      ]
     },
     "execution_count": 198,
     "metadata": {},
     "output_type": "execute_result"
    }
   ],
   "source": [
    "import env\n",
    "url = f'mysql+pymysql://{env.user}:{env.password}@{env.host}/telco_churn'\n",
    "\n",
    "query = pd.read_sql(\n",
    "\n",
    "'''\n",
    "select customers.tenure,customers.monthly_charges,customers.total_charges\n",
    "from customers\n",
    "\n",
    "'''\n",
    "\n",
    ", url)\n",
    "query.head()"
   ]
  },
  {
   "cell_type": "code",
   "execution_count": 199,
   "id": "54871c93",
   "metadata": {},
   "outputs": [
    {
     "name": "stdout",
     "output_type": "stream",
     "text": [
      "<class 'pandas.core.frame.DataFrame'>\n",
      "RangeIndex: 7043 entries, 0 to 7042\n",
      "Data columns (total 3 columns):\n",
      " #   Column           Non-Null Count  Dtype  \n",
      "---  ------           --------------  -----  \n",
      " 0   tenure           7043 non-null   int64  \n",
      " 1   monthly_charges  7043 non-null   float64\n",
      " 2   total_charges    7043 non-null   object \n",
      "dtypes: float64(1), int64(1), object(1)\n",
      "memory usage: 165.2+ KB\n"
     ]
    }
   ],
   "source": [
    "query.info()"
   ]
  },
  {
   "cell_type": "code",
   "execution_count": 200,
   "id": "c1e5ec9f",
   "metadata": {},
   "outputs": [],
   "source": [
    "\n",
    "# Assuming 'query' is your DataFrame\n",
    "query['total_charges'] = pd.to_numeric(query['total_charges'], errors='coerce')\n",
    "\n",
    "# Now, convert the column to float\n",
    "query['total_charges'] = query['total_charges'].astype(float)\n"
   ]
  },
  {
   "cell_type": "code",
   "execution_count": 201,
   "id": "bb2485f3",
   "metadata": {},
   "outputs": [
    {
     "name": "stdout",
     "output_type": "stream",
     "text": [
      "<class 'pandas.core.frame.DataFrame'>\n",
      "RangeIndex: 7043 entries, 0 to 7042\n",
      "Data columns (total 3 columns):\n",
      " #   Column           Non-Null Count  Dtype  \n",
      "---  ------           --------------  -----  \n",
      " 0   tenure           7043 non-null   int64  \n",
      " 1   monthly_charges  7043 non-null   float64\n",
      " 2   total_charges    7032 non-null   float64\n",
      "dtypes: float64(2), int64(1)\n",
      "memory usage: 165.2 KB\n"
     ]
    }
   ],
   "source": [
    "query.info()"
   ]
  },
  {
   "cell_type": "code",
   "execution_count": 192,
   "id": "9e78893d",
   "metadata": {},
   "outputs": [
    {
     "data": {
      "image/png": "[encoded data removed]",
      "text/plain": [
       "<Figure size 640x480 with 1 Axes>"
      ]
     },
     "metadata": {},
     "output_type": "display_data"
    }
   ],
   "source": [
    "#Does tenure correlate with monthly charges?\n",
    "\n",
    "#Ho = not correlate\n",
    "#Ha = Yes correlate\n",
    "\n",
    "r,p=stats.pearsonr(query.tenure,query.monthly_charges)\n",
    "plt.scatter(query.tenure,query.monthly_charges)\n",
    "plt.title('tenure vs. monthly charges')\n",
    "plt.xlabel('tenure')\n",
    "plt.ylabel('monthly charges')\n",
    "plt.show()"
   ]
  },
  {
   "cell_type": "code",
   "execution_count": 193,
   "id": "240ea74f",
   "metadata": {},
   "outputs": [
    {
     "name": "stdout",
     "output_type": "stream",
     "text": [
      "reject the null hypothesis, tenure correlate with monthly charges,with a pearson coefficient of 0.24789985628615246\n"
     ]
    }
   ],
   "source": [
    "alpha = 0.05\n",
    "if p < alpha:\n",
    "    print(f'reject the null hypothesis, tenure correlate with monthly charges,with a pearson coefficient of {r}')\n",
    "else:\n",
    "    print('fail to reject the null hypothesis')\n",
    "    "
   ]
  },
  {
   "cell_type": "code",
   "execution_count": 205,
   "id": "5ae8d550",
   "metadata": {},
   "outputs": [
    {
     "data": {
      "image/png": "[encoded data removed]",
      "text/plain": [
       "<Figure size 640x480 with 1 Axes>"
      ]
     },
     "metadata": {},
     "output_type": "display_data"
    }
   ],
   "source": [
    "#Total charges?\n",
    "#Ho = not correlate\n",
    "#Ha = Yes correlate\n",
    "query.head()\n",
    "plt.scatter(query.tenure,query.total_charges)\n",
    "plt.title('tenure vs. total charges')\n",
    "plt.xlabel('tenure')\n",
    "plt.ylabel('total charges')\n",
    "plt.show()"
   ]
  },
  {
   "cell_type": "code",
   "execution_count": 215,
   "id": "dd40d2fe",
   "metadata": {},
   "outputs": [
    {
     "name": "stdout",
     "output_type": "stream",
     "text": [
      "NaN values in 'total_charges' column: True\n"
     ]
    }
   ],
   "source": [
    "nan_in_total_charges = np.isnan(query['total_charges'])\n"
   ]
  },
  {
   "cell_type": "code",
   "execution_count": 239,
   "id": "243de71c",
   "metadata": {},
   "outputs": [
    {
     "data": {
      "text/html": [
       "<div>\n",
       "<style scoped>\n",
       "    .dataframe tbody tr th:only-of-type {\n",
       "        vertical-align: middle;\n",
       "    }\n",
       "\n",
       "    .dataframe tbody tr th {\n",
       "        vertical-align: top;\n",
       "    }\n",
       "\n",
       "    .dataframe thead th {\n",
       "        text-align: right;\n",
       "    }\n",
       "</style>\n",
       "<table border=\"1\" class=\"dataframe\">\n",
       "  <thead>\n",
       "    <tr style=\"text-align: right;\">\n",
       "      <th></th>\n",
       "      <th>tenure</th>\n",
       "      <th>monthly_charges</th>\n",
       "      <th>total_charges</th>\n",
       "    </tr>\n",
       "  </thead>\n",
       "  <tbody>\n",
       "    <tr>\n",
       "      <th>0</th>\n",
       "      <td>9</td>\n",
       "      <td>65.60</td>\n",
       "      <td>593.30</td>\n",
       "    </tr>\n",
       "    <tr>\n",
       "      <th>1</th>\n",
       "      <td>9</td>\n",
       "      <td>59.90</td>\n",
       "      <td>542.40</td>\n",
       "    </tr>\n",
       "    <tr>\n",
       "      <th>2</th>\n",
       "      <td>4</td>\n",
       "      <td>73.90</td>\n",
       "      <td>280.85</td>\n",
       "    </tr>\n",
       "    <tr>\n",
       "      <th>3</th>\n",
       "      <td>13</td>\n",
       "      <td>98.00</td>\n",
       "      <td>1237.85</td>\n",
       "    </tr>\n",
       "    <tr>\n",
       "      <th>4</th>\n",
       "      <td>3</td>\n",
       "      <td>83.90</td>\n",
       "      <td>267.40</td>\n",
       "    </tr>\n",
       "    <tr>\n",
       "      <th>...</th>\n",
       "      <td>...</td>\n",
       "      <td>...</td>\n",
       "      <td>...</td>\n",
       "    </tr>\n",
       "    <tr>\n",
       "      <th>7038</th>\n",
       "      <td>13</td>\n",
       "      <td>55.15</td>\n",
       "      <td>742.90</td>\n",
       "    </tr>\n",
       "    <tr>\n",
       "      <th>7039</th>\n",
       "      <td>22</td>\n",
       "      <td>85.10</td>\n",
       "      <td>1873.70</td>\n",
       "    </tr>\n",
       "    <tr>\n",
       "      <th>7040</th>\n",
       "      <td>2</td>\n",
       "      <td>50.30</td>\n",
       "      <td>92.75</td>\n",
       "    </tr>\n",
       "    <tr>\n",
       "      <th>7041</th>\n",
       "      <td>67</td>\n",
       "      <td>67.85</td>\n",
       "      <td>4627.65</td>\n",
       "    </tr>\n",
       "    <tr>\n",
       "      <th>7042</th>\n",
       "      <td>63</td>\n",
       "      <td>59.00</td>\n",
       "      <td>3707.60</td>\n",
       "    </tr>\n",
       "  </tbody>\n",
       "</table>\n",
       "<p>7032 rows × 3 columns</p>\n",
       "</div>"
      ],
      "text/plain": [
       "      tenure  monthly_charges  total_charges\n",
       "0          9            65.60         593.30\n",
       "1          9            59.90         542.40\n",
       "2          4            73.90         280.85\n",
       "3         13            98.00        1237.85\n",
       "4          3            83.90         267.40\n",
       "...      ...              ...            ...\n",
       "7038      13            55.15         742.90\n",
       "7039      22            85.10        1873.70\n",
       "7040       2            50.30          92.75\n",
       "7041      67            67.85        4627.65\n",
       "7042      63            59.00        3707.60\n",
       "\n",
       "[7032 rows x 3 columns]"
      ]
     },
     "execution_count": 239,
     "metadata": {},
     "output_type": "execute_result"
    }
   ],
   "source": [
    "# Assuming 'query' is your DataFrame\n",
    "# Filter out rows with NaN values in 'total_charges' column\n",
    "query_filtered = query.dropna()\n",
    "\n",
    "# Now 'query_filtered' contains only the rows where 'total_charges' is not NaN\n",
    "query_filtered"
   ]
  },
  {
   "cell_type": "code",
   "execution_count": 240,
   "id": "aa53b7cd",
   "metadata": {},
   "outputs": [
    {
     "data": {
      "text/plain": [
       "(0.8258804609332071, 0.0)"
      ]
     },
     "execution_count": 240,
     "metadata": {},
     "output_type": "execute_result"
    }
   ],
   "source": [
    "r,p=stats.pearsonr(query_filtered.tenure,query_filtered.total_charges)\n",
    "r,p"
   ]
  },
  {
   "cell_type": "code",
   "execution_count": 243,
   "id": "581374ec",
   "metadata": {},
   "outputs": [
    {
     "name": "stdout",
     "output_type": "stream",
     "text": [
      "reject the null hypothesis, tenure correlate with total charges,with a pearson coefficient of 0.8258804609332071\n"
     ]
    }
   ],
   "source": [
    "alpha = 0.05\n",
    "if p < alpha:\n",
    "    print(f'reject the null hypothesis, tenure correlate with total charges,with a pearson coefficient of {r}')\n",
    "else:\n",
    "    print('fail to reject the null hypothesis')\n",
    "    "
   ]
  },
  {
   "cell_type": "code",
   "execution_count": 244,
   "id": "e47e4056",
   "metadata": {},
   "outputs": [
    {
     "data": {
      "text/html": [
       "<div>\n",
       "<style scoped>\n",
       "    .dataframe tbody tr th:only-of-type {\n",
       "        vertical-align: middle;\n",
       "    }\n",
       "\n",
       "    .dataframe tbody tr th {\n",
       "        vertical-align: top;\n",
       "    }\n",
       "\n",
       "    .dataframe thead th {\n",
       "        text-align: right;\n",
       "    }\n",
       "</style>\n",
       "<table border=\"1\" class=\"dataframe\">\n",
       "  <thead>\n",
       "    <tr style=\"text-align: right;\">\n",
       "      <th></th>\n",
       "      <th>tenure</th>\n",
       "      <th>monthly_charges</th>\n",
       "      <th>total_charges</th>\n",
       "      <th>phone_service</th>\n",
       "      <th>internet_service_type_id</th>\n",
       "    </tr>\n",
       "  </thead>\n",
       "  <tbody>\n",
       "    <tr>\n",
       "      <th>0</th>\n",
       "      <td>50</td>\n",
       "      <td>25.20</td>\n",
       "      <td>1306.3</td>\n",
       "      <td>Yes</td>\n",
       "      <td>3</td>\n",
       "    </tr>\n",
       "    <tr>\n",
       "      <th>1</th>\n",
       "      <td>3</td>\n",
       "      <td>19.85</td>\n",
       "      <td>57.2</td>\n",
       "      <td>Yes</td>\n",
       "      <td>3</td>\n",
       "    </tr>\n",
       "    <tr>\n",
       "      <th>2</th>\n",
       "      <td>4</td>\n",
       "      <td>20.35</td>\n",
       "      <td>76.35</td>\n",
       "      <td>Yes</td>\n",
       "      <td>3</td>\n",
       "    </tr>\n",
       "    <tr>\n",
       "      <th>3</th>\n",
       "      <td>54</td>\n",
       "      <td>20.40</td>\n",
       "      <td>1090.6</td>\n",
       "      <td>Yes</td>\n",
       "      <td>3</td>\n",
       "    </tr>\n",
       "    <tr>\n",
       "      <th>4</th>\n",
       "      <td>26</td>\n",
       "      <td>19.60</td>\n",
       "      <td>471.85</td>\n",
       "      <td>Yes</td>\n",
       "      <td>3</td>\n",
       "    </tr>\n",
       "  </tbody>\n",
       "</table>\n",
       "</div>"
      ],
      "text/plain": [
       "   tenure  monthly_charges total_charges phone_service  \\\n",
       "0      50            25.20        1306.3           Yes   \n",
       "1       3            19.85          57.2           Yes   \n",
       "2       4            20.35         76.35           Yes   \n",
       "3      54            20.40        1090.6           Yes   \n",
       "4      26            19.60        471.85           Yes   \n",
       "\n",
       "   internet_service_type_id  \n",
       "0                         3  \n",
       "1                         3  \n",
       "2                         3  \n",
       "3                         3  \n",
       "4                         3  "
      ]
     },
     "execution_count": 244,
     "metadata": {},
     "output_type": "execute_result"
    }
   ],
   "source": [
    "#What happens if you control for phone and internet service?\n",
    "\n",
    "q2 = pd.read_sql(\n",
    "\n",
    "'''\n",
    "select tenure,monthly_charges,total_charges,phone_service,internet_service_type_id\n",
    "from customers\n",
    "where phone_service in ('Yes')\n",
    "and internet_service_type_id = 3\n",
    "'''\n",
    ", url)\n",
    "q2.head()"
   ]
  },
  {
   "cell_type": "code",
   "execution_count": 245,
   "id": "fa9efbfa",
   "metadata": {},
   "outputs": [],
   "source": [
    "\n",
    "# Assuming 'query' is your DataFrame\n",
    "q2['total_charges'] = pd.to_numeric(query['total_charges'], errors='coerce')\n",
    "\n",
    "# Now, convert the column to float\n",
    "q2['total_charges'] = q2['total_charges'].astype(float)"
   ]
  },
  {
   "cell_type": "code",
   "execution_count": 246,
   "id": "34956349",
   "metadata": {},
   "outputs": [
    {
     "data": {
      "text/plain": [
       "(0.34232562306194525, 3.356186955193874e-43)"
      ]
     },
     "execution_count": 246,
     "metadata": {},
     "output_type": "execute_result"
    }
   ],
   "source": [
    "#Ho = not correlate\n",
    "#Ha = Yes correlate\n",
    "\n",
    "r,p=stats.pearsonr(q2.tenure,q2.monthly_charges)\n",
    "r,p"
   ]
  },
  {
   "cell_type": "code",
   "execution_count": 247,
   "id": "63f112d7",
   "metadata": {},
   "outputs": [
    {
     "data": {
      "image/png": "[encoded data removed]",
      "text/plain": [
       "<Figure size 640x480 with 1 Axes>"
      ]
     },
     "metadata": {},
     "output_type": "display_data"
    }
   ],
   "source": [
    "sns.scatterplot(data= q2,x = 'tenure',y = 'monthly_charges')\n",
    "\n",
    "plt.show()"
   ]
  },
  {
   "cell_type": "code",
   "execution_count": 248,
   "id": "21a1477f",
   "metadata": {},
   "outputs": [
    {
     "name": "stdout",
     "output_type": "stream",
     "text": [
      "reject the null hypothesis, tenure correlate with monthly charges,with a pearson coefficient of 0.34232562306194525\n"
     ]
    }
   ],
   "source": [
    "alpha = 0.05\n",
    "if p < alpha:\n",
    "    print(f'reject the null hypothesis, tenure correlate with monthly charges,with a pearson coefficient of {r}')\n",
    "else:\n",
    "    print('fail to reject the null hypothesis')"
   ]
  },
  {
   "cell_type": "code",
   "execution_count": 249,
   "id": "7093d831",
   "metadata": {},
   "outputs": [
    {
     "data": {
      "image/png": "[encoded data removed]",
      "text/plain": [
       "<Figure size 640x480 with 1 Axes>"
      ]
     },
     "metadata": {},
     "output_type": "display_data"
    }
   ],
   "source": [
    "plt.scatter(q2.tenure,q2.total_charges)\n",
    "\n",
    "plt.xlabel('tenure')\n",
    "plt.ylabel('total charges')\n",
    "plt.show()"
   ]
  },
  {
   "cell_type": "code",
   "execution_count": 251,
   "id": "f9ecc027",
   "metadata": {},
   "outputs": [],
   "source": [
    "nan_in_total_charges = np.isnan(q2['total_charges'])\n",
    "# Assuming 'query' is your DataFrame\n",
    "# Filter out rows with NaN values in 'total_charges' column\n",
    "q2 = q2.dropna()\n"
   ]
  },
  {
   "cell_type": "code",
   "execution_count": 252,
   "id": "71ba5e80",
   "metadata": {},
   "outputs": [
    {
     "data": {
      "text/plain": [
       "(-0.0063203589687022025, 0.8052038844458538)"
      ]
     },
     "execution_count": 252,
     "metadata": {},
     "output_type": "execute_result"
    }
   ],
   "source": [
    "r,p=stats.pearsonr(q2.tenure,q2.total_charges)\n",
    "r,p"
   ]
  },
  {
   "cell_type": "code",
   "execution_count": 253,
   "id": "6407851b",
   "metadata": {},
   "outputs": [
    {
     "data": {
      "image/png": "[encoded data removed]",
      "text/plain": [
       "<Figure size 640x480 with 1 Axes>"
      ]
     },
     "metadata": {},
     "output_type": "display_data"
    }
   ],
   "source": [
    "plt.scatter(q2.tenure,q2.total_charges)\n",
    "\n",
    "plt.xlabel('tenure')\n",
    "plt.ylabel('total charges')\n",
    "plt.show()"
   ]
  },
  {
   "cell_type": "code",
   "execution_count": 254,
   "id": "2ba46186",
   "metadata": {},
   "outputs": [
    {
     "name": "stdout",
     "output_type": "stream",
     "text": [
      "fail to reject the null hypothesis\n"
     ]
    }
   ],
   "source": [
    "alpha = 0.05\n",
    "if p < alpha:\n",
    "    print(f'reject the null hypothesis, tenure correlate with monthly charges,with a pearson coefficient of {r}')\n",
    "else:\n",
    "    print('fail to reject the null hypothesis')"
   ]
  },
  {
   "cell_type": "markdown",
   "id": "53a9d059",
   "metadata": {},
   "source": [
    "#3. Use the employees database"
   ]
  },
  {
   "cell_type": "code",
   "execution_count": 290,
   "id": "060b754b",
   "metadata": {},
   "outputs": [
    {
     "data": {
      "text/html": [
       "<div>\n",
       "<style scoped>\n",
       "    .dataframe tbody tr th:only-of-type {\n",
       "        vertical-align: middle;\n",
       "    }\n",
       "\n",
       "    .dataframe tbody tr th {\n",
       "        vertical-align: top;\n",
       "    }\n",
       "\n",
       "    .dataframe thead th {\n",
       "        text-align: right;\n",
       "    }\n",
       "</style>\n",
       "<table border=\"1\" class=\"dataframe\">\n",
       "  <thead>\n",
       "    <tr style=\"text-align: right;\">\n",
       "      <th></th>\n",
       "      <th>emp_no</th>\n",
       "      <th>salary</th>\n",
       "      <th>from_date</th>\n",
       "      <th>to_date</th>\n",
       "    </tr>\n",
       "  </thead>\n",
       "  <tbody>\n",
       "    <tr>\n",
       "      <th>0</th>\n",
       "      <td>10001</td>\n",
       "      <td>60117</td>\n",
       "      <td>1986-06-26</td>\n",
       "      <td>1987-06-26</td>\n",
       "    </tr>\n",
       "    <tr>\n",
       "      <th>1</th>\n",
       "      <td>10001</td>\n",
       "      <td>62102</td>\n",
       "      <td>1987-06-26</td>\n",
       "      <td>1988-06-25</td>\n",
       "    </tr>\n",
       "    <tr>\n",
       "      <th>2</th>\n",
       "      <td>10001</td>\n",
       "      <td>66074</td>\n",
       "      <td>1988-06-25</td>\n",
       "      <td>1989-06-25</td>\n",
       "    </tr>\n",
       "    <tr>\n",
       "      <th>3</th>\n",
       "      <td>10001</td>\n",
       "      <td>66596</td>\n",
       "      <td>1989-06-25</td>\n",
       "      <td>1990-06-25</td>\n",
       "    </tr>\n",
       "    <tr>\n",
       "      <th>4</th>\n",
       "      <td>10001</td>\n",
       "      <td>66961</td>\n",
       "      <td>1990-06-25</td>\n",
       "      <td>1991-06-25</td>\n",
       "    </tr>\n",
       "    <tr>\n",
       "      <th>...</th>\n",
       "      <td>...</td>\n",
       "      <td>...</td>\n",
       "      <td>...</td>\n",
       "      <td>...</td>\n",
       "    </tr>\n",
       "    <tr>\n",
       "      <th>2844042</th>\n",
       "      <td>499999</td>\n",
       "      <td>63707</td>\n",
       "      <td>1997-11-30</td>\n",
       "      <td>1998-11-30</td>\n",
       "    </tr>\n",
       "    <tr>\n",
       "      <th>2844043</th>\n",
       "      <td>499999</td>\n",
       "      <td>67043</td>\n",
       "      <td>1998-11-30</td>\n",
       "      <td>1999-11-30</td>\n",
       "    </tr>\n",
       "    <tr>\n",
       "      <th>2844044</th>\n",
       "      <td>499999</td>\n",
       "      <td>70745</td>\n",
       "      <td>1999-11-30</td>\n",
       "      <td>2000-11-29</td>\n",
       "    </tr>\n",
       "    <tr>\n",
       "      <th>2844045</th>\n",
       "      <td>499999</td>\n",
       "      <td>74327</td>\n",
       "      <td>2000-11-29</td>\n",
       "      <td>2001-11-29</td>\n",
       "    </tr>\n",
       "    <tr>\n",
       "      <th>2844046</th>\n",
       "      <td>499999</td>\n",
       "      <td>77303</td>\n",
       "      <td>2001-11-29</td>\n",
       "      <td>9999-01-01</td>\n",
       "    </tr>\n",
       "  </tbody>\n",
       "</table>\n",
       "<p>2844047 rows × 4 columns</p>\n",
       "</div>"
      ],
      "text/plain": [
       "         emp_no  salary   from_date     to_date\n",
       "0         10001   60117  1986-06-26  1987-06-26\n",
       "1         10001   62102  1987-06-26  1988-06-25\n",
       "2         10001   66074  1988-06-25  1989-06-25\n",
       "3         10001   66596  1989-06-25  1990-06-25\n",
       "4         10001   66961  1990-06-25  1991-06-25\n",
       "...         ...     ...         ...         ...\n",
       "2844042  499999   63707  1997-11-30  1998-11-30\n",
       "2844043  499999   67043  1998-11-30  1999-11-30\n",
       "2844044  499999   70745  1999-11-30  2000-11-29\n",
       "2844045  499999   74327  2000-11-29  2001-11-29\n",
       "2844046  499999   77303  2001-11-29  9999-01-01\n",
       "\n",
       "[2844047 rows x 4 columns]"
      ]
     },
     "execution_count": 290,
     "metadata": {},
     "output_type": "execute_result"
    }
   ],
   "source": [
    "url = f'mysql+pymysql://{env.user}:{env.password}@{env.host}/employees'\n",
    "s = pd.read_sql(\n",
    "\n",
    "'''\n",
    "select * from salaries\n",
    "'''\n",
    "\n",
    ", url)\n",
    "s"
   ]
  },
  {
   "cell_type": "code",
   "execution_count": 292,
   "id": "ee0432e3",
   "metadata": {},
   "outputs": [
    {
     "name": "stdout",
     "output_type": "stream",
     "text": [
      "<class 'pandas.core.frame.DataFrame'>\n",
      "RangeIndex: 2844047 entries, 0 to 2844046\n",
      "Data columns (total 4 columns):\n",
      " #   Column     Dtype \n",
      "---  ------     ----- \n",
      " 0   emp_no     int64 \n",
      " 1   salary     int64 \n",
      " 2   from_date  object\n",
      " 3   to_date    object\n",
      "dtypes: int64(2), object(2)\n",
      "memory usage: 86.8+ MB\n",
      "None\n"
     ]
    },
    {
     "data": {
      "text/html": [
       "<div>\n",
       "<style scoped>\n",
       "    .dataframe tbody tr th:only-of-type {\n",
       "        vertical-align: middle;\n",
       "    }\n",
       "\n",
       "    .dataframe tbody tr th {\n",
       "        vertical-align: top;\n",
       "    }\n",
       "\n",
       "    .dataframe thead th {\n",
       "        text-align: right;\n",
       "    }\n",
       "</style>\n",
       "<table border=\"1\" class=\"dataframe\">\n",
       "  <thead>\n",
       "    <tr style=\"text-align: right;\">\n",
       "      <th></th>\n",
       "      <th>emp_no</th>\n",
       "      <th>salary</th>\n",
       "      <th>from_date</th>\n",
       "      <th>to_date</th>\n",
       "    </tr>\n",
       "  </thead>\n",
       "  <tbody>\n",
       "    <tr>\n",
       "      <th>0</th>\n",
       "      <td>10001</td>\n",
       "      <td>60117</td>\n",
       "      <td>1986-06-26</td>\n",
       "      <td>1987-06-26</td>\n",
       "    </tr>\n",
       "    <tr>\n",
       "      <th>1</th>\n",
       "      <td>10001</td>\n",
       "      <td>62102</td>\n",
       "      <td>1987-06-26</td>\n",
       "      <td>1988-06-25</td>\n",
       "    </tr>\n",
       "    <tr>\n",
       "      <th>2</th>\n",
       "      <td>10001</td>\n",
       "      <td>66074</td>\n",
       "      <td>1988-06-25</td>\n",
       "      <td>1989-06-25</td>\n",
       "    </tr>\n",
       "    <tr>\n",
       "      <th>3</th>\n",
       "      <td>10001</td>\n",
       "      <td>66596</td>\n",
       "      <td>1989-06-25</td>\n",
       "      <td>1990-06-25</td>\n",
       "    </tr>\n",
       "    <tr>\n",
       "      <th>4</th>\n",
       "      <td>10001</td>\n",
       "      <td>66961</td>\n",
       "      <td>1990-06-25</td>\n",
       "      <td>1991-06-25</td>\n",
       "    </tr>\n",
       "  </tbody>\n",
       "</table>\n",
       "</div>"
      ],
      "text/plain": [
       "   emp_no  salary   from_date     to_date\n",
       "0   10001   60117  1986-06-26  1987-06-26\n",
       "1   10001   62102  1987-06-26  1988-06-25\n",
       "2   10001   66074  1988-06-25  1989-06-25\n",
       "3   10001   66596  1989-06-25  1990-06-25\n",
       "4   10001   66961  1990-06-25  1991-06-25"
      ]
     },
     "execution_count": 292,
     "metadata": {},
     "output_type": "execute_result"
    }
   ],
   "source": [
    "print(s.info())\n",
    "s.head()"
   ]
  },
  {
   "cell_type": "code",
   "execution_count": 298,
   "id": "f0c066f1",
   "metadata": {},
   "outputs": [],
   "source": [
    "s['from_date'] = pd.to_datetime(s['from_date'])\n",
    "s['to_date'] = pd.to_datetime(s['to_date'],errors = 'coerce')\n",
    "s['worktime'] = (s['to_date'] - s['from_date']).dt.days\n"
   ]
  },
  {
   "cell_type": "code",
   "execution_count": 307,
   "id": "ea1c1289",
   "metadata": {},
   "outputs": [],
   "source": [
    "\n",
    "s = s.dropna()"
   ]
  },
  {
   "cell_type": "code",
   "execution_count": 308,
   "id": "cd237669",
   "metadata": {},
   "outputs": [
    {
     "data": {
      "text/plain": [
       "emp_no       0\n",
       "salary       0\n",
       "from_date    0\n",
       "to_date      0\n",
       "worktime     0\n",
       "dtype: int64"
      ]
     },
     "execution_count": 308,
     "metadata": {},
     "output_type": "execute_result"
    }
   ],
   "source": [
    "s.isna().sum()"
   ]
  },
  {
   "cell_type": "code",
   "execution_count": null,
   "id": "e8e0b0b0",
   "metadata": {},
   "outputs": [],
   "source": [
    "#Is there a relationship between how long an employee has been with the company and their salary?"
   ]
  },
  {
   "cell_type": "code",
   "execution_count": 311,
   "id": "3ba57849",
   "metadata": {},
   "outputs": [
    {
     "data": {
      "text/plain": [
       "<matplotlib.collections.PathCollection at 0x2b7894c90>"
      ]
     },
     "execution_count": 311,
     "metadata": {},
     "output_type": "execute_result"
    },
    {
     "data": {
      "image/png": "[encoded data removed]",
      "text/plain": [
       "<Figure size 640x480 with 1 Axes>"
      ]
     },
     "metadata": {},
     "output_type": "display_data"
    }
   ],
   "source": [
    "plt.scatter(s.worktime,s.salary)"
   ]
  },
  {
   "cell_type": "code",
   "execution_count": 312,
   "id": "8a5b2991",
   "metadata": {
    "scrolled": true
   },
   "outputs": [
    {
     "data": {
      "text/plain": [
       "(0.011473845089102817, 1.5464493141203087e-76)"
      ]
     },
     "execution_count": 312,
     "metadata": {},
     "output_type": "execute_result"
    }
   ],
   "source": [
    "r,p=stats.pearsonr(s.worktime,s.salary)\n",
    "r,p"
   ]
  },
  {
   "cell_type": "code",
   "execution_count": 313,
   "id": "fa492097",
   "metadata": {},
   "outputs": [
    {
     "name": "stdout",
     "output_type": "stream",
     "text": [
      "reject the null hypothesis,with a pearson coefficient of 0.011473845089102817\n"
     ]
    }
   ],
   "source": [
    "alpha = 0.05\n",
    "if p < alpha:\n",
    "    print(f'reject the null hypothesis,with a pearson coefficient of {r}')\n",
    "else:\n",
    "    print('fail to reject the null hypothesis')"
   ]
  },
  {
   "cell_type": "code",
   "execution_count": null,
   "id": "decae47e",
   "metadata": {},
   "outputs": [],
   "source": [
    "#Is there a relationship between how long an employee has been with the company and the number of titles they have had?"
   ]
  },
  {
   "cell_type": "code",
   "execution_count": 314,
   "id": "a308ab88",
   "metadata": {},
   "outputs": [
    {
     "data": {
      "text/html": [
       "<div>\n",
       "<style scoped>\n",
       "    .dataframe tbody tr th:only-of-type {\n",
       "        vertical-align: middle;\n",
       "    }\n",
       "\n",
       "    .dataframe tbody tr th {\n",
       "        vertical-align: top;\n",
       "    }\n",
       "\n",
       "    .dataframe thead th {\n",
       "        text-align: right;\n",
       "    }\n",
       "</style>\n",
       "<table border=\"1\" class=\"dataframe\">\n",
       "  <thead>\n",
       "    <tr style=\"text-align: right;\">\n",
       "      <th></th>\n",
       "      <th>emp_no</th>\n",
       "      <th>title</th>\n",
       "      <th>from_date</th>\n",
       "      <th>to_date</th>\n",
       "    </tr>\n",
       "  </thead>\n",
       "  <tbody>\n",
       "    <tr>\n",
       "      <th>0</th>\n",
       "      <td>10001</td>\n",
       "      <td>Senior Engineer</td>\n",
       "      <td>1986-06-26</td>\n",
       "      <td>9999-01-01</td>\n",
       "    </tr>\n",
       "    <tr>\n",
       "      <th>1</th>\n",
       "      <td>10002</td>\n",
       "      <td>Staff</td>\n",
       "      <td>1996-08-03</td>\n",
       "      <td>9999-01-01</td>\n",
       "    </tr>\n",
       "    <tr>\n",
       "      <th>2</th>\n",
       "      <td>10003</td>\n",
       "      <td>Senior Engineer</td>\n",
       "      <td>1995-12-03</td>\n",
       "      <td>9999-01-01</td>\n",
       "    </tr>\n",
       "    <tr>\n",
       "      <th>3</th>\n",
       "      <td>10004</td>\n",
       "      <td>Engineer</td>\n",
       "      <td>1986-12-01</td>\n",
       "      <td>1995-12-01</td>\n",
       "    </tr>\n",
       "    <tr>\n",
       "      <th>4</th>\n",
       "      <td>10004</td>\n",
       "      <td>Senior Engineer</td>\n",
       "      <td>1995-12-01</td>\n",
       "      <td>9999-01-01</td>\n",
       "    </tr>\n",
       "    <tr>\n",
       "      <th>...</th>\n",
       "      <td>...</td>\n",
       "      <td>...</td>\n",
       "      <td>...</td>\n",
       "      <td>...</td>\n",
       "    </tr>\n",
       "    <tr>\n",
       "      <th>443303</th>\n",
       "      <td>499997</td>\n",
       "      <td>Engineer</td>\n",
       "      <td>1987-08-30</td>\n",
       "      <td>1992-08-29</td>\n",
       "    </tr>\n",
       "    <tr>\n",
       "      <th>443304</th>\n",
       "      <td>499997</td>\n",
       "      <td>Senior Engineer</td>\n",
       "      <td>1992-08-29</td>\n",
       "      <td>9999-01-01</td>\n",
       "    </tr>\n",
       "    <tr>\n",
       "      <th>443305</th>\n",
       "      <td>499998</td>\n",
       "      <td>Senior Staff</td>\n",
       "      <td>1998-12-27</td>\n",
       "      <td>9999-01-01</td>\n",
       "    </tr>\n",
       "    <tr>\n",
       "      <th>443306</th>\n",
       "      <td>499998</td>\n",
       "      <td>Staff</td>\n",
       "      <td>1993-12-27</td>\n",
       "      <td>1998-12-27</td>\n",
       "    </tr>\n",
       "    <tr>\n",
       "      <th>443307</th>\n",
       "      <td>499999</td>\n",
       "      <td>Engineer</td>\n",
       "      <td>1997-11-30</td>\n",
       "      <td>9999-01-01</td>\n",
       "    </tr>\n",
       "  </tbody>\n",
       "</table>\n",
       "<p>443308 rows × 4 columns</p>\n",
       "</div>"
      ],
      "text/plain": [
       "        emp_no            title   from_date     to_date\n",
       "0        10001  Senior Engineer  1986-06-26  9999-01-01\n",
       "1        10002            Staff  1996-08-03  9999-01-01\n",
       "2        10003  Senior Engineer  1995-12-03  9999-01-01\n",
       "3        10004         Engineer  1986-12-01  1995-12-01\n",
       "4        10004  Senior Engineer  1995-12-01  9999-01-01\n",
       "...        ...              ...         ...         ...\n",
       "443303  499997         Engineer  1987-08-30  1992-08-29\n",
       "443304  499997  Senior Engineer  1992-08-29  9999-01-01\n",
       "443305  499998     Senior Staff  1998-12-27  9999-01-01\n",
       "443306  499998            Staff  1993-12-27  1998-12-27\n",
       "443307  499999         Engineer  1997-11-30  9999-01-01\n",
       "\n",
       "[443308 rows x 4 columns]"
      ]
     },
     "execution_count": 314,
     "metadata": {},
     "output_type": "execute_result"
    }
   ],
   "source": [
    "t = pd.read_sql(\n",
    "\n",
    "'''\n",
    "select * from titles\n",
    "'''\n",
    "\n",
    ", url)\n",
    "t"
   ]
  },
  {
   "cell_type": "code",
   "execution_count": 350,
   "id": "b76f0669",
   "metadata": {},
   "outputs": [
    {
     "name": "stdout",
     "output_type": "stream",
     "text": [
      "<class 'pandas.core.frame.DataFrame'>\n",
      "RangeIndex: 443308 entries, 0 to 443307\n",
      "Data columns (total 6 columns):\n",
      " #   Column        Non-Null Count   Dtype         \n",
      "---  ------        --------------   -----         \n",
      " 0   emp_no        443308 non-null  int64         \n",
      " 1   title         443308 non-null  object        \n",
      " 2   from_date     443308 non-null  datetime64[ns]\n",
      " 3   to_date       203184 non-null  datetime64[ns]\n",
      " 4   title_counts  243332 non-null  float64       \n",
      " 5   worktime      203184 non-null  float64       \n",
      "dtypes: datetime64[ns](2), float64(2), int64(1), object(1)\n",
      "memory usage: 20.3+ MB\n"
     ]
    },
    {
     "data": {
      "text/html": [
       "<div>\n",
       "<style scoped>\n",
       "    .dataframe tbody tr th:only-of-type {\n",
       "        vertical-align: middle;\n",
       "    }\n",
       "\n",
       "    .dataframe tbody tr th {\n",
       "        vertical-align: top;\n",
       "    }\n",
       "\n",
       "    .dataframe thead th {\n",
       "        text-align: right;\n",
       "    }\n",
       "</style>\n",
       "<table border=\"1\" class=\"dataframe\">\n",
       "  <thead>\n",
       "    <tr style=\"text-align: right;\">\n",
       "      <th></th>\n",
       "      <th>emp_no</th>\n",
       "      <th>title</th>\n",
       "      <th>from_date</th>\n",
       "      <th>to_date</th>\n",
       "      <th>title_counts</th>\n",
       "      <th>worktime</th>\n",
       "    </tr>\n",
       "  </thead>\n",
       "  <tbody>\n",
       "    <tr>\n",
       "      <th>0</th>\n",
       "      <td>10001</td>\n",
       "      <td>Senior Engineer</td>\n",
       "      <td>1986-06-26</td>\n",
       "      <td>NaT</td>\n",
       "      <td>NaN</td>\n",
       "      <td>NaN</td>\n",
       "    </tr>\n",
       "    <tr>\n",
       "      <th>1</th>\n",
       "      <td>10002</td>\n",
       "      <td>Staff</td>\n",
       "      <td>1996-08-03</td>\n",
       "      <td>NaT</td>\n",
       "      <td>NaN</td>\n",
       "      <td>NaN</td>\n",
       "    </tr>\n",
       "    <tr>\n",
       "      <th>2</th>\n",
       "      <td>10003</td>\n",
       "      <td>Senior Engineer</td>\n",
       "      <td>1995-12-03</td>\n",
       "      <td>NaT</td>\n",
       "      <td>NaN</td>\n",
       "      <td>NaN</td>\n",
       "    </tr>\n",
       "    <tr>\n",
       "      <th>3</th>\n",
       "      <td>10004</td>\n",
       "      <td>Engineer</td>\n",
       "      <td>1986-12-01</td>\n",
       "      <td>1995-12-01</td>\n",
       "      <td>NaN</td>\n",
       "      <td>3287.0</td>\n",
       "    </tr>\n",
       "    <tr>\n",
       "      <th>4</th>\n",
       "      <td>10004</td>\n",
       "      <td>Senior Engineer</td>\n",
       "      <td>1995-12-01</td>\n",
       "      <td>NaT</td>\n",
       "      <td>NaN</td>\n",
       "      <td>NaN</td>\n",
       "    </tr>\n",
       "    <tr>\n",
       "      <th>...</th>\n",
       "      <td>...</td>\n",
       "      <td>...</td>\n",
       "      <td>...</td>\n",
       "      <td>...</td>\n",
       "      <td>...</td>\n",
       "      <td>...</td>\n",
       "    </tr>\n",
       "    <tr>\n",
       "      <th>443303</th>\n",
       "      <td>499997</td>\n",
       "      <td>Engineer</td>\n",
       "      <td>1987-08-30</td>\n",
       "      <td>1992-08-29</td>\n",
       "      <td>2.0</td>\n",
       "      <td>1826.0</td>\n",
       "    </tr>\n",
       "    <tr>\n",
       "      <th>443304</th>\n",
       "      <td>499997</td>\n",
       "      <td>Senior Engineer</td>\n",
       "      <td>1992-08-29</td>\n",
       "      <td>NaT</td>\n",
       "      <td>1.0</td>\n",
       "      <td>NaN</td>\n",
       "    </tr>\n",
       "    <tr>\n",
       "      <th>443305</th>\n",
       "      <td>499998</td>\n",
       "      <td>Senior Staff</td>\n",
       "      <td>1998-12-27</td>\n",
       "      <td>NaT</td>\n",
       "      <td>1.0</td>\n",
       "      <td>NaN</td>\n",
       "    </tr>\n",
       "    <tr>\n",
       "      <th>443306</th>\n",
       "      <td>499998</td>\n",
       "      <td>Staff</td>\n",
       "      <td>1993-12-27</td>\n",
       "      <td>1998-12-27</td>\n",
       "      <td>2.0</td>\n",
       "      <td>1826.0</td>\n",
       "    </tr>\n",
       "    <tr>\n",
       "      <th>443307</th>\n",
       "      <td>499999</td>\n",
       "      <td>Engineer</td>\n",
       "      <td>1997-11-30</td>\n",
       "      <td>NaT</td>\n",
       "      <td>2.0</td>\n",
       "      <td>NaN</td>\n",
       "    </tr>\n",
       "  </tbody>\n",
       "</table>\n",
       "<p>443308 rows × 6 columns</p>\n",
       "</div>"
      ],
      "text/plain": [
       "        emp_no            title  from_date    to_date  title_counts  worktime\n",
       "0        10001  Senior Engineer 1986-06-26        NaT           NaN       NaN\n",
       "1        10002            Staff 1996-08-03        NaT           NaN       NaN\n",
       "2        10003  Senior Engineer 1995-12-03        NaT           NaN       NaN\n",
       "3        10004         Engineer 1986-12-01 1995-12-01           NaN    3287.0\n",
       "4        10004  Senior Engineer 1995-12-01        NaT           NaN       NaN\n",
       "...        ...              ...        ...        ...           ...       ...\n",
       "443303  499997         Engineer 1987-08-30 1992-08-29           2.0    1826.0\n",
       "443304  499997  Senior Engineer 1992-08-29        NaT           1.0       NaN\n",
       "443305  499998     Senior Staff 1998-12-27        NaT           1.0       NaN\n",
       "443306  499998            Staff 1993-12-27 1998-12-27           2.0    1826.0\n",
       "443307  499999         Engineer 1997-11-30        NaT           2.0       NaN\n",
       "\n",
       "[443308 rows x 6 columns]"
      ]
     },
     "execution_count": 350,
     "metadata": {},
     "output_type": "execute_result"
    }
   ],
   "source": [
    "t['from_date'] = pd.to_datetime(t['from_date'])\n",
    "t['to_date'] = pd.to_datetime(t['to_date'],errors = 'coerce')\n",
    "t['worktime'] = (t['to_date'] - t['from_date']).dt.days\n",
    "title_counts = t.groupby('emp_no')['title'].nunique()\n",
    "t.dropna()\n",
    "t.info()\n",
    "t"
   ]
  },
  {
   "cell_type": "code",
   "execution_count": 347,
   "id": "fbee5557",
   "metadata": {},
   "outputs": [
    {
     "data": {
      "text/plain": [
       "3         3287.0\n",
       "6         2557.0\n",
       "9         2557.0\n",
       "10         873.0\n",
       "11        1826.0\n",
       "           ...  \n",
       "443297    1826.0\n",
       "443299     247.0\n",
       "443301    2191.0\n",
       "443303    1826.0\n",
       "443306    1826.0\n",
       "Name: worktime, Length: 203184, dtype: float64"
      ]
     },
     "execution_count": 347,
     "metadata": {},
     "output_type": "execute_result"
    }
   ],
   "source": [
    "t.isna().sum()\n",
    "t.worktime.dropna()"
   ]
  },
  {
   "cell_type": "code",
   "execution_count": 361,
   "id": "5bcf3356",
   "metadata": {},
   "outputs": [
    {
     "data": {
      "text/html": [
       "<div>\n",
       "<style scoped>\n",
       "    .dataframe tbody tr th:only-of-type {\n",
       "        vertical-align: middle;\n",
       "    }\n",
       "\n",
       "    .dataframe tbody tr th {\n",
       "        vertical-align: top;\n",
       "    }\n",
       "\n",
       "    .dataframe thead th {\n",
       "        text-align: right;\n",
       "    }\n",
       "</style>\n",
       "<table border=\"1\" class=\"dataframe\">\n",
       "  <thead>\n",
       "    <tr style=\"text-align: right;\">\n",
       "      <th></th>\n",
       "      <th>emp_no</th>\n",
       "      <th>title</th>\n",
       "      <th>from_date</th>\n",
       "      <th>to_date</th>\n",
       "      <th>title_counts</th>\n",
       "      <th>worktime</th>\n",
       "    </tr>\n",
       "  </thead>\n",
       "  <tbody>\n",
       "    <tr>\n",
       "      <th>10002</th>\n",
       "      <td>16771</td>\n",
       "      <td>Staff</td>\n",
       "      <td>1989-06-19</td>\n",
       "      <td>1994-06-19</td>\n",
       "      <td>1.0</td>\n",
       "      <td>1826.0</td>\n",
       "    </tr>\n",
       "    <tr>\n",
       "      <th>10006</th>\n",
       "      <td>16774</td>\n",
       "      <td>Staff</td>\n",
       "      <td>1987-07-02</td>\n",
       "      <td>1995-07-02</td>\n",
       "      <td>1.0</td>\n",
       "      <td>2922.0</td>\n",
       "    </tr>\n",
       "    <tr>\n",
       "      <th>10007</th>\n",
       "      <td>16775</td>\n",
       "      <td>Assistant Engineer</td>\n",
       "      <td>1992-09-07</td>\n",
       "      <td>1997-09-07</td>\n",
       "      <td>2.0</td>\n",
       "      <td>1826.0</td>\n",
       "    </tr>\n",
       "    <tr>\n",
       "      <th>10010</th>\n",
       "      <td>16777</td>\n",
       "      <td>Senior Staff</td>\n",
       "      <td>1988-04-25</td>\n",
       "      <td>1993-02-16</td>\n",
       "      <td>1.0</td>\n",
       "      <td>1758.0</td>\n",
       "    </tr>\n",
       "    <tr>\n",
       "      <th>10011</th>\n",
       "      <td>16778</td>\n",
       "      <td>Engineer</td>\n",
       "      <td>1990-10-25</td>\n",
       "      <td>1996-10-24</td>\n",
       "      <td>1.0</td>\n",
       "      <td>2191.0</td>\n",
       "    </tr>\n",
       "    <tr>\n",
       "      <th>...</th>\n",
       "      <td>...</td>\n",
       "      <td>...</td>\n",
       "      <td>...</td>\n",
       "      <td>...</td>\n",
       "      <td>...</td>\n",
       "      <td>...</td>\n",
       "    </tr>\n",
       "    <tr>\n",
       "      <th>443297</th>\n",
       "      <td>499992</td>\n",
       "      <td>Staff</td>\n",
       "      <td>1987-05-10</td>\n",
       "      <td>1992-05-09</td>\n",
       "      <td>1.0</td>\n",
       "      <td>1826.0</td>\n",
       "    </tr>\n",
       "    <tr>\n",
       "      <th>443299</th>\n",
       "      <td>499994</td>\n",
       "      <td>Engineer</td>\n",
       "      <td>1993-02-22</td>\n",
       "      <td>1993-10-27</td>\n",
       "      <td>1.0</td>\n",
       "      <td>247.0</td>\n",
       "    </tr>\n",
       "    <tr>\n",
       "      <th>443301</th>\n",
       "      <td>499996</td>\n",
       "      <td>Engineer</td>\n",
       "      <td>1996-05-13</td>\n",
       "      <td>2002-05-13</td>\n",
       "      <td>1.0</td>\n",
       "      <td>2191.0</td>\n",
       "    </tr>\n",
       "    <tr>\n",
       "      <th>443303</th>\n",
       "      <td>499997</td>\n",
       "      <td>Engineer</td>\n",
       "      <td>1987-08-30</td>\n",
       "      <td>1992-08-29</td>\n",
       "      <td>2.0</td>\n",
       "      <td>1826.0</td>\n",
       "    </tr>\n",
       "    <tr>\n",
       "      <th>443306</th>\n",
       "      <td>499998</td>\n",
       "      <td>Staff</td>\n",
       "      <td>1993-12-27</td>\n",
       "      <td>1998-12-27</td>\n",
       "      <td>2.0</td>\n",
       "      <td>1826.0</td>\n",
       "    </tr>\n",
       "  </tbody>\n",
       "</table>\n",
       "<p>111593 rows × 6 columns</p>\n",
       "</div>"
      ],
      "text/plain": [
       "        emp_no               title  from_date    to_date  title_counts  \\\n",
       "10002    16771               Staff 1989-06-19 1994-06-19           1.0   \n",
       "10006    16774               Staff 1987-07-02 1995-07-02           1.0   \n",
       "10007    16775  Assistant Engineer 1992-09-07 1997-09-07           2.0   \n",
       "10010    16777        Senior Staff 1988-04-25 1993-02-16           1.0   \n",
       "10011    16778            Engineer 1990-10-25 1996-10-24           1.0   \n",
       "...        ...                 ...        ...        ...           ...   \n",
       "443297  499992               Staff 1987-05-10 1992-05-09           1.0   \n",
       "443299  499994            Engineer 1993-02-22 1993-10-27           1.0   \n",
       "443301  499996            Engineer 1996-05-13 2002-05-13           1.0   \n",
       "443303  499997            Engineer 1987-08-30 1992-08-29           2.0   \n",
       "443306  499998               Staff 1993-12-27 1998-12-27           2.0   \n",
       "\n",
       "        worktime  \n",
       "10002     1826.0  \n",
       "10006     2922.0  \n",
       "10007     1826.0  \n",
       "10010     1758.0  \n",
       "10011     2191.0  \n",
       "...          ...  \n",
       "443297    1826.0  \n",
       "443299     247.0  \n",
       "443301    2191.0  \n",
       "443303    1826.0  \n",
       "443306    1826.0  \n",
       "\n",
       "[111593 rows x 6 columns]"
      ]
     },
     "execution_count": 361,
     "metadata": {},
     "output_type": "execute_result"
    }
   ],
   "source": [
    "\n",
    "t = t.dropna(subset=['title_counts', 'worktime'])\n",
    "t\n"
   ]
  },
  {
   "cell_type": "code",
   "execution_count": 366,
   "id": "4a75a3f5",
   "metadata": {},
   "outputs": [
    {
     "data": {
      "text/plain": [
       "(0.003987147877998281, 0.1828869409491346)"
      ]
     },
     "execution_count": 366,
     "metadata": {},
     "output_type": "execute_result"
    }
   ],
   "source": [
    "r,p=stats.pearsonr(t.title_counts,t.worktime)\n",
    "r,p"
   ]
  },
  {
   "cell_type": "code",
   "execution_count": 363,
   "id": "716b8591",
   "metadata": {},
   "outputs": [
    {
     "data": {
      "text/plain": [
       "<matplotlib.collections.PathCollection at 0x2b9d26d50>"
      ]
     },
     "execution_count": 363,
     "metadata": {},
     "output_type": "execute_result"
    },
    {
     "data": {
      "image/png": "[encoded data removed]",
      "text/plain": [
       "<Figure size 640x480 with 1 Axes>"
      ]
     },
     "metadata": {},
     "output_type": "display_data"
    }
   ],
   "source": [
    "plt.scatter(t.title_counts,t.worktime)"
   ]
  },
  {
   "cell_type": "code",
   "execution_count": 368,
   "id": "c79a6bb9",
   "metadata": {},
   "outputs": [
    {
     "name": "stdout",
     "output_type": "stream",
     "text": [
      "fail to reject the null hypothesis\n"
     ]
    }
   ],
   "source": [
    "alpha = 0.05\n",
    "if p < alpha:\n",
    "    print(f'reject the null hypothesis,with a pearson coefficient of {r}')\n",
    "else:\n",
    "    print('fail to reject the null hypothesis')"
   ]
  },
  {
   "cell_type": "markdown",
   "id": "b12736ee",
   "metadata": {},
   "source": [
    "4. Use the sleepstudy data."
   ]
  },
  {
   "cell_type": "code",
   "execution_count": null,
   "id": "40a15d8e",
   "metadata": {},
   "outputs": [],
   "source": [
    "# Is there a relationship between days and reaction time?"
   ]
  },
  {
   "cell_type": "code",
   "execution_count": 358,
   "id": "d4e87f13",
   "metadata": {},
   "outputs": [
    {
     "name": "stdout",
     "output_type": "stream",
     "text": [
      "sleepstudy\n",
      "\n",
      "PyDataset Documentation (adopted from R Documentation. The displayed examples are in R)\n",
      "\n",
      "## Reaction times in a sleep deprivation study\n",
      "\n",
      "### Description\n",
      "\n",
      "The average reaction time per day for subjects in a sleep deprivation study.\n",
      "On day 0 the subjects had their normal amount of sleep. Starting that night\n",
      "they were restricted to 3 hours of sleep per night. The observations represent\n",
      "the average reaction time on a series of tests given each day to each subject.\n",
      "\n",
      "### Format\n",
      "\n",
      "A data frame with 180 observations on the following 3 variables.\n",
      "\n",
      "`Reaction`\n",
      "\n",
      "Average reaction time (ms)\n",
      "\n",
      "`Days`\n",
      "\n",
      "Number of days of sleep deprivation\n",
      "\n",
      "`Subject`\n",
      "\n",
      "Subject number on which the observation was made.\n",
      "\n",
      "### Details\n",
      "\n",
      "These data are from the study described in Belenky et al. (2003), for the\n",
      "sleep-deprived group and for the first 10 days of the study, up to the\n",
      "recovery period.\n",
      "\n",
      "### References\n",
      "\n",
      "Gregory Belenky, Nancy J. Wesensten, David R. Thorne, Maria L. Thomas, Helen\n",
      "C. Sing, Daniel P. Redmond, Michael B. Russo and Thomas J. Balkin (2003)\n",
      "Patterns of performance degradation and restoration during sleep restriction\n",
      "and subsequent recovery: a sleep dose-response study. _Journal of Sleep\n",
      "Research_ **12**, 1–12.\n",
      "\n",
      "### Examples\n",
      "\n",
      "    str(sleepstudy)\n",
      "    require(lattice)\n",
      "    xyplot(Reaction ~ Days | Subject, sleepstudy, type = c(\"g\",\"p\",\"r\"),\n",
      "           index = function(x,y) coef(lm(y ~ x))[1],\n",
      "           xlab = \"Days of sleep deprivation\",\n",
      "           ylab = \"Average reaction time (ms)\", aspect = \"xy\")\n",
      "    (fm1 <- lmer(Reaction ~ Days + (Days|Subject), sleepstudy))\n",
      "    (fm2 <- lmer(Reaction ~ Days + (1|Subject) + (0+Days|Subject), sleepstudy))\n",
      "\n",
      "\n"
     ]
    }
   ],
   "source": [
    "ss = data('sleepstudy')\n",
    "ss.head()\n",
    "data('sleepstudy',show_doc = True)"
   ]
  },
  {
   "cell_type": "code",
   "execution_count": 354,
   "id": "89ca64b4",
   "metadata": {},
   "outputs": [
    {
     "data": {
      "text/plain": [
       "PearsonRResult(statistic=0.5352302262650255, pvalue=9.894096322214486e-15)"
      ]
     },
     "execution_count": 354,
     "metadata": {},
     "output_type": "execute_result"
    }
   ],
   "source": [
    "r,p = stats.pearsonr(ss.Days,ss.Reaction)"
   ]
  },
  {
   "cell_type": "code",
   "execution_count": 355,
   "id": "e24037b8",
   "metadata": {},
   "outputs": [
    {
     "data": {
      "text/plain": [
       "<matplotlib.collections.PathCollection at 0x2b79b4290>"
      ]
     },
     "execution_count": 355,
     "metadata": {},
     "output_type": "execute_result"
    },
    {
     "data": {
      "image/png": "[encoded data removed]",
      "text/plain": [
       "<Figure size 640x480 with 1 Axes>"
      ]
     },
     "metadata": {},
     "output_type": "display_data"
    }
   ],
   "source": [
    "plt.scatter(ss.Days,ss.Reaction)"
   ]
  },
  {
   "cell_type": "code",
   "execution_count": 356,
   "id": "df06356a",
   "metadata": {},
   "outputs": [
    {
     "name": "stdout",
     "output_type": "stream",
     "text": [
      "reject the null hypothesis,with a pearson coefficient of 0.011473845089102817\n"
     ]
    }
   ],
   "source": [
    "alpha = 0.05\n",
    "if p < alpha:\n",
    "    print(f'reject the null hypothesis,with a pearson coefficient of {r}')\n",
    "else:\n",
    "    print('fail to reject the null hypothesis')"
   ]
  },
  {
   "cell_type": "code",
   "execution_count": null,
   "id": "d819d0f4",
   "metadata": {},
   "outputs": [],
   "source": []
  }
 ],
 "metadata": {
  "kernelspec": {
   "display_name": "Python 3 (ipykernel)",
   "language": "python",
   "name": "python3"
  },
  "language_info": {
   "codemirror_mode": {
    "name": "ipython",
    "version": 3
   },
   "file_extension": ".py",
   "mimetype": "text/x-python",
   "name": "python",
   "nbconvert_exporter": "python",
   "pygments_lexer": "ipython3",
   "version": "3.11.5"
  }
 },
 "nbformat": 4,
 "nbformat_minor": 5
}
