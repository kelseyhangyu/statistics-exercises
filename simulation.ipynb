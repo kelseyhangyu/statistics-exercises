{
 "cells": [
  {
   "cell_type": "code",
   "execution_count": 5,
   "id": "4f4820ce",
   "metadata": {},
   "outputs": [],
   "source": [
    "import numpy as np\n",
    "import pandas as pd\n"
   ]
  },
  {
   "cell_type": "code",
   "execution_count": 7,
   "id": "6d7421a7",
   "metadata": {},
   "outputs": [],
   "source": [
    "# 1. How likely is it that you roll doubles when rolling two dice?\n",
    "\n",
    "\n",
    "n_trials = nrows = 10**5\n",
    "n_dices = ncols = 2\n",
    "outcomes = list(range(1,7))\n",
    "\n",
    "roll = np.random.choice(outcomes,(nrows,ncols))\n",
    "roll = pd.DataFrame(roll)\n",
    "roll.columns = ['first','second']\n"
   ]
  },
  {
   "cell_type": "code",
   "execution_count": null,
   "id": "e147e02f",
   "metadata": {},
   "outputs": [],
   "source": [
    "# or\n",
    "roll[:,0] #1st column\n",
    "roll[:,1] #2nd column\n",
    "# or\n",
    "roll.T[0] \n",
    "roll.T[1]"
   ]
  },
  {
   "cell_type": "code",
   "execution_count": 30,
   "id": "bf30e23b",
   "metadata": {},
   "outputs": [
    {
     "data": {
      "text/plain": [
       "0.16689"
      ]
     },
     "execution_count": 30,
     "metadata": {},
     "output_type": "execute_result"
    }
   ],
   "source": [
    "(roll['first'] == roll['second']).mean()"
   ]
  },
  {
   "cell_type": "code",
   "execution_count": 39,
   "id": "29f0d0db",
   "metadata": {},
   "outputs": [],
   "source": [
    "# 2.a If you flip 8 coins, what is the probability of getting exactly 3 heads?\n",
    "n_coins = ncols = 8\n",
    "n_trials = nrows = 10**5\n",
    "outcomes = ['h','t']\n",
    "\n",
    "coin = np.random.choice(outcomes,(nrows,ncols))\n",
    "coin = pd.DataFrame(coin)\n",
    "coin.columns = ['1','2','3','4','5','6','7','8']\n",
    "\n",
    "# or\n",
    "(((outcomes == 'h').sum(axis = 1)) == 3).mean()\n"
   ]
  },
  {
   "cell_type": "code",
   "execution_count": 42,
   "id": "1b969fe9",
   "metadata": {},
   "outputs": [
    {
     "data": {
      "text/plain": [
       "0.21976"
      ]
     },
     "execution_count": 42,
     "metadata": {},
     "output_type": "execute_result"
    }
   ],
   "source": [
    "(((coin == 'h').sum(axis = 1)) == 3).mean()"
   ]
  },
  {
   "cell_type": "code",
   "execution_count": null,
   "id": "a2a5494f",
   "metadata": {},
   "outputs": [],
   "source": [
    "# 2.b What is the probability of getting more than 3 heads?"
   ]
  },
  {
   "cell_type": "code",
   "execution_count": 43,
   "id": "97377f33",
   "metadata": {},
   "outputs": [
    {
     "data": {
      "text/plain": [
       "0.63491"
      ]
     },
     "execution_count": 43,
     "metadata": {},
     "output_type": "execute_result"
    }
   ],
   "source": [
    "(((coin == 'h').sum(axis = 1)) > 3).mean()"
   ]
  },
  {
   "cell_type": "markdown",
   "id": "c1a5cfc3",
   "metadata": {},
   "source": [
    "#3 There are approximitely 3 web development cohorts for every 1 data science cohort at Codeup. Assuming that Codeup randomly selects an alumni to put on a billboard, what are the odds that the two billboards I drive past both have data science students on them?"
   ]
  },
  {
   "cell_type": "code",
   "execution_count": 44,
   "id": "894ac294",
   "metadata": {},
   "outputs": [
    {
     "data": {
      "text/plain": [
       "0.0625"
      ]
     },
     "execution_count": 44,
     "metadata": {},
     "output_type": "execute_result"
    }
   ],
   "source": [
    "(1/4) * (1/4) # multiplication rule for independent events"
   ]
  },
  {
   "cell_type": "code",
   "execution_count": 45,
   "id": "e94f5e41",
   "metadata": {},
   "outputs": [],
   "source": [
    "# another way\n",
    "p = 0.25\n",
    "ncol = 2\n",
    "nrow = 10**5\n",
    "\n",
    "board = np.random.random((nrow,ncol))"
   ]
  },
  {
   "cell_type": "code",
   "execution_count": 50,
   "id": "dc8cd37c",
   "metadata": {},
   "outputs": [
    {
     "data": {
      "text/plain": [
       "0.06222"
      ]
     },
     "execution_count": 50,
     "metadata": {},
     "output_type": "execute_result"
    }
   ],
   "source": [
    "(((board < p).sum(axis = 1)) == 2).mean()"
   ]
  },
  {
   "cell_type": "code",
   "execution_count": null,
   "id": "2d483291",
   "metadata": {},
   "outputs": [],
   "source": [
    "# another way\n",
    "outcome = ['w','d']\n",
    "np.random.choice(outcome,(nrow,ncol),p=[0.25,0.75])"
   ]
  },
  {
   "cell_type": "code",
   "execution_count": 52,
   "id": "d060c4a2",
   "metadata": {},
   "outputs": [
    {
     "data": {
      "text/plain": [
       "0.0625"
      ]
     },
     "execution_count": 52,
     "metadata": {},
     "output_type": "execute_result"
    }
   ],
   "source": [
    "# another way\n",
    "from scipy import stats\n",
    "\n",
    "stats.binom(2,0.25).pmf(2)"
   ]
  },
  {
   "cell_type": "code",
   "execution_count": 53,
   "id": "d0ded156",
   "metadata": {},
   "outputs": [
    {
     "data": {
      "text/plain": [
       "0.0625"
      ]
     },
     "execution_count": 53,
     "metadata": {},
     "output_type": "execute_result"
    }
   ],
   "source": [
    "# another way\n",
    "stats.binom(2,0.25).sf(1)"
   ]
  },
  {
   "cell_type": "markdown",
   "id": "4bd5fd85",
   "metadata": {},
   "source": [
    "#4 \n",
    "Codeup students buy, on average, 3 poptart packages with a standard deviation of 1.5 a day from the snack vending machine. If on monday the machine is restocked with 17 poptart packages, how likely is it that I will be able to buy some poptarts on Friday afternoon? (Remember, if you have mean and standard deviation, use the np.random.normal) You'll need to make a judgement call on how to handle some of your values"
   ]
  },
  {
   "cell_type": "code",
   "execution_count": 100,
   "id": "0f666eb1",
   "metadata": {},
   "outputs": [
    {
     "data": {
      "text/plain": [
       "0.6163"
      ]
     },
     "execution_count": 100,
     "metadata": {},
     "output_type": "execute_result"
    }
   ],
   "source": [
    "nrow = 10**5\n",
    "ncol = 5\n",
    "sim = np.random.normal(loc=3,scale=1.5,size=(nrow,ncol))\n",
    "(sim.sum(axis = 1) < 16).mean()"
   ]
  },
  {
   "cell_type": "code",
   "execution_count": 101,
   "id": "e05d52a6",
   "metadata": {},
   "outputs": [
    {
     "data": {
      "text/plain": [
       "0.7475074624530771"
      ]
     },
     "execution_count": 101,
     "metadata": {},
     "output_type": "execute_result"
    }
   ],
   "source": [
    "stats.norm(15,1.5).cdf(16)"
   ]
  },
  {
   "cell_type": "code",
   "execution_count": 102,
   "id": "e4187be6",
   "metadata": {},
   "outputs": [
    {
     "data": {
      "text/plain": [
       "0.2524925375469229"
      ]
     },
     "execution_count": 102,
     "metadata": {},
     "output_type": "execute_result"
    }
   ],
   "source": [
    "stats.norm(15,1.5).sf(16)"
   ]
  },
  {
   "cell_type": "markdown",
   "id": "eded55d2",
   "metadata": {},
   "source": [
    "#5\n",
    "Compare Heights\n",
    "\n",
    "Men have an average height of 178 cm and standard deviation of 8cm.\n",
    "Women have a mean of 170, sd = 6cm.\n",
    "Since you have means and standard deviations, you can use np.random.normal to generate observations.\n",
    "If a man and woman are chosen at random, what is the likelihood the woman is taller than the man?"
   ]
  },
  {
   "cell_type": "code",
   "execution_count": 67,
   "id": "ab3e3eb7",
   "metadata": {},
   "outputs": [
    {
     "data": {
      "text/plain": [
       "0.20879"
      ]
     },
     "execution_count": 67,
     "metadata": {},
     "output_type": "execute_result"
    }
   ],
   "source": [
    "nrow = 10**5\n",
    "woman = np.random.normal(loc=170,scale=6,size=(nrow))\n",
    "man = np.random.normal(loc=178,scale=8,size=(nrow))\n",
    "(woman > man).mean()"
   ]
  },
  {
   "cell_type": "markdown",
   "id": "b3cf792b",
   "metadata": {},
   "source": [
    "#6\n",
    "When installing anaconda on a student's computer, there's a 1 in 250 chance that the download is corrupted and the installation fails. What are the odds that after having 50 students download anaconda, no one has an installation issue? 100 students?\n",
    "\n",
    "What is the probability that we observe an installation issue within the first 150 students that download anaconda?\n",
    "\n",
    "How likely is it that 450 students all download anaconda without an issue?"
   ]
  },
  {
   "cell_type": "code",
   "execution_count": 80,
   "id": "eac2e270",
   "metadata": {},
   "outputs": [
    {
     "data": {
      "text/plain": [
       "0.81743"
      ]
     },
     "execution_count": 80,
     "metadata": {},
     "output_type": "execute_result"
    }
   ],
   "source": [
    "#50 - suceess\n",
    "p = 249/250\n",
    "ncol = 50\n",
    "nrow = 10**5\n",
    "sim = np.random.random((nrow,ncol))\n",
    "(((sim<p).sum(axis = 1)) == 50).mean()"
   ]
  },
  {
   "cell_type": "code",
   "execution_count": 91,
   "id": "3250b95d",
   "metadata": {},
   "outputs": [
    {
     "data": {
      "text/plain": [
       "0.8184024506760997"
      ]
     },
     "execution_count": 91,
     "metadata": {},
     "output_type": "execute_result"
    }
   ],
   "source": [
    "# What are the odds that after having 50 students download anaconda, \n",
    "# no one has an installation issue?\n",
    "stats.binom(50,249/250).pmf(50)"
   ]
  },
  {
   "cell_type": "code",
   "execution_count": 93,
   "id": "ac36c508",
   "metadata": {},
   "outputs": [
    {
     "data": {
      "text/plain": [
       "0.6697825712726458"
      ]
     },
     "execution_count": 93,
     "metadata": {},
     "output_type": "execute_result"
    }
   ],
   "source": [
    "# 100 students?\n",
    "stats.binom(100,249/250).pmf(100)"
   ]
  },
  {
   "cell_type": "code",
   "execution_count": 81,
   "id": "3fb4e268",
   "metadata": {},
   "outputs": [
    {
     "data": {
      "text/plain": [
       "0.67036"
      ]
     },
     "execution_count": 81,
     "metadata": {},
     "output_type": "execute_result"
    }
   ],
   "source": [
    "p = 249/250\n",
    "ncol = 100\n",
    "nrow = 10**5\n",
    "sim = np.random.random((nrow,ncol))\n",
    "(((sim<p).sum(axis = 1)) == 100).mean()"
   ]
  },
  {
   "cell_type": "code",
   "execution_count": 94,
   "id": "3626ef0a",
   "metadata": {},
   "outputs": [
    {
     "data": {
      "text/plain": [
       "0.4518483022503269"
      ]
     },
     "execution_count": 94,
     "metadata": {},
     "output_type": "execute_result"
    }
   ],
   "source": [
    "# 150 and issue?\n",
    "stats.binom(150,1/250).sf(0)"
   ]
  },
  {
   "cell_type": "code",
   "execution_count": 82,
   "id": "5a4c2756",
   "metadata": {},
   "outputs": [
    {
     "data": {
      "text/plain": [
       "0.45331"
      ]
     },
     "execution_count": 82,
     "metadata": {},
     "output_type": "execute_result"
    }
   ],
   "source": [
    "p = 1/250\n",
    "ncol = 150\n",
    "nrow = 10**5\n",
    "sim = np.random.random((nrow,ncol))\n",
    "(((sim<p).sum(axis = 1)) > 0).mean()"
   ]
  },
  {
   "cell_type": "code",
   "execution_count": 95,
   "id": "5cc2847d",
   "metadata": {},
   "outputs": [
    {
     "data": {
      "text/plain": [
       "0.1647032961586129"
      ]
     },
     "execution_count": 95,
     "metadata": {},
     "output_type": "execute_result"
    }
   ],
   "source": [
    "# 450 no issue?\n",
    "stats.binom(450,249/250).pmf(450)"
   ]
  },
  {
   "cell_type": "code",
   "execution_count": 83,
   "id": "25ed461c",
   "metadata": {},
   "outputs": [
    {
     "data": {
      "text/plain": [
       "0.16447"
      ]
     },
     "execution_count": 83,
     "metadata": {},
     "output_type": "execute_result"
    }
   ],
   "source": [
    "p = 249/250\n",
    "ncol = 450\n",
    "nrow = 10**5\n",
    "sim = np.random.random((nrow,ncol))\n",
    "(((sim<p).sum(axis = 1)) == 450).mean()"
   ]
  },
  {
   "cell_type": "markdown",
   "id": "d847353b",
   "metadata": {},
   "source": [
    "#7\n",
    "There's a 70% chance on any given day that there will be at least one food truck at Travis Park. However, you haven't seen a food truck there in 3 days. "
   ]
  },
  {
   "cell_type": "code",
   "execution_count": 103,
   "id": "f253294f",
   "metadata": {},
   "outputs": [
    {
     "data": {
      "text/plain": [
       "0.97228"
      ]
     },
     "execution_count": 103,
     "metadata": {},
     "output_type": "execute_result"
    }
   ],
   "source": [
    "#  How unlikely is this?\n",
    "p = 0.7\n",
    "n = 3\n",
    "sim = 10**5\n",
    "truck_sim = np.random.random((sim,n))\n",
    "1-(((truck_sim < p).sum(axis = 1) == 0).mean())"
   ]
  },
  {
   "cell_type": "code",
   "execution_count": 104,
   "id": "78fe53ab",
   "metadata": {},
   "outputs": [
    {
     "data": {
      "text/plain": [
       "array([[ True, False, False],\n",
       "       [False,  True,  True],\n",
       "       [ True,  True,  True],\n",
       "       ...,\n",
       "       [ True,  True,  True],\n",
       "       [False,  True, False],\n",
       "       [ True,  True,  True]])"
      ]
     },
     "execution_count": 104,
     "metadata": {},
     "output_type": "execute_result"
    }
   ],
   "source": [
    "truck_sim < p"
   ]
  },
  {
   "cell_type": "code",
   "execution_count": null,
   "id": "8d68be08",
   "metadata": {},
   "outputs": [],
   "source": [
    "# How likely is it that a food truck will show up sometime this week?"
   ]
  },
  {
   "cell_type": "code",
   "execution_count": 105,
   "id": "cbf61c65",
   "metadata": {},
   "outputs": [
    {
     "data": {
      "text/plain": [
       "0.99979"
      ]
     },
     "execution_count": 105,
     "metadata": {},
     "output_type": "execute_result"
    }
   ],
   "source": [
    "p = 0.7\n",
    "n = 7\n",
    "sim = 10**5\n",
    "truck_sim = np.random.random((sim,n))\n",
    "((truck_sim < p).sum(axis = 1) != 0).mean()"
   ]
  },
  {
   "cell_type": "markdown",
   "id": "912a01a1",
   "metadata": {},
   "source": [
    "#8\n",
    "If 23 people are in the same room, what are the odds that two of them share a birthday? "
   ]
  },
  {
   "cell_type": "code",
   "execution_count": 93,
   "id": "6be19824",
   "metadata": {},
   "outputs": [],
   "source": [
    "ncol = 23\n",
    "nrow = 10**5\n",
    "outcome = list(range(365))\n",
    "sim = np.random.choice(outcome,(nrow,ncol))\n"
   ]
  },
  {
   "cell_type": "code",
   "execution_count": 94,
   "id": "ecb4eeeb",
   "metadata": {},
   "outputs": [],
   "source": [
    "sim = pd.DataFrame(sim)"
   ]
  },
  {
   "cell_type": "code",
   "execution_count": 89,
   "id": "f5d6d736",
   "metadata": {},
   "outputs": [
    {
     "data": {
      "text/html": [
       "<div>\n",
       "<style scoped>\n",
       "    .dataframe tbody tr th:only-of-type {\n",
       "        vertical-align: middle;\n",
       "    }\n",
       "\n",
       "    .dataframe tbody tr th {\n",
       "        vertical-align: top;\n",
       "    }\n",
       "\n",
       "    .dataframe thead th {\n",
       "        text-align: right;\n",
       "    }\n",
       "</style>\n",
       "<table border=\"1\" class=\"dataframe\">\n",
       "  <thead>\n",
       "    <tr style=\"text-align: right;\">\n",
       "      <th></th>\n",
       "      <th>0</th>\n",
       "      <th>1</th>\n",
       "      <th>2</th>\n",
       "      <th>3</th>\n",
       "      <th>4</th>\n",
       "      <th>5</th>\n",
       "      <th>6</th>\n",
       "      <th>7</th>\n",
       "      <th>8</th>\n",
       "      <th>9</th>\n",
       "      <th>...</th>\n",
       "      <th>13</th>\n",
       "      <th>14</th>\n",
       "      <th>15</th>\n",
       "      <th>16</th>\n",
       "      <th>17</th>\n",
       "      <th>18</th>\n",
       "      <th>19</th>\n",
       "      <th>20</th>\n",
       "      <th>21</th>\n",
       "      <th>22</th>\n",
       "    </tr>\n",
       "  </thead>\n",
       "  <tbody>\n",
       "    <tr>\n",
       "      <th>0</th>\n",
       "      <td>302</td>\n",
       "      <td>290</td>\n",
       "      <td>355</td>\n",
       "      <td>65</td>\n",
       "      <td>131</td>\n",
       "      <td>127</td>\n",
       "      <td>52</td>\n",
       "      <td>198</td>\n",
       "      <td>209</td>\n",
       "      <td>44</td>\n",
       "      <td>...</td>\n",
       "      <td>353</td>\n",
       "      <td>130</td>\n",
       "      <td>99</td>\n",
       "      <td>171</td>\n",
       "      <td>213</td>\n",
       "      <td>217</td>\n",
       "      <td>60</td>\n",
       "      <td>243</td>\n",
       "      <td>101</td>\n",
       "      <td>215</td>\n",
       "    </tr>\n",
       "    <tr>\n",
       "      <th>1</th>\n",
       "      <td>30</td>\n",
       "      <td>218</td>\n",
       "      <td>117</td>\n",
       "      <td>173</td>\n",
       "      <td>48</td>\n",
       "      <td>32</td>\n",
       "      <td>173</td>\n",
       "      <td>346</td>\n",
       "      <td>344</td>\n",
       "      <td>188</td>\n",
       "      <td>...</td>\n",
       "      <td>317</td>\n",
       "      <td>313</td>\n",
       "      <td>123</td>\n",
       "      <td>20</td>\n",
       "      <td>270</td>\n",
       "      <td>292</td>\n",
       "      <td>171</td>\n",
       "      <td>84</td>\n",
       "      <td>125</td>\n",
       "      <td>58</td>\n",
       "    </tr>\n",
       "    <tr>\n",
       "      <th>2</th>\n",
       "      <td>174</td>\n",
       "      <td>18</td>\n",
       "      <td>48</td>\n",
       "      <td>124</td>\n",
       "      <td>275</td>\n",
       "      <td>69</td>\n",
       "      <td>150</td>\n",
       "      <td>67</td>\n",
       "      <td>201</td>\n",
       "      <td>20</td>\n",
       "      <td>...</td>\n",
       "      <td>143</td>\n",
       "      <td>284</td>\n",
       "      <td>342</td>\n",
       "      <td>323</td>\n",
       "      <td>104</td>\n",
       "      <td>308</td>\n",
       "      <td>69</td>\n",
       "      <td>165</td>\n",
       "      <td>109</td>\n",
       "      <td>120</td>\n",
       "    </tr>\n",
       "    <tr>\n",
       "      <th>3</th>\n",
       "      <td>121</td>\n",
       "      <td>316</td>\n",
       "      <td>173</td>\n",
       "      <td>339</td>\n",
       "      <td>348</td>\n",
       "      <td>315</td>\n",
       "      <td>187</td>\n",
       "      <td>334</td>\n",
       "      <td>94</td>\n",
       "      <td>33</td>\n",
       "      <td>...</td>\n",
       "      <td>252</td>\n",
       "      <td>151</td>\n",
       "      <td>51</td>\n",
       "      <td>309</td>\n",
       "      <td>190</td>\n",
       "      <td>60</td>\n",
       "      <td>281</td>\n",
       "      <td>151</td>\n",
       "      <td>190</td>\n",
       "      <td>357</td>\n",
       "    </tr>\n",
       "    <tr>\n",
       "      <th>4</th>\n",
       "      <td>211</td>\n",
       "      <td>18</td>\n",
       "      <td>199</td>\n",
       "      <td>77</td>\n",
       "      <td>211</td>\n",
       "      <td>237</td>\n",
       "      <td>53</td>\n",
       "      <td>202</td>\n",
       "      <td>145</td>\n",
       "      <td>3</td>\n",
       "      <td>...</td>\n",
       "      <td>33</td>\n",
       "      <td>292</td>\n",
       "      <td>358</td>\n",
       "      <td>251</td>\n",
       "      <td>174</td>\n",
       "      <td>65</td>\n",
       "      <td>328</td>\n",
       "      <td>61</td>\n",
       "      <td>71</td>\n",
       "      <td>104</td>\n",
       "    </tr>\n",
       "  </tbody>\n",
       "</table>\n",
       "<p>5 rows × 23 columns</p>\n",
       "</div>"
      ],
      "text/plain": [
       "    0    1    2    3    4    5    6    7    8    9   ...   13   14   15   16  \\\n",
       "0  302  290  355   65  131  127   52  198  209   44  ...  353  130   99  171   \n",
       "1   30  218  117  173   48   32  173  346  344  188  ...  317  313  123   20   \n",
       "2  174   18   48  124  275   69  150   67  201   20  ...  143  284  342  323   \n",
       "3  121  316  173  339  348  315  187  334   94   33  ...  252  151   51  309   \n",
       "4  211   18  199   77  211  237   53  202  145    3  ...   33  292  358  251   \n",
       "\n",
       "    17   18   19   20   21   22  \n",
       "0  213  217   60  243  101  215  \n",
       "1  270  292  171   84  125   58  \n",
       "2  104  308   69  165  109  120  \n",
       "3  190   60  281  151  190  357  \n",
       "4  174   65  328   61   71  104  \n",
       "\n",
       "[5 rows x 23 columns]"
      ]
     },
     "execution_count": 89,
     "metadata": {},
     "output_type": "execute_result"
    }
   ],
   "source": [
    "sim.head()"
   ]
  },
  {
   "cell_type": "code",
   "execution_count": 41,
   "id": "4942ba68",
   "metadata": {},
   "outputs": [
    {
     "data": {
      "text/plain": [
       "0.3661"
      ]
     },
     "execution_count": 41,
     "metadata": {},
     "output_type": "execute_result"
    }
   ],
   "source": [
    "((sim.nunique(axis = 1))==22).mean()"
   ]
  },
  {
   "cell_type": "code",
   "execution_count": 46,
   "id": "befbe7b4",
   "metadata": {},
   "outputs": [
    {
     "data": {
      "text/plain": [
       "0.32394"
      ]
     },
     "execution_count": 46,
     "metadata": {},
     "output_type": "execute_result"
    }
   ],
   "source": [
    "ncol = 20\n",
    "nrow = 10**5\n",
    "outcome = list(range(365))\n",
    "sim = np.random.choice(outcome,(nrow,ncol))\n",
    "sim = pd.DataFrame(sim)\n",
    "(sim.nunique(axis=1)==19).mean()\n"
   ]
  },
  {
   "cell_type": "code",
   "execution_count": 47,
   "id": "103ae8f1",
   "metadata": {},
   "outputs": [
    {
     "data": {
      "text/plain": [
       "0.25849"
      ]
     },
     "execution_count": 47,
     "metadata": {},
     "output_type": "execute_result"
    }
   ],
   "source": [
    "ncol = 40\n",
    "nrow = 10**5\n",
    "outcome = list(range(365))\n",
    "sim = np.random.choice(outcome,(nrow,ncol))\n",
    "sim = pd.DataFrame(sim)\n",
    "(sim.nunique(axis=1)==39).mean()\n"
   ]
  },
  {
   "cell_type": "code",
   "execution_count": 35,
   "id": "278e8fbd",
   "metadata": {},
   "outputs": [
    {
     "data": {
      "text/plain": [
       "0.0017927250843603835"
      ]
     },
     "execution_count": 35,
     "metadata": {},
     "output_type": "execute_result"
    }
   ],
   "source": [
    "from scipy import stats\n",
    "stats.binom(23,1/365).pmf(2)"
   ]
  },
  {
   "cell_type": "code",
   "execution_count": 36,
   "id": "2cb29f13",
   "metadata": {},
   "outputs": [
    {
     "data": {
      "text/plain": [
       "0.001357441797251752"
      ]
     },
     "execution_count": 36,
     "metadata": {},
     "output_type": "execute_result"
    }
   ],
   "source": [
    "# What if it's 20 people?\n",
    "stats.binom(20,1/365).pmf(2)"
   ]
  },
  {
   "cell_type": "code",
   "execution_count": 3,
   "id": "e8f06496",
   "metadata": {},
   "outputs": [
    {
     "data": {
      "text/plain": [
       "1.0"
      ]
     },
     "execution_count": 3,
     "metadata": {},
     "output_type": "execute_result"
    }
   ],
   "source": [
    "n_people = 20\n",
    "\n",
    "birthdays = np.random.choice(outcomes, (n_trials, n_people))\n",
    "birthdays = pd.DataFrame(birthdays)\n",
    "\n",
    "(birthdays.nunique(axis=1) < n_people).mean()"
   ]
  },
  {
   "cell_type": "code",
   "execution_count": 37,
   "id": "f7ff0245",
   "metadata": {},
   "outputs": [
    {
     "data": {
      "text/plain": [
       "0.005275123152643251"
      ]
     },
     "execution_count": 37,
     "metadata": {},
     "output_type": "execute_result"
    }
   ],
   "source": [
    "# 40?\n",
    "stats.binom(40,1/365).pmf(2)"
   ]
  },
  {
   "cell_type": "code",
   "execution_count": 2,
   "id": "debe0023",
   "metadata": {},
   "outputs": [
    {
     "data": {
      "text/plain": [
       "1.0"
      ]
     },
     "execution_count": 2,
     "metadata": {},
     "output_type": "execute_result"
    }
   ],
   "source": [
    "#another way\n",
    "n_people = 40\n",
    "\n",
    "birthdays = np.random.choice(outcomes, (n_trials, n_people))\n",
    "birthdays = pd.DataFrame(birthdays)\n",
    "\n",
    "(birthdays.nunique(axis=1) < n_people).mean()"
   ]
  },
  {
   "cell_type": "code",
   "execution_count": null,
   "id": "7a7dceb0",
   "metadata": {},
   "outputs": [],
   "source": []
  }
 ],
 "metadata": {
  "kernelspec": {
   "display_name": "Python 3 (ipykernel)",
   "language": "python",
   "name": "python3"
  },
  "language_info": {
   "codemirror_mode": {
    "name": "ipython",
    "version": 3
   },
   "file_extension": ".py",
   "mimetype": "text/x-python",
   "name": "python",
   "nbconvert_exporter": "python",
   "pygments_lexer": "ipython3",
   "version": "3.11.5"
  }
 },
 "nbformat": 4,
 "nbformat_minor": 5
}
