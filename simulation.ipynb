{
 "cells": [
  {
   "cell_type": "code",
   "execution_count": 16,
   "id": "661ddd5a",
   "metadata": {},
   "outputs": [],
   "source": [
    "# 1. How likely is it that you roll doubles when rolling two dice?\n",
    "\n",
    "import numpy as np\n",
    "import pandas as pd\n",
    "\n",
    "n_trials = nrows = 10**5\n",
    "n_dices = ncols = 2\n",
    "outcomes = list(range(1,7))\n",
    "\n",
    "roll = np.random.choice(outcomes,(nrows,ncols))\n",
    "roll = pd.DataFrame(roll)\n",
    "roll.columns = ['first','second']\n"
   ]
  },
  {
   "cell_type": "code",
   "execution_count": 30,
   "id": "bf63f7cb",
   "metadata": {},
   "outputs": [
    {
     "data": {
      "text/plain": [
       "0.16689"
      ]
     },
     "execution_count": 30,
     "metadata": {},
     "output_type": "execute_result"
    }
   ],
   "source": [
    "(roll['first'] == roll['second']).mean()"
   ]
  },
  {
   "cell_type": "code",
   "execution_count": 39,
   "id": "919dc4e6",
   "metadata": {},
   "outputs": [],
   "source": [
    "# 2.a If you flip 8 coins, what is the probability of getting exactly 3 heads?\n",
    "n_coins = ncols = 8\n",
    "n_trials = nrows = 10**5\n",
    "outcomes = ['h','t']\n",
    "\n",
    "coin = np.random.choice(outcomes,(nrows,ncols))\n",
    "coin = pd.DataFrame(coin)\n",
    "coin.columns = ['1','2','3','4','5','6','7','8']\n"
   ]
  },
  {
   "cell_type": "code",
   "execution_count": 42,
   "id": "cdfbf26e",
   "metadata": {},
   "outputs": [
    {
     "data": {
      "text/plain": [
       "0.21976"
      ]
     },
     "execution_count": 42,
     "metadata": {},
     "output_type": "execute_result"
    }
   ],
   "source": [
    "(((coin == 'h').sum(axis = 1)) == 3).mean()"
   ]
  },
  {
   "cell_type": "code",
   "execution_count": null,
   "id": "910760c9",
   "metadata": {},
   "outputs": [],
   "source": [
    "# 2.b What is the probability of getting more than 3 heads?"
   ]
  },
  {
   "cell_type": "code",
   "execution_count": 43,
   "id": "51cbceec",
   "metadata": {},
   "outputs": [
    {
     "data": {
      "text/plain": [
       "0.63491"
      ]
     },
     "execution_count": 43,
     "metadata": {},
     "output_type": "execute_result"
    }
   ],
   "source": [
    "(((coin == 'h').sum(axis = 1)) > 3).mean()"
   ]
  },
  {
   "cell_type": "markdown",
   "id": "68b05c91",
   "metadata": {},
   "source": [
    "#3 There are approximitely 3 web development cohorts for every 1 data science cohort at Codeup. Assuming that Codeup randomly selects an alumni to put on a billboard, what are the odds that the two billboards I drive past both have data science students on them?"
   ]
  },
  {
   "cell_type": "code",
   "execution_count": 44,
   "id": "6755f405",
   "metadata": {},
   "outputs": [
    {
     "data": {
      "text/plain": [
       "0.0625"
      ]
     },
     "execution_count": 44,
     "metadata": {},
     "output_type": "execute_result"
    }
   ],
   "source": [
    "(1/4) * (1/4) # multiplication rule for independent events"
   ]
  },
  {
   "cell_type": "code",
   "execution_count": 45,
   "id": "c2be7ec6",
   "metadata": {},
   "outputs": [],
   "source": [
    "# another way\n",
    "p = 0.25\n",
    "ncol = 2\n",
    "nrow = 10**5\n",
    "\n",
    "board = np.random.random((nrow,ncol))"
   ]
  },
  {
   "cell_type": "code",
   "execution_count": 50,
   "id": "35426846",
   "metadata": {},
   "outputs": [
    {
     "data": {
      "text/plain": [
       "0.06222"
      ]
     },
     "execution_count": 50,
     "metadata": {},
     "output_type": "execute_result"
    }
   ],
   "source": [
    "(((board < p).sum(axis = 1)) == 2).mean()"
   ]
  },
  {
   "cell_type": "code",
   "execution_count": 52,
   "id": "2bd5dc3c",
   "metadata": {},
   "outputs": [
    {
     "data": {
      "text/plain": [
       "0.0625"
      ]
     },
     "execution_count": 52,
     "metadata": {},
     "output_type": "execute_result"
    }
   ],
   "source": [
    "# another way\n",
    "from scipy import stats\n",
    "\n",
    "stats.binom(2,0.25).pmf(2)"
   ]
  },
  {
   "cell_type": "code",
   "execution_count": 53,
   "id": "95c5febb",
   "metadata": {},
   "outputs": [
    {
     "data": {
      "text/plain": [
       "0.0625"
      ]
     },
     "execution_count": 53,
     "metadata": {},
     "output_type": "execute_result"
    }
   ],
   "source": [
    "# another way\n",
    "stats.binom(2,0.25).sf(1)"
   ]
  },
  {
   "cell_type": "markdown",
   "id": "ddc532ce",
   "metadata": {},
   "source": [
    "#4 \n",
    "Codeup students buy, on average, 3 poptart packages with a standard deviation of 1.5 a day from the snack vending machine. If on monday the machine is restocked with 17 poptart packages, how likely is it that I will be able to buy some poptarts on Friday afternoon? (Remember, if you have mean and standard deviation, use the np.random.normal) You'll need to make a judgement call on how to handle some of your values"
   ]
  },
  {
   "cell_type": "code",
   "execution_count": 98,
   "id": "70177591",
   "metadata": {},
   "outputs": [
    {
     "data": {
      "text/plain": [
       "array([14.70470902,  1.44482808])"
      ]
     },
     "execution_count": 98,
     "metadata": {},
     "output_type": "execute_result"
    }
   ],
   "source": [
    "np.random.normal((15, 1.5))\n"
   ]
  },
  {
   "cell_type": "code",
   "execution_count": 70,
   "id": "271ab22a",
   "metadata": {},
   "outputs": [
    {
     "data": {
      "text/plain": [
       "0.7475074624530771"
      ]
     },
     "execution_count": 70,
     "metadata": {},
     "output_type": "execute_result"
    }
   ],
   "source": [
    "stats.norm(15,1.5).cdf(16)"
   ]
  },
  {
   "cell_type": "code",
   "execution_count": 71,
   "id": "1d0e7577",
   "metadata": {},
   "outputs": [
    {
     "data": {
      "text/plain": [
       "0.2524925375469229"
      ]
     },
     "execution_count": 71,
     "metadata": {},
     "output_type": "execute_result"
    }
   ],
   "source": [
    "stats.norm(15,1.5).sf(16)"
   ]
  },
  {
   "cell_type": "markdown",
   "id": "c646e485",
   "metadata": {},
   "source": [
    "#5\n",
    "Compare Heights\n",
    "\n",
    "Men have an average height of 178 cm and standard deviation of 8cm.\n",
    "Women have a mean of 170, sd = 6cm.\n",
    "Since you have means and standard deviations, you can use np.random.normal to generate observations.\n",
    "If a man and woman are chosen at random, what is the likelihood the woman is taller than the man?"
   ]
  },
  {
   "cell_type": "code",
   "execution_count": 82,
   "id": "e1f4ddf0",
   "metadata": {},
   "outputs": [
    {
     "data": {
      "text/plain": [
       "False"
      ]
     },
     "execution_count": 82,
     "metadata": {},
     "output_type": "execute_result"
    }
   ],
   "source": [
    "(np.random.normal(170, 6) > np.random.normal(178, 8))"
   ]
  },
  {
   "cell_type": "markdown",
   "id": "d2e58b4a",
   "metadata": {},
   "source": [
    "#6\n",
    "When installing anaconda on a student's computer, there's a 1 in 250 chance that the download is corrupted and the installation fails. What are the odds that after having 50 students download anaconda, no one has an installation issue? 100 students?\n",
    "\n",
    "What is the probability that we observe an installation issue within the first 150 students that download anaconda?\n",
    "\n",
    "How likely is it that 450 students all download anaconda without an issue?"
   ]
  },
  {
   "cell_type": "code",
   "execution_count": 91,
   "id": "8c8bb0bf",
   "metadata": {},
   "outputs": [
    {
     "data": {
      "text/plain": [
       "0.8184024506760997"
      ]
     },
     "execution_count": 91,
     "metadata": {},
     "output_type": "execute_result"
    }
   ],
   "source": [
    "# What are the odds that after having 50 students download anaconda, \n",
    "# no one has an installation issue?\n",
    "stats.binom(50,249/250).pmf(50)"
   ]
  },
  {
   "cell_type": "code",
   "execution_count": 93,
   "id": "cbb3f4cf",
   "metadata": {},
   "outputs": [
    {
     "data": {
      "text/plain": [
       "0.6697825712726458"
      ]
     },
     "execution_count": 93,
     "metadata": {},
     "output_type": "execute_result"
    }
   ],
   "source": [
    "# 100 students?\n",
    "stats.binom(100,249/250).pmf(100)"
   ]
  },
  {
   "cell_type": "code",
   "execution_count": 94,
   "id": "f226bcb5",
   "metadata": {},
   "outputs": [
    {
     "data": {
      "text/plain": [
       "0.4518483022503269"
      ]
     },
     "execution_count": 94,
     "metadata": {},
     "output_type": "execute_result"
    }
   ],
   "source": [
    "# 150 and issue?\n",
    "stats.binom(150,1/250).sf(0)"
   ]
  },
  {
   "cell_type": "code",
   "execution_count": 95,
   "id": "60b90ae0",
   "metadata": {},
   "outputs": [
    {
     "data": {
      "text/plain": [
       "0.1647032961586129"
      ]
     },
     "execution_count": 95,
     "metadata": {},
     "output_type": "execute_result"
    }
   ],
   "source": [
    "# 450 no issue?\n",
    "stats.binom(450,249/250).pmf(450)"
   ]
  },
  {
   "cell_type": "markdown",
   "id": "61d33c55",
   "metadata": {},
   "source": [
    "#7\n",
    "There's a 70% chance on any given day that there will be at least one food truck at Travis Park. However, you haven't seen a food truck there in 3 days. "
   ]
  },
  {
   "cell_type": "code",
   "execution_count": 106,
   "id": "08798fee",
   "metadata": {},
   "outputs": [
    {
     "data": {
      "text/plain": [
       "0.9736"
      ]
     },
     "execution_count": 106,
     "metadata": {},
     "output_type": "execute_result"
    }
   ],
   "source": [
    "#  How unlikely is this?\n",
    "p = 0.7\n",
    "n = 3\n",
    "sim = 10**5\n",
    "truck_sim = np.random.random((sim,n))\n",
    "1-(((truck_sim < p).sum(axis = 1) == 0).mean())"
   ]
  },
  {
   "cell_type": "code",
   "execution_count": null,
   "id": "ff7428e4",
   "metadata": {},
   "outputs": [],
   "source": [
    "# How likely is it that a food truck will show up sometime this week?"
   ]
  },
  {
   "cell_type": "code",
   "execution_count": 105,
   "id": "1a5d1992",
   "metadata": {},
   "outputs": [
    {
     "data": {
      "text/plain": [
       "0.99979"
      ]
     },
     "execution_count": 105,
     "metadata": {},
     "output_type": "execute_result"
    }
   ],
   "source": [
    "p = 0.7\n",
    "n = 7\n",
    "sim = 10**5\n",
    "truck_sim = np.random.random((sim,n))\n",
    "((truck_sim < p).sum(axis = 1) != 0).mean()"
   ]
  },
  {
   "cell_type": "markdown",
   "id": "c91b44b6",
   "metadata": {},
   "source": [
    "#8\n",
    "If 23 people are in the same room, what are the odds that two of them share a birthday? "
   ]
  },
  {
   "cell_type": "code",
   "execution_count": 21,
   "id": "62a5547b",
   "metadata": {},
   "outputs": [],
   "source": [
    "ncol = 23\n",
    "nrow = 10**5\n",
    "outcome = list(range(365))\n",
    "sim = np.random.choice(outcome,(nrow,ncol))\n"
   ]
  },
  {
   "cell_type": "code",
   "execution_count": 29,
   "id": "41d84f4e",
   "metadata": {},
   "outputs": [
    {
     "data": {
      "text/html": [
       "<div>\n",
       "<style scoped>\n",
       "    .dataframe tbody tr th:only-of-type {\n",
       "        vertical-align: middle;\n",
       "    }\n",
       "\n",
       "    .dataframe tbody tr th {\n",
       "        vertical-align: top;\n",
       "    }\n",
       "\n",
       "    .dataframe thead th {\n",
       "        text-align: right;\n",
       "    }\n",
       "</style>\n",
       "<table border=\"1\" class=\"dataframe\">\n",
       "  <thead>\n",
       "    <tr style=\"text-align: right;\">\n",
       "      <th></th>\n",
       "      <th>0</th>\n",
       "      <th>1</th>\n",
       "      <th>2</th>\n",
       "      <th>3</th>\n",
       "      <th>4</th>\n",
       "      <th>5</th>\n",
       "      <th>6</th>\n",
       "      <th>7</th>\n",
       "      <th>8</th>\n",
       "      <th>9</th>\n",
       "      <th>...</th>\n",
       "      <th>13</th>\n",
       "      <th>14</th>\n",
       "      <th>15</th>\n",
       "      <th>16</th>\n",
       "      <th>17</th>\n",
       "      <th>18</th>\n",
       "      <th>19</th>\n",
       "      <th>20</th>\n",
       "      <th>21</th>\n",
       "      <th>22</th>\n",
       "    </tr>\n",
       "  </thead>\n",
       "  <tbody>\n",
       "    <tr>\n",
       "      <th>0</th>\n",
       "      <td>24</td>\n",
       "      <td>29</td>\n",
       "      <td>83</td>\n",
       "      <td>304</td>\n",
       "      <td>142</td>\n",
       "      <td>174</td>\n",
       "      <td>274</td>\n",
       "      <td>165</td>\n",
       "      <td>81</td>\n",
       "      <td>236</td>\n",
       "      <td>...</td>\n",
       "      <td>300</td>\n",
       "      <td>99</td>\n",
       "      <td>306</td>\n",
       "      <td>208</td>\n",
       "      <td>267</td>\n",
       "      <td>8</td>\n",
       "      <td>109</td>\n",
       "      <td>100</td>\n",
       "      <td>202</td>\n",
       "      <td>226</td>\n",
       "    </tr>\n",
       "    <tr>\n",
       "      <th>1</th>\n",
       "      <td>35</td>\n",
       "      <td>10</td>\n",
       "      <td>321</td>\n",
       "      <td>149</td>\n",
       "      <td>161</td>\n",
       "      <td>61</td>\n",
       "      <td>238</td>\n",
       "      <td>241</td>\n",
       "      <td>64</td>\n",
       "      <td>319</td>\n",
       "      <td>...</td>\n",
       "      <td>278</td>\n",
       "      <td>218</td>\n",
       "      <td>39</td>\n",
       "      <td>100</td>\n",
       "      <td>16</td>\n",
       "      <td>200</td>\n",
       "      <td>83</td>\n",
       "      <td>28</td>\n",
       "      <td>220</td>\n",
       "      <td>28</td>\n",
       "    </tr>\n",
       "    <tr>\n",
       "      <th>2</th>\n",
       "      <td>352</td>\n",
       "      <td>170</td>\n",
       "      <td>76</td>\n",
       "      <td>57</td>\n",
       "      <td>145</td>\n",
       "      <td>286</td>\n",
       "      <td>51</td>\n",
       "      <td>362</td>\n",
       "      <td>180</td>\n",
       "      <td>69</td>\n",
       "      <td>...</td>\n",
       "      <td>273</td>\n",
       "      <td>301</td>\n",
       "      <td>302</td>\n",
       "      <td>129</td>\n",
       "      <td>48</td>\n",
       "      <td>25</td>\n",
       "      <td>357</td>\n",
       "      <td>56</td>\n",
       "      <td>47</td>\n",
       "      <td>45</td>\n",
       "    </tr>\n",
       "    <tr>\n",
       "      <th>3</th>\n",
       "      <td>123</td>\n",
       "      <td>47</td>\n",
       "      <td>250</td>\n",
       "      <td>213</td>\n",
       "      <td>343</td>\n",
       "      <td>303</td>\n",
       "      <td>193</td>\n",
       "      <td>101</td>\n",
       "      <td>353</td>\n",
       "      <td>207</td>\n",
       "      <td>...</td>\n",
       "      <td>290</td>\n",
       "      <td>26</td>\n",
       "      <td>118</td>\n",
       "      <td>251</td>\n",
       "      <td>254</td>\n",
       "      <td>182</td>\n",
       "      <td>186</td>\n",
       "      <td>359</td>\n",
       "      <td>55</td>\n",
       "      <td>164</td>\n",
       "    </tr>\n",
       "    <tr>\n",
       "      <th>4</th>\n",
       "      <td>89</td>\n",
       "      <td>349</td>\n",
       "      <td>325</td>\n",
       "      <td>245</td>\n",
       "      <td>70</td>\n",
       "      <td>136</td>\n",
       "      <td>58</td>\n",
       "      <td>330</td>\n",
       "      <td>187</td>\n",
       "      <td>29</td>\n",
       "      <td>...</td>\n",
       "      <td>51</td>\n",
       "      <td>181</td>\n",
       "      <td>255</td>\n",
       "      <td>349</td>\n",
       "      <td>295</td>\n",
       "      <td>299</td>\n",
       "      <td>177</td>\n",
       "      <td>108</td>\n",
       "      <td>227</td>\n",
       "      <td>207</td>\n",
       "    </tr>\n",
       "    <tr>\n",
       "      <th>...</th>\n",
       "      <td>...</td>\n",
       "      <td>...</td>\n",
       "      <td>...</td>\n",
       "      <td>...</td>\n",
       "      <td>...</td>\n",
       "      <td>...</td>\n",
       "      <td>...</td>\n",
       "      <td>...</td>\n",
       "      <td>...</td>\n",
       "      <td>...</td>\n",
       "      <td>...</td>\n",
       "      <td>...</td>\n",
       "      <td>...</td>\n",
       "      <td>...</td>\n",
       "      <td>...</td>\n",
       "      <td>...</td>\n",
       "      <td>...</td>\n",
       "      <td>...</td>\n",
       "      <td>...</td>\n",
       "      <td>...</td>\n",
       "      <td>...</td>\n",
       "    </tr>\n",
       "    <tr>\n",
       "      <th>99995</th>\n",
       "      <td>105</td>\n",
       "      <td>137</td>\n",
       "      <td>287</td>\n",
       "      <td>298</td>\n",
       "      <td>86</td>\n",
       "      <td>23</td>\n",
       "      <td>291</td>\n",
       "      <td>192</td>\n",
       "      <td>196</td>\n",
       "      <td>216</td>\n",
       "      <td>...</td>\n",
       "      <td>78</td>\n",
       "      <td>72</td>\n",
       "      <td>46</td>\n",
       "      <td>24</td>\n",
       "      <td>152</td>\n",
       "      <td>91</td>\n",
       "      <td>103</td>\n",
       "      <td>18</td>\n",
       "      <td>308</td>\n",
       "      <td>293</td>\n",
       "    </tr>\n",
       "    <tr>\n",
       "      <th>99996</th>\n",
       "      <td>56</td>\n",
       "      <td>251</td>\n",
       "      <td>130</td>\n",
       "      <td>158</td>\n",
       "      <td>354</td>\n",
       "      <td>267</td>\n",
       "      <td>205</td>\n",
       "      <td>316</td>\n",
       "      <td>81</td>\n",
       "      <td>169</td>\n",
       "      <td>...</td>\n",
       "      <td>248</td>\n",
       "      <td>63</td>\n",
       "      <td>348</td>\n",
       "      <td>256</td>\n",
       "      <td>44</td>\n",
       "      <td>129</td>\n",
       "      <td>308</td>\n",
       "      <td>354</td>\n",
       "      <td>121</td>\n",
       "      <td>58</td>\n",
       "    </tr>\n",
       "    <tr>\n",
       "      <th>99997</th>\n",
       "      <td>137</td>\n",
       "      <td>209</td>\n",
       "      <td>349</td>\n",
       "      <td>161</td>\n",
       "      <td>70</td>\n",
       "      <td>231</td>\n",
       "      <td>89</td>\n",
       "      <td>122</td>\n",
       "      <td>124</td>\n",
       "      <td>76</td>\n",
       "      <td>...</td>\n",
       "      <td>83</td>\n",
       "      <td>270</td>\n",
       "      <td>226</td>\n",
       "      <td>321</td>\n",
       "      <td>71</td>\n",
       "      <td>199</td>\n",
       "      <td>337</td>\n",
       "      <td>70</td>\n",
       "      <td>238</td>\n",
       "      <td>48</td>\n",
       "    </tr>\n",
       "    <tr>\n",
       "      <th>99998</th>\n",
       "      <td>318</td>\n",
       "      <td>271</td>\n",
       "      <td>336</td>\n",
       "      <td>279</td>\n",
       "      <td>154</td>\n",
       "      <td>295</td>\n",
       "      <td>185</td>\n",
       "      <td>8</td>\n",
       "      <td>7</td>\n",
       "      <td>275</td>\n",
       "      <td>...</td>\n",
       "      <td>61</td>\n",
       "      <td>24</td>\n",
       "      <td>130</td>\n",
       "      <td>168</td>\n",
       "      <td>257</td>\n",
       "      <td>59</td>\n",
       "      <td>52</td>\n",
       "      <td>116</td>\n",
       "      <td>348</td>\n",
       "      <td>6</td>\n",
       "    </tr>\n",
       "    <tr>\n",
       "      <th>99999</th>\n",
       "      <td>140</td>\n",
       "      <td>113</td>\n",
       "      <td>35</td>\n",
       "      <td>305</td>\n",
       "      <td>121</td>\n",
       "      <td>219</td>\n",
       "      <td>287</td>\n",
       "      <td>32</td>\n",
       "      <td>240</td>\n",
       "      <td>60</td>\n",
       "      <td>...</td>\n",
       "      <td>30</td>\n",
       "      <td>104</td>\n",
       "      <td>149</td>\n",
       "      <td>343</td>\n",
       "      <td>148</td>\n",
       "      <td>209</td>\n",
       "      <td>66</td>\n",
       "      <td>276</td>\n",
       "      <td>198</td>\n",
       "      <td>294</td>\n",
       "    </tr>\n",
       "  </tbody>\n",
       "</table>\n",
       "<p>100000 rows × 23 columns</p>\n",
       "</div>"
      ],
      "text/plain": [
       "        0    1    2    3    4    5    6    7    8    9   ...   13   14   15  \\\n",
       "0       24   29   83  304  142  174  274  165   81  236  ...  300   99  306   \n",
       "1       35   10  321  149  161   61  238  241   64  319  ...  278  218   39   \n",
       "2      352  170   76   57  145  286   51  362  180   69  ...  273  301  302   \n",
       "3      123   47  250  213  343  303  193  101  353  207  ...  290   26  118   \n",
       "4       89  349  325  245   70  136   58  330  187   29  ...   51  181  255   \n",
       "...    ...  ...  ...  ...  ...  ...  ...  ...  ...  ...  ...  ...  ...  ...   \n",
       "99995  105  137  287  298   86   23  291  192  196  216  ...   78   72   46   \n",
       "99996   56  251  130  158  354  267  205  316   81  169  ...  248   63  348   \n",
       "99997  137  209  349  161   70  231   89  122  124   76  ...   83  270  226   \n",
       "99998  318  271  336  279  154  295  185    8    7  275  ...   61   24  130   \n",
       "99999  140  113   35  305  121  219  287   32  240   60  ...   30  104  149   \n",
       "\n",
       "        16   17   18   19   20   21   22  \n",
       "0      208  267    8  109  100  202  226  \n",
       "1      100   16  200   83   28  220   28  \n",
       "2      129   48   25  357   56   47   45  \n",
       "3      251  254  182  186  359   55  164  \n",
       "4      349  295  299  177  108  227  207  \n",
       "...    ...  ...  ...  ...  ...  ...  ...  \n",
       "99995   24  152   91  103   18  308  293  \n",
       "99996  256   44  129  308  354  121   58  \n",
       "99997  321   71  199  337   70  238   48  \n",
       "99998  168  257   59   52  116  348    6  \n",
       "99999  343  148  209   66  276  198  294  \n",
       "\n",
       "[100000 rows x 23 columns]"
      ]
     },
     "execution_count": 29,
     "metadata": {},
     "output_type": "execute_result"
    }
   ],
   "source": [
    "sim = pd.DataFrame(sim)\n",
    "sim"
   ]
  },
  {
   "cell_type": "code",
   "execution_count": 41,
   "id": "03a7504d",
   "metadata": {},
   "outputs": [
    {
     "data": {
      "text/plain": [
       "0.3661"
      ]
     },
     "execution_count": 41,
     "metadata": {},
     "output_type": "execute_result"
    }
   ],
   "source": [
    "((sim.nunique(axis = 1))==22).mean()"
   ]
  },
  {
   "cell_type": "code",
   "execution_count": 46,
   "id": "9bd235ea",
   "metadata": {},
   "outputs": [
    {
     "data": {
      "text/plain": [
       "0.32394"
      ]
     },
     "execution_count": 46,
     "metadata": {},
     "output_type": "execute_result"
    }
   ],
   "source": [
    "ncol = 20\n",
    "nrow = 10**5\n",
    "outcome = list(range(365))\n",
    "sim = np.random.choice(outcome,(nrow,ncol))\n",
    "sim = pd.DataFrame(sim)\n",
    "(sim.nunique(axis=1)==19).mean()\n"
   ]
  },
  {
   "cell_type": "code",
   "execution_count": 47,
   "id": "6abba2f3",
   "metadata": {},
   "outputs": [
    {
     "data": {
      "text/plain": [
       "0.25849"
      ]
     },
     "execution_count": 47,
     "metadata": {},
     "output_type": "execute_result"
    }
   ],
   "source": [
    "ncol = 40\n",
    "nrow = 10**5\n",
    "outcome = list(range(365))\n",
    "sim = np.random.choice(outcome,(nrow,ncol))\n",
    "sim = pd.DataFrame(sim)\n",
    "(sim.nunique(axis=1)==39).mean()\n"
   ]
  },
  {
   "cell_type": "code",
   "execution_count": 35,
   "id": "db378a66",
   "metadata": {},
   "outputs": [
    {
     "data": {
      "text/plain": [
       "0.0017927250843603835"
      ]
     },
     "execution_count": 35,
     "metadata": {},
     "output_type": "execute_result"
    }
   ],
   "source": [
    "from scipy import stats\n",
    "stats.binom(23,1/365).pmf(2)"
   ]
  },
  {
   "cell_type": "code",
   "execution_count": 36,
   "id": "531ffcab",
   "metadata": {},
   "outputs": [
    {
     "data": {
      "text/plain": [
       "0.001357441797251752"
      ]
     },
     "execution_count": 36,
     "metadata": {},
     "output_type": "execute_result"
    }
   ],
   "source": [
    "# What if it's 20 people?\n",
    "stats.binom(20,1/365).pmf(2)"
   ]
  },
  {
   "cell_type": "code",
   "execution_count": 37,
   "id": "73168749",
   "metadata": {},
   "outputs": [
    {
     "data": {
      "text/plain": [
       "0.005275123152643251"
      ]
     },
     "execution_count": 37,
     "metadata": {},
     "output_type": "execute_result"
    }
   ],
   "source": [
    "# 40?\n",
    "stats.binom(40,1/365).pmf(2)"
   ]
  }
 ],
 "metadata": {
  "kernelspec": {
   "display_name": "Python 3 (ipykernel)",
   "language": "python",
   "name": "python3"
  },
  "language_info": {
   "codemirror_mode": {
    "name": "ipython",
    "version": 3
   },
   "file_extension": ".py",
   "mimetype": "text/x-python",
   "name": "python",
   "nbconvert_exporter": "python",
   "pygments_lexer": "ipython3",
   "version": "3.11.5"
  }
 },
 "nbformat": 4,
 "nbformat_minor": 5
}
